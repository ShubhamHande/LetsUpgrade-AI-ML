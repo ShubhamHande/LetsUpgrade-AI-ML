{
 "cells": [
  {
   "cell_type": "code",
   "execution_count": 1,
   "metadata": {
    "scrolled": true
   },
   "outputs": [
    {
     "name": "stdout",
     "output_type": "stream",
     "text": [
      "Requirement already satisfied: tweepy in c:\\users\\hp\\anaconda3\\lib\\site-packages (3.9.0)\n",
      "Requirement already satisfied: requests[socks]>=2.11.1 in c:\\users\\hp\\anaconda3\\lib\\site-packages (from tweepy) (2.24.0)\n",
      "Requirement already satisfied: six>=1.10.0 in c:\\users\\hp\\anaconda3\\lib\\site-packages (from tweepy) (1.15.0)\n",
      "Requirement already satisfied: requests-oauthlib>=0.7.0 in c:\\users\\hp\\anaconda3\\lib\\site-packages (from tweepy) (1.3.0)\n",
      "Requirement already satisfied: urllib3!=1.25.0,!=1.25.1,<1.26,>=1.21.1 in c:\\users\\hp\\anaconda3\\lib\\site-packages (from requests[socks]>=2.11.1->tweepy) (1.25.9)\n",
      "Requirement already satisfied: chardet<4,>=3.0.2 in c:\\users\\hp\\anaconda3\\lib\\site-packages (from requests[socks]>=2.11.1->tweepy) (3.0.4)\n",
      "Requirement already satisfied: idna<3,>=2.5 in c:\\users\\hp\\anaconda3\\lib\\site-packages (from requests[socks]>=2.11.1->tweepy) (2.10)\n",
      "Requirement already satisfied: certifi>=2017.4.17 in c:\\users\\hp\\anaconda3\\lib\\site-packages (from requests[socks]>=2.11.1->tweepy) (2020.6.20)\n",
      "Requirement already satisfied: PySocks!=1.5.7,>=1.5.6; extra == \"socks\" in c:\\users\\hp\\anaconda3\\lib\\site-packages (from requests[socks]>=2.11.1->tweepy) (1.7.1)\n",
      "Requirement already satisfied: oauthlib>=3.0.0 in c:\\users\\hp\\anaconda3\\lib\\site-packages (from requests-oauthlib>=0.7.0->tweepy) (3.1.0)\n",
      "Note: you may need to restart the kernel to use updated packages.\n"
     ]
    }
   ],
   "source": [
    "pip install tweepy"
   ]
  },
  {
   "cell_type": "code",
   "execution_count": 2,
   "metadata": {},
   "outputs": [
    {
     "name": "stdout",
     "output_type": "stream",
     "text": [
      "Requirement already satisfied: openpyxl in c:\\users\\hp\\anaconda3\\lib\\site-packages (3.0.4)\n",
      "Requirement already satisfied: et-xmlfile in c:\\users\\hp\\anaconda3\\lib\\site-packages (from openpyxl) (1.0.1)\n",
      "Requirement already satisfied: jdcal in c:\\users\\hp\\anaconda3\\lib\\site-packages (from openpyxl) (1.4.1)\n",
      "Note: you may need to restart the kernel to use updated packages.\n"
     ]
    }
   ],
   "source": [
    "pip install openpyxl"
   ]
  },
  {
   "cell_type": "code",
   "execution_count": 3,
   "metadata": {},
   "outputs": [
    {
     "name": "stdout",
     "output_type": "stream",
     "text": [
      "Requirement already satisfied: Textblob in c:\\users\\hp\\anaconda3\\lib\\site-packages (0.15.3)\n",
      "Requirement already satisfied: nltk>=3.1 in c:\\users\\hp\\anaconda3\\lib\\site-packages (from Textblob) (3.5)\n",
      "Requirement already satisfied: tqdm in c:\\users\\hp\\anaconda3\\lib\\site-packages (from nltk>=3.1->Textblob) (4.47.0)\n",
      "Requirement already satisfied: joblib in c:\\users\\hp\\anaconda3\\lib\\site-packages (from nltk>=3.1->Textblob) (0.16.0)\n",
      "Requirement already satisfied: regex in c:\\users\\hp\\anaconda3\\lib\\site-packages (from nltk>=3.1->Textblob) (2020.6.8)\n",
      "Requirement already satisfied: click in c:\\users\\hp\\anaconda3\\lib\\site-packages (from nltk>=3.1->Textblob) (7.1.2)\n",
      "Note: you may need to restart the kernel to use updated packages.\n"
     ]
    }
   ],
   "source": [
    "pip install Textblob"
   ]
  },
  {
   "cell_type": "code",
   "execution_count": 4,
   "metadata": {},
   "outputs": [],
   "source": [
    "import numpy as np\n",
    "import pandas as pd\n",
    "import tweepy\n",
    "import json\n",
    "from tweepy import OAuthHandler"
   ]
  },
  {
   "cell_type": "code",
   "execution_count": 5,
   "metadata": {},
   "outputs": [],
   "source": [
    "consumer_key = \"aWWot8XJ0A0jjHFATihulmPvy\"\n",
    "consumer_secret = \"hA55Q9ekaB5AEWhCNU6LnkGneVh6AQgscOLxMwqvBMdyHPdAua\"\n",
    "access_token = \"1321764215133069313-HzEbRIpLsGks7PN08tBOGrERdPWtvD\"\n",
    "access_token_secret = \"5iitqyZhyFuXb7OrTB1MKKVYk2hegP1gIDrp2iDcqMg0g\""
   ]
  },
  {
   "cell_type": "code",
   "execution_count": 6,
   "metadata": {},
   "outputs": [],
   "source": [
    "auth = tweepy.OAuthHandler( consumer_key , consumer_secret )\n",
    "auth.set_access_token( access_token , access_token_secret )\n",
    "api = tweepy.API(auth)"
   ]
  },
  {
   "cell_type": "code",
   "execution_count": 7,
   "metadata": {},
   "outputs": [],
   "source": [
    "query = \"bjp win in bihar election 2020\""
   ]
  },
  {
   "cell_type": "code",
   "execution_count": 8,
   "metadata": {},
   "outputs": [
    {
     "name": "stdout",
     "output_type": "stream",
     "text": [
      "Status(_api=<tweepy.api.API object at 0x0000025696F2F848>, _json={'created_at': 'Fri Oct 30 07:54:30 +0000 2020', 'id': 1322084449580843008, 'id_str': '1322084449580843008', 'full_text': '\"In the 2015 #Bihar assembly elections, the PM addressed 31 rallies in the state, but the BJP could win only 53 of the 157 seats it contested,\"\\n\\n#BiharElections\\n https://t.co/XA5S5U6dei @moneycontrolcom', 'truncated': False, 'display_text_range': [0, 202], 'entities': {'hashtags': [{'text': 'Bihar', 'indices': [13, 19]}, {'text': 'BiharElections', 'indices': [145, 160]}], 'symbols': [], 'user_mentions': [{'screen_name': 'moneycontrolcom', 'name': 'moneycontrol', 'id': 68927629, 'id_str': '68927629', 'indices': [186, 202]}], 'urls': [{'url': 'https://t.co/XA5S5U6dei', 'expanded_url': 'https://www.moneycontrol.com/news/politics/bihar-election-2020-12-rallies-in-4-days-will-pm-modis-campaign-work-this-time-6039951.html', 'display_url': 'moneycontrol.com/news/politics/…', 'indices': [162, 185]}]}, 'metadata': {'iso_language_code': 'en', 'result_type': 'recent'}, 'source': '<a href=\"http://twitter.com/download/android\" rel=\"nofollow\">Twitter for Android</a>', 'in_reply_to_status_id': None, 'in_reply_to_status_id_str': None, 'in_reply_to_user_id': None, 'in_reply_to_user_id_str': None, 'in_reply_to_screen_name': None, 'user': {'id': 44857753, 'id_str': '44857753', 'name': 'Gulam Jeelani', 'screen_name': 'jeelanikash', 'location': 'New Delhi', 'description': 'Journalist, @moneycontrolcom | Ex, @IndiaToday, @htTweets, @CNNnews18, @StarTribune | Fellow, @AlfredFriendly, 2018 |\\n\\nSrinagar | Aligarh | Lucknow | Dilli', 'url': 'https://t.co/yO8naRvbyj', 'entities': {'url': {'urls': [{'url': 'https://t.co/yO8naRvbyj', 'expanded_url': 'https://www.moneycontrol.com/author/gulam-jeelani-11181/news/', 'display_url': 'moneycontrol.com/author/gulam-j…', 'indices': [0, 23]}]}, 'description': {'urls': []}}, 'protected': False, 'followers_count': 7076, 'friends_count': 2241, 'listed_count': 63, 'created_at': 'Fri Jun 05 09:31:33 +0000 2009', 'favourites_count': 41985, 'utc_offset': None, 'time_zone': None, 'geo_enabled': True, 'verified': True, 'statuses_count': 26112, 'lang': None, 'contributors_enabled': False, 'is_translator': False, 'is_translation_enabled': True, 'profile_background_color': 'C0DEED', 'profile_background_image_url': 'http://abs.twimg.com/images/themes/theme1/bg.png', 'profile_background_image_url_https': 'https://abs.twimg.com/images/themes/theme1/bg.png', 'profile_background_tile': False, 'profile_image_url': 'http://pbs.twimg.com/profile_images/1320241744647077888/Va-etdaz_normal.jpg', 'profile_image_url_https': 'https://pbs.twimg.com/profile_images/1320241744647077888/Va-etdaz_normal.jpg', 'profile_banner_url': 'https://pbs.twimg.com/profile_banners/44857753/1600345209', 'profile_link_color': '1DA1F2', 'profile_sidebar_border_color': 'C0DEED', 'profile_sidebar_fill_color': 'DDEEF6', 'profile_text_color': '333333', 'profile_use_background_image': True, 'has_extended_profile': False, 'default_profile': True, 'default_profile_image': False, 'following': False, 'follow_request_sent': False, 'notifications': False, 'translator_type': 'none'}, 'geo': None, 'coordinates': None, 'place': {'id': '2a04d50d4dfcd226', 'url': 'https://api.twitter.com/1.1/geo/id/2a04d50d4dfcd226.json', 'place_type': 'city', 'name': 'Anantnag', 'full_name': 'Anantnag, Jammu And Kashmir', 'country_code': '', 'country': '', 'contained_within': [], 'bounding_box': {'type': 'Polygon', 'coordinates': [[[74.7044366, 33.321178], [75.5997464, 33.321178], [75.5997464, 34.4090707], [74.7044366, 34.4090707]]]}, 'attributes': {}}, 'contributors': None, 'is_quote_status': False, 'retweet_count': 2, 'favorite_count': 1, 'favorited': False, 'retweeted': False, 'possibly_sensitive': False, 'lang': 'en'}, created_at=datetime.datetime(2020, 10, 30, 7, 54, 30), id=1322084449580843008, id_str='1322084449580843008', full_text='\"In the 2015 #Bihar assembly elections, the PM addressed 31 rallies in the state, but the BJP could win only 53 of the 157 seats it contested,\"\\n\\n#BiharElections\\n https://t.co/XA5S5U6dei @moneycontrolcom', truncated=False, display_text_range=[0, 202], entities={'hashtags': [{'text': 'Bihar', 'indices': [13, 19]}, {'text': 'BiharElections', 'indices': [145, 160]}], 'symbols': [], 'user_mentions': [{'screen_name': 'moneycontrolcom', 'name': 'moneycontrol', 'id': 68927629, 'id_str': '68927629', 'indices': [186, 202]}], 'urls': [{'url': 'https://t.co/XA5S5U6dei', 'expanded_url': 'https://www.moneycontrol.com/news/politics/bihar-election-2020-12-rallies-in-4-days-will-pm-modis-campaign-work-this-time-6039951.html', 'display_url': 'moneycontrol.com/news/politics/…', 'indices': [162, 185]}]}, metadata={'iso_language_code': 'en', 'result_type': 'recent'}, source='Twitter for Android', source_url='http://twitter.com/download/android', in_reply_to_status_id=None, in_reply_to_status_id_str=None, in_reply_to_user_id=None, in_reply_to_user_id_str=None, in_reply_to_screen_name=None, author=User(_api=<tweepy.api.API object at 0x0000025696F2F848>, _json={'id': 44857753, 'id_str': '44857753', 'name': 'Gulam Jeelani', 'screen_name': 'jeelanikash', 'location': 'New Delhi', 'description': 'Journalist, @moneycontrolcom | Ex, @IndiaToday, @htTweets, @CNNnews18, @StarTribune | Fellow, @AlfredFriendly, 2018 |\\n\\nSrinagar | Aligarh | Lucknow | Dilli', 'url': 'https://t.co/yO8naRvbyj', 'entities': {'url': {'urls': [{'url': 'https://t.co/yO8naRvbyj', 'expanded_url': 'https://www.moneycontrol.com/author/gulam-jeelani-11181/news/', 'display_url': 'moneycontrol.com/author/gulam-j…', 'indices': [0, 23]}]}, 'description': {'urls': []}}, 'protected': False, 'followers_count': 7076, 'friends_count': 2241, 'listed_count': 63, 'created_at': 'Fri Jun 05 09:31:33 +0000 2009', 'favourites_count': 41985, 'utc_offset': None, 'time_zone': None, 'geo_enabled': True, 'verified': True, 'statuses_count': 26112, 'lang': None, 'contributors_enabled': False, 'is_translator': False, 'is_translation_enabled': True, 'profile_background_color': 'C0DEED', 'profile_background_image_url': 'http://abs.twimg.com/images/themes/theme1/bg.png', 'profile_background_image_url_https': 'https://abs.twimg.com/images/themes/theme1/bg.png', 'profile_background_tile': False, 'profile_image_url': 'http://pbs.twimg.com/profile_images/1320241744647077888/Va-etdaz_normal.jpg', 'profile_image_url_https': 'https://pbs.twimg.com/profile_images/1320241744647077888/Va-etdaz_normal.jpg', 'profile_banner_url': 'https://pbs.twimg.com/profile_banners/44857753/1600345209', 'profile_link_color': '1DA1F2', 'profile_sidebar_border_color': 'C0DEED', 'profile_sidebar_fill_color': 'DDEEF6', 'profile_text_color': '333333', 'profile_use_background_image': True, 'has_extended_profile': False, 'default_profile': True, 'default_profile_image': False, 'following': False, 'follow_request_sent': False, 'notifications': False, 'translator_type': 'none'}, id=44857753, id_str='44857753', name='Gulam Jeelani', screen_name='jeelanikash', location='New Delhi', description='Journalist, @moneycontrolcom | Ex, @IndiaToday, @htTweets, @CNNnews18, @StarTribune | Fellow, @AlfredFriendly, 2018 |\\n\\nSrinagar | Aligarh | Lucknow | Dilli', url='https://t.co/yO8naRvbyj', entities={'url': {'urls': [{'url': 'https://t.co/yO8naRvbyj', 'expanded_url': 'https://www.moneycontrol.com/author/gulam-jeelani-11181/news/', 'display_url': 'moneycontrol.com/author/gulam-j…', 'indices': [0, 23]}]}, 'description': {'urls': []}}, protected=False, followers_count=7076, friends_count=2241, listed_count=63, created_at=datetime.datetime(2009, 6, 5, 9, 31, 33), favourites_count=41985, utc_offset=None, time_zone=None, geo_enabled=True, verified=True, statuses_count=26112, lang=None, contributors_enabled=False, is_translator=False, is_translation_enabled=True, profile_background_color='C0DEED', profile_background_image_url='http://abs.twimg.com/images/themes/theme1/bg.png', profile_background_image_url_https='https://abs.twimg.com/images/themes/theme1/bg.png', profile_background_tile=False, profile_image_url='http://pbs.twimg.com/profile_images/1320241744647077888/Va-etdaz_normal.jpg', profile_image_url_https='https://pbs.twimg.com/profile_images/1320241744647077888/Va-etdaz_normal.jpg', profile_banner_url='https://pbs.twimg.com/profile_banners/44857753/1600345209', profile_link_color='1DA1F2', profile_sidebar_border_color='C0DEED', profile_sidebar_fill_color='DDEEF6', profile_text_color='333333', profile_use_background_image=True, has_extended_profile=False, default_profile=True, default_profile_image=False, following=False, follow_request_sent=False, notifications=False, translator_type='none'), user=User(_api=<tweepy.api.API object at 0x0000025696F2F848>, _json={'id': 44857753, 'id_str': '44857753', 'name': 'Gulam Jeelani', 'screen_name': 'jeelanikash', 'location': 'New Delhi', 'description': 'Journalist, @moneycontrolcom | Ex, @IndiaToday, @htTweets, @CNNnews18, @StarTribune | Fellow, @AlfredFriendly, 2018 |\\n\\nSrinagar | Aligarh | Lucknow | Dilli', 'url': 'https://t.co/yO8naRvbyj', 'entities': {'url': {'urls': [{'url': 'https://t.co/yO8naRvbyj', 'expanded_url': 'https://www.moneycontrol.com/author/gulam-jeelani-11181/news/', 'display_url': 'moneycontrol.com/author/gulam-j…', 'indices': [0, 23]}]}, 'description': {'urls': []}}, 'protected': False, 'followers_count': 7076, 'friends_count': 2241, 'listed_count': 63, 'created_at': 'Fri Jun 05 09:31:33 +0000 2009', 'favourites_count': 41985, 'utc_offset': None, 'time_zone': None, 'geo_enabled': True, 'verified': True, 'statuses_count': 26112, 'lang': None, 'contributors_enabled': False, 'is_translator': False, 'is_translation_enabled': True, 'profile_background_color': 'C0DEED', 'profile_background_image_url': 'http://abs.twimg.com/images/themes/theme1/bg.png', 'profile_background_image_url_https': 'https://abs.twimg.com/images/themes/theme1/bg.png', 'profile_background_tile': False, 'profile_image_url': 'http://pbs.twimg.com/profile_images/1320241744647077888/Va-etdaz_normal.jpg', 'profile_image_url_https': 'https://pbs.twimg.com/profile_images/1320241744647077888/Va-etdaz_normal.jpg', 'profile_banner_url': 'https://pbs.twimg.com/profile_banners/44857753/1600345209', 'profile_link_color': '1DA1F2', 'profile_sidebar_border_color': 'C0DEED', 'profile_sidebar_fill_color': 'DDEEF6', 'profile_text_color': '333333', 'profile_use_background_image': True, 'has_extended_profile': False, 'default_profile': True, 'default_profile_image': False, 'following': False, 'follow_request_sent': False, 'notifications': False, 'translator_type': 'none'}, id=44857753, id_str='44857753', name='Gulam Jeelani', screen_name='jeelanikash', location='New Delhi', description='Journalist, @moneycontrolcom | Ex, @IndiaToday, @htTweets, @CNNnews18, @StarTribune | Fellow, @AlfredFriendly, 2018 |\\n\\nSrinagar | Aligarh | Lucknow | Dilli', url='https://t.co/yO8naRvbyj', entities={'url': {'urls': [{'url': 'https://t.co/yO8naRvbyj', 'expanded_url': 'https://www.moneycontrol.com/author/gulam-jeelani-11181/news/', 'display_url': 'moneycontrol.com/author/gulam-j…', 'indices': [0, 23]}]}, 'description': {'urls': []}}, protected=False, followers_count=7076, friends_count=2241, listed_count=63, created_at=datetime.datetime(2009, 6, 5, 9, 31, 33), favourites_count=41985, utc_offset=None, time_zone=None, geo_enabled=True, verified=True, statuses_count=26112, lang=None, contributors_enabled=False, is_translator=False, is_translation_enabled=True, profile_background_color='C0DEED', profile_background_image_url='http://abs.twimg.com/images/themes/theme1/bg.png', profile_background_image_url_https='https://abs.twimg.com/images/themes/theme1/bg.png', profile_background_tile=False, profile_image_url='http://pbs.twimg.com/profile_images/1320241744647077888/Va-etdaz_normal.jpg', profile_image_url_https='https://pbs.twimg.com/profile_images/1320241744647077888/Va-etdaz_normal.jpg', profile_banner_url='https://pbs.twimg.com/profile_banners/44857753/1600345209', profile_link_color='1DA1F2', profile_sidebar_border_color='C0DEED', profile_sidebar_fill_color='DDEEF6', profile_text_color='333333', profile_use_background_image=True, has_extended_profile=False, default_profile=True, default_profile_image=False, following=False, follow_request_sent=False, notifications=False, translator_type='none'), geo=None, coordinates=None, place=Place(_api=<tweepy.api.API object at 0x0000025696F2F848>, id='2a04d50d4dfcd226', url='https://api.twitter.com/1.1/geo/id/2a04d50d4dfcd226.json', place_type='city', name='Anantnag', full_name='Anantnag, Jammu And Kashmir', country_code='', country='', contained_within=[], bounding_box=BoundingBox(_api=<tweepy.api.API object at 0x0000025696F2F848>, type='Polygon', coordinates=[[[74.7044366, 33.321178], [75.5997464, 33.321178], [75.5997464, 34.4090707], [74.7044366, 34.4090707]]]), attributes={}), contributors=None, is_quote_status=False, retweet_count=2, favorite_count=1, favorited=False, retweeted=False, possibly_sensitive=False, lang='en') \n",
      "\n",
      "..............................\n",
      "\n",
      "Status(_api=<tweepy.api.API object at 0x0000025696F2F848>, _json={'created_at': 'Wed Oct 28 08:19:45 +0000 2020', 'id': 1321366029625298944, 'id_str': '1321366029625298944', 'full_text': '#BiharElections2020 | Former CM Jitan Ram Manjhi casts his vote at a polling booth in Gaya \\n\\n\"Out of 71 seats in phase-1, NDA will comfortably win around 50 seats,\" he said\\n\\n📸: ANI\\n\\nFollow LIVE updates: https://t.co/0Oi0hYHwPV\\n\\n#ElectionsWithJagran https://t.co/hhGHjA2s2f', 'truncated': False, 'display_text_range': [0, 248], 'entities': {'hashtags': [{'text': 'BiharElections2020', 'indices': [0, 19]}, {'text': 'ElectionsWithJagran', 'indices': [228, 248]}], 'symbols': [], 'user_mentions': [], 'urls': [{'url': 'https://t.co/0Oi0hYHwPV', 'expanded_url': 'https://bit.ly/2HAjU49', 'display_url': 'bit.ly/2HAjU49', 'indices': [203, 226]}], 'media': [{'id': 1321365829695528962, 'id_str': '1321365829695528962', 'indices': [249, 272], 'media_url': 'http://pbs.twimg.com/media/ElZvOKFXYAIjPt-.jpg', 'media_url_https': 'https://pbs.twimg.com/media/ElZvOKFXYAIjPt-.jpg', 'url': 'https://t.co/hhGHjA2s2f', 'display_url': 'pic.twitter.com/hhGHjA2s2f', 'expanded_url': 'https://twitter.com/JagranEnglish/status/1321366029625298944/photo/1', 'type': 'photo', 'sizes': {'thumb': {'w': 150, 'h': 150, 'resize': 'crop'}, 'small': {'w': 680, 'h': 383, 'resize': 'fit'}, 'large': {'w': 1024, 'h': 576, 'resize': 'fit'}, 'medium': {'w': 1024, 'h': 576, 'resize': 'fit'}}}]}, 'extended_entities': {'media': [{'id': 1321365829695528962, 'id_str': '1321365829695528962', 'indices': [249, 272], 'media_url': 'http://pbs.twimg.com/media/ElZvOKFXYAIjPt-.jpg', 'media_url_https': 'https://pbs.twimg.com/media/ElZvOKFXYAIjPt-.jpg', 'url': 'https://t.co/hhGHjA2s2f', 'display_url': 'pic.twitter.com/hhGHjA2s2f', 'expanded_url': 'https://twitter.com/JagranEnglish/status/1321366029625298944/photo/1', 'type': 'photo', 'sizes': {'thumb': {'w': 150, 'h': 150, 'resize': 'crop'}, 'small': {'w': 680, 'h': 383, 'resize': 'fit'}, 'large': {'w': 1024, 'h': 576, 'resize': 'fit'}, 'medium': {'w': 1024, 'h': 576, 'resize': 'fit'}}}, {'id': 1321365834678362112, 'id_str': '1321365834678362112', 'indices': [249, 272], 'media_url': 'http://pbs.twimg.com/media/ElZvOcpXYAAxr4K.jpg', 'media_url_https': 'https://pbs.twimg.com/media/ElZvOcpXYAAxr4K.jpg', 'url': 'https://t.co/hhGHjA2s2f', 'display_url': 'pic.twitter.com/hhGHjA2s2f', 'expanded_url': 'https://twitter.com/JagranEnglish/status/1321366029625298944/photo/1', 'type': 'photo', 'sizes': {'thumb': {'w': 150, 'h': 150, 'resize': 'crop'}, 'small': {'w': 680, 'h': 383, 'resize': 'fit'}, 'large': {'w': 1024, 'h': 576, 'resize': 'fit'}, 'medium': {'w': 1024, 'h': 576, 'resize': 'fit'}}}, {'id': 1321365839522705408, 'id_str': '1321365839522705408', 'indices': [249, 272], 'media_url': 'http://pbs.twimg.com/media/ElZvOusWMAA80dI.jpg', 'media_url_https': 'https://pbs.twimg.com/media/ElZvOusWMAA80dI.jpg', 'url': 'https://t.co/hhGHjA2s2f', 'display_url': 'pic.twitter.com/hhGHjA2s2f', 'expanded_url': 'https://twitter.com/JagranEnglish/status/1321366029625298944/photo/1', 'type': 'photo', 'sizes': {'thumb': {'w': 150, 'h': 150, 'resize': 'crop'}, 'large': {'w': 1024, 'h': 576, 'resize': 'fit'}, 'small': {'w': 680, 'h': 383, 'resize': 'fit'}, 'medium': {'w': 1024, 'h': 576, 'resize': 'fit'}}}]}, 'metadata': {'iso_language_code': 'en', 'result_type': 'recent'}, 'source': '<a href=\"https://mobile.twitter.com\" rel=\"nofollow\">Twitter Web App</a>', 'in_reply_to_status_id': None, 'in_reply_to_status_id_str': None, 'in_reply_to_user_id': None, 'in_reply_to_user_id_str': None, 'in_reply_to_screen_name': None, 'user': {'id': 231692806, 'id_str': '231692806', 'name': 'Jagran English', 'screen_name': 'JagranEnglish', 'location': 'New Delhi, India', 'description': 'Jagran English the new age Trending News site. Check out https://t.co/UuzBHS8KDs for all latest & top trends across globe.', 'url': 'https://t.co/KNACj4Xbxs', 'entities': {'url': {'urls': [{'url': 'https://t.co/KNACj4Xbxs', 'expanded_url': 'http://english.jagran.com', 'display_url': 'english.jagran.com', 'indices': [0, 23]}]}, 'description': {'urls': [{'url': 'https://t.co/UuzBHS8KDs', 'expanded_url': 'http://english.jagran.com/', 'display_url': 'english.jagran.com', 'indices': [57, 80]}]}}, 'protected': False, 'followers_count': 7303, 'friends_count': 35, 'listed_count': 90, 'created_at': 'Wed Dec 29 06:03:27 +0000 2010', 'favourites_count': 86, 'utc_offset': None, 'time_zone': None, 'geo_enabled': True, 'verified': True, 'statuses_count': 146668, 'lang': None, 'contributors_enabled': False, 'is_translator': False, 'is_translation_enabled': False, 'profile_background_color': 'C0DEED', 'profile_background_image_url': 'http://abs.twimg.com/images/themes/theme1/bg.png', 'profile_background_image_url_https': 'https://abs.twimg.com/images/themes/theme1/bg.png', 'profile_background_tile': False, 'profile_image_url': 'http://pbs.twimg.com/profile_images/791567271328047104/2wcHjE_4_normal.jpg', 'profile_image_url_https': 'https://pbs.twimg.com/profile_images/791567271328047104/2wcHjE_4_normal.jpg', 'profile_banner_url': 'https://pbs.twimg.com/profile_banners/231692806/1602849821', 'profile_link_color': '0084B4', 'profile_sidebar_border_color': 'FFFFFF', 'profile_sidebar_fill_color': 'DDEEF6', 'profile_text_color': '333333', 'profile_use_background_image': True, 'has_extended_profile': True, 'default_profile': False, 'default_profile_image': False, 'following': False, 'follow_request_sent': False, 'notifications': False, 'translator_type': 'none'}, 'geo': None, 'coordinates': None, 'place': None, 'contributors': None, 'is_quote_status': False, 'retweet_count': 0, 'favorite_count': 1, 'favorited': False, 'retweeted': False, 'possibly_sensitive': False, 'lang': 'en'}, created_at=datetime.datetime(2020, 10, 28, 8, 19, 45), id=1321366029625298944, id_str='1321366029625298944', full_text='#BiharElections2020 | Former CM Jitan Ram Manjhi casts his vote at a polling booth in Gaya \\n\\n\"Out of 71 seats in phase-1, NDA will comfortably win around 50 seats,\" he said\\n\\n📸: ANI\\n\\nFollow LIVE updates: https://t.co/0Oi0hYHwPV\\n\\n#ElectionsWithJagran https://t.co/hhGHjA2s2f', truncated=False, display_text_range=[0, 248], entities={'hashtags': [{'text': 'BiharElections2020', 'indices': [0, 19]}, {'text': 'ElectionsWithJagran', 'indices': [228, 248]}], 'symbols': [], 'user_mentions': [], 'urls': [{'url': 'https://t.co/0Oi0hYHwPV', 'expanded_url': 'https://bit.ly/2HAjU49', 'display_url': 'bit.ly/2HAjU49', 'indices': [203, 226]}], 'media': [{'id': 1321365829695528962, 'id_str': '1321365829695528962', 'indices': [249, 272], 'media_url': 'http://pbs.twimg.com/media/ElZvOKFXYAIjPt-.jpg', 'media_url_https': 'https://pbs.twimg.com/media/ElZvOKFXYAIjPt-.jpg', 'url': 'https://t.co/hhGHjA2s2f', 'display_url': 'pic.twitter.com/hhGHjA2s2f', 'expanded_url': 'https://twitter.com/JagranEnglish/status/1321366029625298944/photo/1', 'type': 'photo', 'sizes': {'thumb': {'w': 150, 'h': 150, 'resize': 'crop'}, 'small': {'w': 680, 'h': 383, 'resize': 'fit'}, 'large': {'w': 1024, 'h': 576, 'resize': 'fit'}, 'medium': {'w': 1024, 'h': 576, 'resize': 'fit'}}}]}, extended_entities={'media': [{'id': 1321365829695528962, 'id_str': '1321365829695528962', 'indices': [249, 272], 'media_url': 'http://pbs.twimg.com/media/ElZvOKFXYAIjPt-.jpg', 'media_url_https': 'https://pbs.twimg.com/media/ElZvOKFXYAIjPt-.jpg', 'url': 'https://t.co/hhGHjA2s2f', 'display_url': 'pic.twitter.com/hhGHjA2s2f', 'expanded_url': 'https://twitter.com/JagranEnglish/status/1321366029625298944/photo/1', 'type': 'photo', 'sizes': {'thumb': {'w': 150, 'h': 150, 'resize': 'crop'}, 'small': {'w': 680, 'h': 383, 'resize': 'fit'}, 'large': {'w': 1024, 'h': 576, 'resize': 'fit'}, 'medium': {'w': 1024, 'h': 576, 'resize': 'fit'}}}, {'id': 1321365834678362112, 'id_str': '1321365834678362112', 'indices': [249, 272], 'media_url': 'http://pbs.twimg.com/media/ElZvOcpXYAAxr4K.jpg', 'media_url_https': 'https://pbs.twimg.com/media/ElZvOcpXYAAxr4K.jpg', 'url': 'https://t.co/hhGHjA2s2f', 'display_url': 'pic.twitter.com/hhGHjA2s2f', 'expanded_url': 'https://twitter.com/JagranEnglish/status/1321366029625298944/photo/1', 'type': 'photo', 'sizes': {'thumb': {'w': 150, 'h': 150, 'resize': 'crop'}, 'small': {'w': 680, 'h': 383, 'resize': 'fit'}, 'large': {'w': 1024, 'h': 576, 'resize': 'fit'}, 'medium': {'w': 1024, 'h': 576, 'resize': 'fit'}}}, {'id': 1321365839522705408, 'id_str': '1321365839522705408', 'indices': [249, 272], 'media_url': 'http://pbs.twimg.com/media/ElZvOusWMAA80dI.jpg', 'media_url_https': 'https://pbs.twimg.com/media/ElZvOusWMAA80dI.jpg', 'url': 'https://t.co/hhGHjA2s2f', 'display_url': 'pic.twitter.com/hhGHjA2s2f', 'expanded_url': 'https://twitter.com/JagranEnglish/status/1321366029625298944/photo/1', 'type': 'photo', 'sizes': {'thumb': {'w': 150, 'h': 150, 'resize': 'crop'}, 'large': {'w': 1024, 'h': 576, 'resize': 'fit'}, 'small': {'w': 680, 'h': 383, 'resize': 'fit'}, 'medium': {'w': 1024, 'h': 576, 'resize': 'fit'}}}]}, metadata={'iso_language_code': 'en', 'result_type': 'recent'}, source='Twitter Web App', source_url='https://mobile.twitter.com', in_reply_to_status_id=None, in_reply_to_status_id_str=None, in_reply_to_user_id=None, in_reply_to_user_id_str=None, in_reply_to_screen_name=None, author=User(_api=<tweepy.api.API object at 0x0000025696F2F848>, _json={'id': 231692806, 'id_str': '231692806', 'name': 'Jagran English', 'screen_name': 'JagranEnglish', 'location': 'New Delhi, India', 'description': 'Jagran English the new age Trending News site. Check out https://t.co/UuzBHS8KDs for all latest & top trends across globe.', 'url': 'https://t.co/KNACj4Xbxs', 'entities': {'url': {'urls': [{'url': 'https://t.co/KNACj4Xbxs', 'expanded_url': 'http://english.jagran.com', 'display_url': 'english.jagran.com', 'indices': [0, 23]}]}, 'description': {'urls': [{'url': 'https://t.co/UuzBHS8KDs', 'expanded_url': 'http://english.jagran.com/', 'display_url': 'english.jagran.com', 'indices': [57, 80]}]}}, 'protected': False, 'followers_count': 7303, 'friends_count': 35, 'listed_count': 90, 'created_at': 'Wed Dec 29 06:03:27 +0000 2010', 'favourites_count': 86, 'utc_offset': None, 'time_zone': None, 'geo_enabled': True, 'verified': True, 'statuses_count': 146668, 'lang': None, 'contributors_enabled': False, 'is_translator': False, 'is_translation_enabled': False, 'profile_background_color': 'C0DEED', 'profile_background_image_url': 'http://abs.twimg.com/images/themes/theme1/bg.png', 'profile_background_image_url_https': 'https://abs.twimg.com/images/themes/theme1/bg.png', 'profile_background_tile': False, 'profile_image_url': 'http://pbs.twimg.com/profile_images/791567271328047104/2wcHjE_4_normal.jpg', 'profile_image_url_https': 'https://pbs.twimg.com/profile_images/791567271328047104/2wcHjE_4_normal.jpg', 'profile_banner_url': 'https://pbs.twimg.com/profile_banners/231692806/1602849821', 'profile_link_color': '0084B4', 'profile_sidebar_border_color': 'FFFFFF', 'profile_sidebar_fill_color': 'DDEEF6', 'profile_text_color': '333333', 'profile_use_background_image': True, 'has_extended_profile': True, 'default_profile': False, 'default_profile_image': False, 'following': False, 'follow_request_sent': False, 'notifications': False, 'translator_type': 'none'}, id=231692806, id_str='231692806', name='Jagran English', screen_name='JagranEnglish', location='New Delhi, India', description='Jagran English the new age Trending News site. Check out https://t.co/UuzBHS8KDs for all latest & top trends across globe.', url='https://t.co/KNACj4Xbxs', entities={'url': {'urls': [{'url': 'https://t.co/KNACj4Xbxs', 'expanded_url': 'http://english.jagran.com', 'display_url': 'english.jagran.com', 'indices': [0, 23]}]}, 'description': {'urls': [{'url': 'https://t.co/UuzBHS8KDs', 'expanded_url': 'http://english.jagran.com/', 'display_url': 'english.jagran.com', 'indices': [57, 80]}]}}, protected=False, followers_count=7303, friends_count=35, listed_count=90, created_at=datetime.datetime(2010, 12, 29, 6, 3, 27), favourites_count=86, utc_offset=None, time_zone=None, geo_enabled=True, verified=True, statuses_count=146668, lang=None, contributors_enabled=False, is_translator=False, is_translation_enabled=False, profile_background_color='C0DEED', profile_background_image_url='http://abs.twimg.com/images/themes/theme1/bg.png', profile_background_image_url_https='https://abs.twimg.com/images/themes/theme1/bg.png', profile_background_tile=False, profile_image_url='http://pbs.twimg.com/profile_images/791567271328047104/2wcHjE_4_normal.jpg', profile_image_url_https='https://pbs.twimg.com/profile_images/791567271328047104/2wcHjE_4_normal.jpg', profile_banner_url='https://pbs.twimg.com/profile_banners/231692806/1602849821', profile_link_color='0084B4', profile_sidebar_border_color='FFFFFF', profile_sidebar_fill_color='DDEEF6', profile_text_color='333333', profile_use_background_image=True, has_extended_profile=True, default_profile=False, default_profile_image=False, following=False, follow_request_sent=False, notifications=False, translator_type='none'), user=User(_api=<tweepy.api.API object at 0x0000025696F2F848>, _json={'id': 231692806, 'id_str': '231692806', 'name': 'Jagran English', 'screen_name': 'JagranEnglish', 'location': 'New Delhi, India', 'description': 'Jagran English the new age Trending News site. Check out https://t.co/UuzBHS8KDs for all latest & top trends across globe.', 'url': 'https://t.co/KNACj4Xbxs', 'entities': {'url': {'urls': [{'url': 'https://t.co/KNACj4Xbxs', 'expanded_url': 'http://english.jagran.com', 'display_url': 'english.jagran.com', 'indices': [0, 23]}]}, 'description': {'urls': [{'url': 'https://t.co/UuzBHS8KDs', 'expanded_url': 'http://english.jagran.com/', 'display_url': 'english.jagran.com', 'indices': [57, 80]}]}}, 'protected': False, 'followers_count': 7303, 'friends_count': 35, 'listed_count': 90, 'created_at': 'Wed Dec 29 06:03:27 +0000 2010', 'favourites_count': 86, 'utc_offset': None, 'time_zone': None, 'geo_enabled': True, 'verified': True, 'statuses_count': 146668, 'lang': None, 'contributors_enabled': False, 'is_translator': False, 'is_translation_enabled': False, 'profile_background_color': 'C0DEED', 'profile_background_image_url': 'http://abs.twimg.com/images/themes/theme1/bg.png', 'profile_background_image_url_https': 'https://abs.twimg.com/images/themes/theme1/bg.png', 'profile_background_tile': False, 'profile_image_url': 'http://pbs.twimg.com/profile_images/791567271328047104/2wcHjE_4_normal.jpg', 'profile_image_url_https': 'https://pbs.twimg.com/profile_images/791567271328047104/2wcHjE_4_normal.jpg', 'profile_banner_url': 'https://pbs.twimg.com/profile_banners/231692806/1602849821', 'profile_link_color': '0084B4', 'profile_sidebar_border_color': 'FFFFFF', 'profile_sidebar_fill_color': 'DDEEF6', 'profile_text_color': '333333', 'profile_use_background_image': True, 'has_extended_profile': True, 'default_profile': False, 'default_profile_image': False, 'following': False, 'follow_request_sent': False, 'notifications': False, 'translator_type': 'none'}, id=231692806, id_str='231692806', name='Jagran English', screen_name='JagranEnglish', location='New Delhi, India', description='Jagran English the new age Trending News site. Check out https://t.co/UuzBHS8KDs for all latest & top trends across globe.', url='https://t.co/KNACj4Xbxs', entities={'url': {'urls': [{'url': 'https://t.co/KNACj4Xbxs', 'expanded_url': 'http://english.jagran.com', 'display_url': 'english.jagran.com', 'indices': [0, 23]}]}, 'description': {'urls': [{'url': 'https://t.co/UuzBHS8KDs', 'expanded_url': 'http://english.jagran.com/', 'display_url': 'english.jagran.com', 'indices': [57, 80]}]}}, protected=False, followers_count=7303, friends_count=35, listed_count=90, created_at=datetime.datetime(2010, 12, 29, 6, 3, 27), favourites_count=86, utc_offset=None, time_zone=None, geo_enabled=True, verified=True, statuses_count=146668, lang=None, contributors_enabled=False, is_translator=False, is_translation_enabled=False, profile_background_color='C0DEED', profile_background_image_url='http://abs.twimg.com/images/themes/theme1/bg.png', profile_background_image_url_https='https://abs.twimg.com/images/themes/theme1/bg.png', profile_background_tile=False, profile_image_url='http://pbs.twimg.com/profile_images/791567271328047104/2wcHjE_4_normal.jpg', profile_image_url_https='https://pbs.twimg.com/profile_images/791567271328047104/2wcHjE_4_normal.jpg', profile_banner_url='https://pbs.twimg.com/profile_banners/231692806/1602849821', profile_link_color='0084B4', profile_sidebar_border_color='FFFFFF', profile_sidebar_fill_color='DDEEF6', profile_text_color='333333', profile_use_background_image=True, has_extended_profile=True, default_profile=False, default_profile_image=False, following=False, follow_request_sent=False, notifications=False, translator_type='none'), geo=None, coordinates=None, place=None, contributors=None, is_quote_status=False, retweet_count=0, favorite_count=1, favorited=False, retweeted=False, possibly_sensitive=False, lang='en') \n",
      "\n",
      "..............................\n",
      "\n",
      "Status(_api=<tweepy.api.API object at 0x0000025696F2F848>, _json={'created_at': 'Wed Oct 28 08:07:05 +0000 2020', 'id': 1321362841908043776, 'id_str': '1321362841908043776', 'full_text': '#BiharElections2020 | Lakhisarai constituency key contest\\n\\n▪️ BJP: Vijay Kumar Sinha\\n▪️ Congress: Amaresh Kumar \\n\\nA look at what happened in 2015 https://t.co/SUFKiqESrp \\n\\nVoting underway; track updates here: https://t.co/WSD9l85h84 \\n\\n#ElectionsWithHT https://t.co/bMvqJKlb9x', 'truncated': False, 'display_text_range': [0, 251], 'entities': {'hashtags': [{'text': 'BiharElections2020', 'indices': [0, 19]}, {'text': 'ElectionsWithHT', 'indices': [235, 251]}], 'symbols': [], 'user_mentions': [], 'urls': [{'url': 'https://t.co/SUFKiqESrp', 'expanded_url': 'https://bit.ly/37LL570', 'display_url': 'bit.ly/37LL570', 'indices': [146, 169]}, {'url': 'https://t.co/WSD9l85h84', 'expanded_url': 'http://bit.ly/3e4oS5i', 'display_url': 'bit.ly/3e4oS5i', 'indices': [209, 232]}], 'media': [{'id': 1321362299773276160, 'id_str': '1321362299773276160', 'indices': [252, 275], 'media_url': 'http://pbs.twimg.com/media/ElZsAsGUUAAo3P6.jpg', 'media_url_https': 'https://pbs.twimg.com/media/ElZsAsGUUAAo3P6.jpg', 'url': 'https://t.co/bMvqJKlb9x', 'display_url': 'pic.twitter.com/bMvqJKlb9x', 'expanded_url': 'https://twitter.com/htTweets/status/1321362841908043776/photo/1', 'type': 'photo', 'sizes': {'thumb': {'w': 150, 'h': 150, 'resize': 'crop'}, 'medium': {'w': 1200, 'h': 675, 'resize': 'fit'}, 'large': {'w': 1200, 'h': 675, 'resize': 'fit'}, 'small': {'w': 680, 'h': 383, 'resize': 'fit'}}}]}, 'extended_entities': {'media': [{'id': 1321362299773276160, 'id_str': '1321362299773276160', 'indices': [252, 275], 'media_url': 'http://pbs.twimg.com/media/ElZsAsGUUAAo3P6.jpg', 'media_url_https': 'https://pbs.twimg.com/media/ElZsAsGUUAAo3P6.jpg', 'url': 'https://t.co/bMvqJKlb9x', 'display_url': 'pic.twitter.com/bMvqJKlb9x', 'expanded_url': 'https://twitter.com/htTweets/status/1321362841908043776/photo/1', 'type': 'photo', 'sizes': {'thumb': {'w': 150, 'h': 150, 'resize': 'crop'}, 'medium': {'w': 1200, 'h': 675, 'resize': 'fit'}, 'large': {'w': 1200, 'h': 675, 'resize': 'fit'}, 'small': {'w': 680, 'h': 383, 'resize': 'fit'}}}]}, 'metadata': {'iso_language_code': 'en', 'result_type': 'recent'}, 'source': '<a href=\"https://mobile.twitter.com\" rel=\"nofollow\">Twitter Web App</a>', 'in_reply_to_status_id': None, 'in_reply_to_status_id_str': None, 'in_reply_to_user_id': None, 'in_reply_to_user_id_str': None, 'in_reply_to_screen_name': None, 'user': {'id': 36327407, 'id_str': '36327407', 'name': 'Hindustan Times', 'screen_name': 'htTweets', 'location': 'India', 'description': \"One of India's largest media companies. Latest news from around the world. Retweets are not endorsements\", 'url': 'https://t.co/yEyv2GeRpS', 'entities': {'url': {'urls': [{'url': 'https://t.co/yEyv2GeRpS', 'expanded_url': 'http://www.hindustantimes.com', 'display_url': 'hindustantimes.com', 'indices': [0, 23]}]}, 'description': {'urls': []}}, 'protected': False, 'followers_count': 7799676, 'friends_count': 125, 'listed_count': 7059, 'created_at': 'Wed Apr 29 10:11:34 +0000 2009', 'favourites_count': 2949, 'utc_offset': None, 'time_zone': None, 'geo_enabled': True, 'verified': True, 'statuses_count': 795459, 'lang': None, 'contributors_enabled': False, 'is_translator': False, 'is_translation_enabled': False, 'profile_background_color': '1A1B1F', 'profile_background_image_url': 'http://abs.twimg.com/images/themes/theme9/bg.gif', 'profile_background_image_url_https': 'https://abs.twimg.com/images/themes/theme9/bg.gif', 'profile_background_tile': False, 'profile_image_url': 'http://pbs.twimg.com/profile_images/1300145337617661952/Z6rMaX5R_normal.jpg', 'profile_image_url_https': 'https://pbs.twimg.com/profile_images/1300145337617661952/Z6rMaX5R_normal.jpg', 'profile_banner_url': 'https://pbs.twimg.com/profile_banners/36327407/1603844108', 'profile_link_color': '1D8BA1', 'profile_sidebar_border_color': 'FFFFFF', 'profile_sidebar_fill_color': 'BACAD4', 'profile_text_color': '1D1B1B', 'profile_use_background_image': True, 'has_extended_profile': False, 'default_profile': False, 'default_profile_image': False, 'following': False, 'follow_request_sent': False, 'notifications': False, 'translator_type': 'none'}, 'geo': None, 'coordinates': None, 'place': None, 'contributors': None, 'is_quote_status': False, 'retweet_count': 1, 'favorite_count': 13, 'favorited': False, 'retweeted': False, 'possibly_sensitive': False, 'lang': 'en'}, created_at=datetime.datetime(2020, 10, 28, 8, 7, 5), id=1321362841908043776, id_str='1321362841908043776', full_text='#BiharElections2020 | Lakhisarai constituency key contest\\n\\n▪️ BJP: Vijay Kumar Sinha\\n▪️ Congress: Amaresh Kumar \\n\\nA look at what happened in 2015 https://t.co/SUFKiqESrp \\n\\nVoting underway; track updates here: https://t.co/WSD9l85h84 \\n\\n#ElectionsWithHT https://t.co/bMvqJKlb9x', truncated=False, display_text_range=[0, 251], entities={'hashtags': [{'text': 'BiharElections2020', 'indices': [0, 19]}, {'text': 'ElectionsWithHT', 'indices': [235, 251]}], 'symbols': [], 'user_mentions': [], 'urls': [{'url': 'https://t.co/SUFKiqESrp', 'expanded_url': 'https://bit.ly/37LL570', 'display_url': 'bit.ly/37LL570', 'indices': [146, 169]}, {'url': 'https://t.co/WSD9l85h84', 'expanded_url': 'http://bit.ly/3e4oS5i', 'display_url': 'bit.ly/3e4oS5i', 'indices': [209, 232]}], 'media': [{'id': 1321362299773276160, 'id_str': '1321362299773276160', 'indices': [252, 275], 'media_url': 'http://pbs.twimg.com/media/ElZsAsGUUAAo3P6.jpg', 'media_url_https': 'https://pbs.twimg.com/media/ElZsAsGUUAAo3P6.jpg', 'url': 'https://t.co/bMvqJKlb9x', 'display_url': 'pic.twitter.com/bMvqJKlb9x', 'expanded_url': 'https://twitter.com/htTweets/status/1321362841908043776/photo/1', 'type': 'photo', 'sizes': {'thumb': {'w': 150, 'h': 150, 'resize': 'crop'}, 'medium': {'w': 1200, 'h': 675, 'resize': 'fit'}, 'large': {'w': 1200, 'h': 675, 'resize': 'fit'}, 'small': {'w': 680, 'h': 383, 'resize': 'fit'}}}]}, extended_entities={'media': [{'id': 1321362299773276160, 'id_str': '1321362299773276160', 'indices': [252, 275], 'media_url': 'http://pbs.twimg.com/media/ElZsAsGUUAAo3P6.jpg', 'media_url_https': 'https://pbs.twimg.com/media/ElZsAsGUUAAo3P6.jpg', 'url': 'https://t.co/bMvqJKlb9x', 'display_url': 'pic.twitter.com/bMvqJKlb9x', 'expanded_url': 'https://twitter.com/htTweets/status/1321362841908043776/photo/1', 'type': 'photo', 'sizes': {'thumb': {'w': 150, 'h': 150, 'resize': 'crop'}, 'medium': {'w': 1200, 'h': 675, 'resize': 'fit'}, 'large': {'w': 1200, 'h': 675, 'resize': 'fit'}, 'small': {'w': 680, 'h': 383, 'resize': 'fit'}}}]}, metadata={'iso_language_code': 'en', 'result_type': 'recent'}, source='Twitter Web App', source_url='https://mobile.twitter.com', in_reply_to_status_id=None, in_reply_to_status_id_str=None, in_reply_to_user_id=None, in_reply_to_user_id_str=None, in_reply_to_screen_name=None, author=User(_api=<tweepy.api.API object at 0x0000025696F2F848>, _json={'id': 36327407, 'id_str': '36327407', 'name': 'Hindustan Times', 'screen_name': 'htTweets', 'location': 'India', 'description': \"One of India's largest media companies. Latest news from around the world. Retweets are not endorsements\", 'url': 'https://t.co/yEyv2GeRpS', 'entities': {'url': {'urls': [{'url': 'https://t.co/yEyv2GeRpS', 'expanded_url': 'http://www.hindustantimes.com', 'display_url': 'hindustantimes.com', 'indices': [0, 23]}]}, 'description': {'urls': []}}, 'protected': False, 'followers_count': 7799676, 'friends_count': 125, 'listed_count': 7059, 'created_at': 'Wed Apr 29 10:11:34 +0000 2009', 'favourites_count': 2949, 'utc_offset': None, 'time_zone': None, 'geo_enabled': True, 'verified': True, 'statuses_count': 795459, 'lang': None, 'contributors_enabled': False, 'is_translator': False, 'is_translation_enabled': False, 'profile_background_color': '1A1B1F', 'profile_background_image_url': 'http://abs.twimg.com/images/themes/theme9/bg.gif', 'profile_background_image_url_https': 'https://abs.twimg.com/images/themes/theme9/bg.gif', 'profile_background_tile': False, 'profile_image_url': 'http://pbs.twimg.com/profile_images/1300145337617661952/Z6rMaX5R_normal.jpg', 'profile_image_url_https': 'https://pbs.twimg.com/profile_images/1300145337617661952/Z6rMaX5R_normal.jpg', 'profile_banner_url': 'https://pbs.twimg.com/profile_banners/36327407/1603844108', 'profile_link_color': '1D8BA1', 'profile_sidebar_border_color': 'FFFFFF', 'profile_sidebar_fill_color': 'BACAD4', 'profile_text_color': '1D1B1B', 'profile_use_background_image': True, 'has_extended_profile': False, 'default_profile': False, 'default_profile_image': False, 'following': False, 'follow_request_sent': False, 'notifications': False, 'translator_type': 'none'}, id=36327407, id_str='36327407', name='Hindustan Times', screen_name='htTweets', location='India', description=\"One of India's largest media companies. Latest news from around the world. Retweets are not endorsements\", url='https://t.co/yEyv2GeRpS', entities={'url': {'urls': [{'url': 'https://t.co/yEyv2GeRpS', 'expanded_url': 'http://www.hindustantimes.com', 'display_url': 'hindustantimes.com', 'indices': [0, 23]}]}, 'description': {'urls': []}}, protected=False, followers_count=7799676, friends_count=125, listed_count=7059, created_at=datetime.datetime(2009, 4, 29, 10, 11, 34), favourites_count=2949, utc_offset=None, time_zone=None, geo_enabled=True, verified=True, statuses_count=795459, lang=None, contributors_enabled=False, is_translator=False, is_translation_enabled=False, profile_background_color='1A1B1F', profile_background_image_url='http://abs.twimg.com/images/themes/theme9/bg.gif', profile_background_image_url_https='https://abs.twimg.com/images/themes/theme9/bg.gif', profile_background_tile=False, profile_image_url='http://pbs.twimg.com/profile_images/1300145337617661952/Z6rMaX5R_normal.jpg', profile_image_url_https='https://pbs.twimg.com/profile_images/1300145337617661952/Z6rMaX5R_normal.jpg', profile_banner_url='https://pbs.twimg.com/profile_banners/36327407/1603844108', profile_link_color='1D8BA1', profile_sidebar_border_color='FFFFFF', profile_sidebar_fill_color='BACAD4', profile_text_color='1D1B1B', profile_use_background_image=True, has_extended_profile=False, default_profile=False, default_profile_image=False, following=False, follow_request_sent=False, notifications=False, translator_type='none'), user=User(_api=<tweepy.api.API object at 0x0000025696F2F848>, _json={'id': 36327407, 'id_str': '36327407', 'name': 'Hindustan Times', 'screen_name': 'htTweets', 'location': 'India', 'description': \"One of India's largest media companies. Latest news from around the world. Retweets are not endorsements\", 'url': 'https://t.co/yEyv2GeRpS', 'entities': {'url': {'urls': [{'url': 'https://t.co/yEyv2GeRpS', 'expanded_url': 'http://www.hindustantimes.com', 'display_url': 'hindustantimes.com', 'indices': [0, 23]}]}, 'description': {'urls': []}}, 'protected': False, 'followers_count': 7799676, 'friends_count': 125, 'listed_count': 7059, 'created_at': 'Wed Apr 29 10:11:34 +0000 2009', 'favourites_count': 2949, 'utc_offset': None, 'time_zone': None, 'geo_enabled': True, 'verified': True, 'statuses_count': 795459, 'lang': None, 'contributors_enabled': False, 'is_translator': False, 'is_translation_enabled': False, 'profile_background_color': '1A1B1F', 'profile_background_image_url': 'http://abs.twimg.com/images/themes/theme9/bg.gif', 'profile_background_image_url_https': 'https://abs.twimg.com/images/themes/theme9/bg.gif', 'profile_background_tile': False, 'profile_image_url': 'http://pbs.twimg.com/profile_images/1300145337617661952/Z6rMaX5R_normal.jpg', 'profile_image_url_https': 'https://pbs.twimg.com/profile_images/1300145337617661952/Z6rMaX5R_normal.jpg', 'profile_banner_url': 'https://pbs.twimg.com/profile_banners/36327407/1603844108', 'profile_link_color': '1D8BA1', 'profile_sidebar_border_color': 'FFFFFF', 'profile_sidebar_fill_color': 'BACAD4', 'profile_text_color': '1D1B1B', 'profile_use_background_image': True, 'has_extended_profile': False, 'default_profile': False, 'default_profile_image': False, 'following': False, 'follow_request_sent': False, 'notifications': False, 'translator_type': 'none'}, id=36327407, id_str='36327407', name='Hindustan Times', screen_name='htTweets', location='India', description=\"One of India's largest media companies. Latest news from around the world. Retweets are not endorsements\", url='https://t.co/yEyv2GeRpS', entities={'url': {'urls': [{'url': 'https://t.co/yEyv2GeRpS', 'expanded_url': 'http://www.hindustantimes.com', 'display_url': 'hindustantimes.com', 'indices': [0, 23]}]}, 'description': {'urls': []}}, protected=False, followers_count=7799676, friends_count=125, listed_count=7059, created_at=datetime.datetime(2009, 4, 29, 10, 11, 34), favourites_count=2949, utc_offset=None, time_zone=None, geo_enabled=True, verified=True, statuses_count=795459, lang=None, contributors_enabled=False, is_translator=False, is_translation_enabled=False, profile_background_color='1A1B1F', profile_background_image_url='http://abs.twimg.com/images/themes/theme9/bg.gif', profile_background_image_url_https='https://abs.twimg.com/images/themes/theme9/bg.gif', profile_background_tile=False, profile_image_url='http://pbs.twimg.com/profile_images/1300145337617661952/Z6rMaX5R_normal.jpg', profile_image_url_https='https://pbs.twimg.com/profile_images/1300145337617661952/Z6rMaX5R_normal.jpg', profile_banner_url='https://pbs.twimg.com/profile_banners/36327407/1603844108', profile_link_color='1D8BA1', profile_sidebar_border_color='FFFFFF', profile_sidebar_fill_color='BACAD4', profile_text_color='1D1B1B', profile_use_background_image=True, has_extended_profile=False, default_profile=False, default_profile_image=False, following=False, follow_request_sent=False, notifications=False, translator_type='none'), geo=None, coordinates=None, place=None, contributors=None, is_quote_status=False, retweet_count=1, favorite_count=13, favorited=False, retweeted=False, possibly_sensitive=False, lang='en') \n",
      "\n",
      "..............................\n",
      "\n",
      "Status(_api=<tweepy.api.API object at 0x0000025696F2F848>, _json={'created_at': 'Tue Oct 27 13:30:00 +0000 2020', 'id': 1321081715863900161, 'id_str': '1321081715863900161', 'full_text': '#BiharElections2020 | In Gurua, RJD, BJP and the BSP will battle it out to win the seat \\n\\nVoting will take place on October 28, in the first phase of the #BiharAssemblyElections \\n\\n#ElectionsWithHT\\n\\nhttps://t.co/Y38CxLAgLS https://t.co/DP9dw7S4rD', 'truncated': False, 'display_text_range': [0, 221], 'entities': {'hashtags': [{'text': 'BiharElections2020', 'indices': [0, 19]}, {'text': 'BiharAssemblyElections', 'indices': [154, 177]}, {'text': 'ElectionsWithHT', 'indices': [180, 196]}], 'symbols': [], 'user_mentions': [], 'urls': [{'url': 'https://t.co/Y38CxLAgLS', 'expanded_url': 'https://www.hindustantimes.com/bihar-election/bihar-assembly-elections-2020-all-you-need-to-know-about-gurua-constituency/story-qgGHal6DMHXpNRSAxpBWvJ.html', 'display_url': 'hindustantimes.com/bihar-election…', 'indices': [198, 221]}], 'media': [{'id': 1321003158282252288, 'id_str': '1321003158282252288', 'indices': [222, 245], 'media_url': 'http://pbs.twimg.com/media/ElUlX5yVMAAn_vm.jpg', 'media_url_https': 'https://pbs.twimg.com/media/ElUlX5yVMAAn_vm.jpg', 'url': 'https://t.co/DP9dw7S4rD', 'display_url': 'pic.twitter.com/DP9dw7S4rD', 'expanded_url': 'https://twitter.com/htTweets/status/1321081715863900161/photo/1', 'type': 'photo', 'sizes': {'medium': {'w': 1200, 'h': 675, 'resize': 'fit'}, 'thumb': {'w': 150, 'h': 150, 'resize': 'crop'}, 'small': {'w': 680, 'h': 383, 'resize': 'fit'}, 'large': {'w': 1200, 'h': 675, 'resize': 'fit'}}}]}, 'extended_entities': {'media': [{'id': 1321003158282252288, 'id_str': '1321003158282252288', 'indices': [222, 245], 'media_url': 'http://pbs.twimg.com/media/ElUlX5yVMAAn_vm.jpg', 'media_url_https': 'https://pbs.twimg.com/media/ElUlX5yVMAAn_vm.jpg', 'url': 'https://t.co/DP9dw7S4rD', 'display_url': 'pic.twitter.com/DP9dw7S4rD', 'expanded_url': 'https://twitter.com/htTweets/status/1321081715863900161/photo/1', 'type': 'photo', 'sizes': {'medium': {'w': 1200, 'h': 675, 'resize': 'fit'}, 'thumb': {'w': 150, 'h': 150, 'resize': 'crop'}, 'small': {'w': 680, 'h': 383, 'resize': 'fit'}, 'large': {'w': 1200, 'h': 675, 'resize': 'fit'}}}]}, 'metadata': {'iso_language_code': 'en', 'result_type': 'recent'}, 'source': '<a href=\"https://about.twitter.com/products/tweetdeck\" rel=\"nofollow\">TweetDeck</a>', 'in_reply_to_status_id': None, 'in_reply_to_status_id_str': None, 'in_reply_to_user_id': None, 'in_reply_to_user_id_str': None, 'in_reply_to_screen_name': None, 'user': {'id': 36327407, 'id_str': '36327407', 'name': 'Hindustan Times', 'screen_name': 'htTweets', 'location': 'India', 'description': \"One of India's largest media companies. Latest news from around the world. Retweets are not endorsements\", 'url': 'https://t.co/yEyv2GeRpS', 'entities': {'url': {'urls': [{'url': 'https://t.co/yEyv2GeRpS', 'expanded_url': 'http://www.hindustantimes.com', 'display_url': 'hindustantimes.com', 'indices': [0, 23]}]}, 'description': {'urls': []}}, 'protected': False, 'followers_count': 7799676, 'friends_count': 125, 'listed_count': 7059, 'created_at': 'Wed Apr 29 10:11:34 +0000 2009', 'favourites_count': 2949, 'utc_offset': None, 'time_zone': None, 'geo_enabled': True, 'verified': True, 'statuses_count': 795459, 'lang': None, 'contributors_enabled': False, 'is_translator': False, 'is_translation_enabled': False, 'profile_background_color': '1A1B1F', 'profile_background_image_url': 'http://abs.twimg.com/images/themes/theme9/bg.gif', 'profile_background_image_url_https': 'https://abs.twimg.com/images/themes/theme9/bg.gif', 'profile_background_tile': False, 'profile_image_url': 'http://pbs.twimg.com/profile_images/1300145337617661952/Z6rMaX5R_normal.jpg', 'profile_image_url_https': 'https://pbs.twimg.com/profile_images/1300145337617661952/Z6rMaX5R_normal.jpg', 'profile_banner_url': 'https://pbs.twimg.com/profile_banners/36327407/1603844108', 'profile_link_color': '1D8BA1', 'profile_sidebar_border_color': 'FFFFFF', 'profile_sidebar_fill_color': 'BACAD4', 'profile_text_color': '1D1B1B', 'profile_use_background_image': True, 'has_extended_profile': False, 'default_profile': False, 'default_profile_image': False, 'following': False, 'follow_request_sent': False, 'notifications': False, 'translator_type': 'none'}, 'geo': None, 'coordinates': None, 'place': None, 'contributors': None, 'is_quote_status': False, 'retweet_count': 0, 'favorite_count': 6, 'favorited': False, 'retweeted': False, 'possibly_sensitive': False, 'lang': 'en'}, created_at=datetime.datetime(2020, 10, 27, 13, 30), id=1321081715863900161, id_str='1321081715863900161', full_text='#BiharElections2020 | In Gurua, RJD, BJP and the BSP will battle it out to win the seat \\n\\nVoting will take place on October 28, in the first phase of the #BiharAssemblyElections \\n\\n#ElectionsWithHT\\n\\nhttps://t.co/Y38CxLAgLS https://t.co/DP9dw7S4rD', truncated=False, display_text_range=[0, 221], entities={'hashtags': [{'text': 'BiharElections2020', 'indices': [0, 19]}, {'text': 'BiharAssemblyElections', 'indices': [154, 177]}, {'text': 'ElectionsWithHT', 'indices': [180, 196]}], 'symbols': [], 'user_mentions': [], 'urls': [{'url': 'https://t.co/Y38CxLAgLS', 'expanded_url': 'https://www.hindustantimes.com/bihar-election/bihar-assembly-elections-2020-all-you-need-to-know-about-gurua-constituency/story-qgGHal6DMHXpNRSAxpBWvJ.html', 'display_url': 'hindustantimes.com/bihar-election…', 'indices': [198, 221]}], 'media': [{'id': 1321003158282252288, 'id_str': '1321003158282252288', 'indices': [222, 245], 'media_url': 'http://pbs.twimg.com/media/ElUlX5yVMAAn_vm.jpg', 'media_url_https': 'https://pbs.twimg.com/media/ElUlX5yVMAAn_vm.jpg', 'url': 'https://t.co/DP9dw7S4rD', 'display_url': 'pic.twitter.com/DP9dw7S4rD', 'expanded_url': 'https://twitter.com/htTweets/status/1321081715863900161/photo/1', 'type': 'photo', 'sizes': {'medium': {'w': 1200, 'h': 675, 'resize': 'fit'}, 'thumb': {'w': 150, 'h': 150, 'resize': 'crop'}, 'small': {'w': 680, 'h': 383, 'resize': 'fit'}, 'large': {'w': 1200, 'h': 675, 'resize': 'fit'}}}]}, extended_entities={'media': [{'id': 1321003158282252288, 'id_str': '1321003158282252288', 'indices': [222, 245], 'media_url': 'http://pbs.twimg.com/media/ElUlX5yVMAAn_vm.jpg', 'media_url_https': 'https://pbs.twimg.com/media/ElUlX5yVMAAn_vm.jpg', 'url': 'https://t.co/DP9dw7S4rD', 'display_url': 'pic.twitter.com/DP9dw7S4rD', 'expanded_url': 'https://twitter.com/htTweets/status/1321081715863900161/photo/1', 'type': 'photo', 'sizes': {'medium': {'w': 1200, 'h': 675, 'resize': 'fit'}, 'thumb': {'w': 150, 'h': 150, 'resize': 'crop'}, 'small': {'w': 680, 'h': 383, 'resize': 'fit'}, 'large': {'w': 1200, 'h': 675, 'resize': 'fit'}}}]}, metadata={'iso_language_code': 'en', 'result_type': 'recent'}, source='TweetDeck', source_url='https://about.twitter.com/products/tweetdeck', in_reply_to_status_id=None, in_reply_to_status_id_str=None, in_reply_to_user_id=None, in_reply_to_user_id_str=None, in_reply_to_screen_name=None, author=User(_api=<tweepy.api.API object at 0x0000025696F2F848>, _json={'id': 36327407, 'id_str': '36327407', 'name': 'Hindustan Times', 'screen_name': 'htTweets', 'location': 'India', 'description': \"One of India's largest media companies. Latest news from around the world. Retweets are not endorsements\", 'url': 'https://t.co/yEyv2GeRpS', 'entities': {'url': {'urls': [{'url': 'https://t.co/yEyv2GeRpS', 'expanded_url': 'http://www.hindustantimes.com', 'display_url': 'hindustantimes.com', 'indices': [0, 23]}]}, 'description': {'urls': []}}, 'protected': False, 'followers_count': 7799676, 'friends_count': 125, 'listed_count': 7059, 'created_at': 'Wed Apr 29 10:11:34 +0000 2009', 'favourites_count': 2949, 'utc_offset': None, 'time_zone': None, 'geo_enabled': True, 'verified': True, 'statuses_count': 795459, 'lang': None, 'contributors_enabled': False, 'is_translator': False, 'is_translation_enabled': False, 'profile_background_color': '1A1B1F', 'profile_background_image_url': 'http://abs.twimg.com/images/themes/theme9/bg.gif', 'profile_background_image_url_https': 'https://abs.twimg.com/images/themes/theme9/bg.gif', 'profile_background_tile': False, 'profile_image_url': 'http://pbs.twimg.com/profile_images/1300145337617661952/Z6rMaX5R_normal.jpg', 'profile_image_url_https': 'https://pbs.twimg.com/profile_images/1300145337617661952/Z6rMaX5R_normal.jpg', 'profile_banner_url': 'https://pbs.twimg.com/profile_banners/36327407/1603844108', 'profile_link_color': '1D8BA1', 'profile_sidebar_border_color': 'FFFFFF', 'profile_sidebar_fill_color': 'BACAD4', 'profile_text_color': '1D1B1B', 'profile_use_background_image': True, 'has_extended_profile': False, 'default_profile': False, 'default_profile_image': False, 'following': False, 'follow_request_sent': False, 'notifications': False, 'translator_type': 'none'}, id=36327407, id_str='36327407', name='Hindustan Times', screen_name='htTweets', location='India', description=\"One of India's largest media companies. Latest news from around the world. Retweets are not endorsements\", url='https://t.co/yEyv2GeRpS', entities={'url': {'urls': [{'url': 'https://t.co/yEyv2GeRpS', 'expanded_url': 'http://www.hindustantimes.com', 'display_url': 'hindustantimes.com', 'indices': [0, 23]}]}, 'description': {'urls': []}}, protected=False, followers_count=7799676, friends_count=125, listed_count=7059, created_at=datetime.datetime(2009, 4, 29, 10, 11, 34), favourites_count=2949, utc_offset=None, time_zone=None, geo_enabled=True, verified=True, statuses_count=795459, lang=None, contributors_enabled=False, is_translator=False, is_translation_enabled=False, profile_background_color='1A1B1F', profile_background_image_url='http://abs.twimg.com/images/themes/theme9/bg.gif', profile_background_image_url_https='https://abs.twimg.com/images/themes/theme9/bg.gif', profile_background_tile=False, profile_image_url='http://pbs.twimg.com/profile_images/1300145337617661952/Z6rMaX5R_normal.jpg', profile_image_url_https='https://pbs.twimg.com/profile_images/1300145337617661952/Z6rMaX5R_normal.jpg', profile_banner_url='https://pbs.twimg.com/profile_banners/36327407/1603844108', profile_link_color='1D8BA1', profile_sidebar_border_color='FFFFFF', profile_sidebar_fill_color='BACAD4', profile_text_color='1D1B1B', profile_use_background_image=True, has_extended_profile=False, default_profile=False, default_profile_image=False, following=False, follow_request_sent=False, notifications=False, translator_type='none'), user=User(_api=<tweepy.api.API object at 0x0000025696F2F848>, _json={'id': 36327407, 'id_str': '36327407', 'name': 'Hindustan Times', 'screen_name': 'htTweets', 'location': 'India', 'description': \"One of India's largest media companies. Latest news from around the world. Retweets are not endorsements\", 'url': 'https://t.co/yEyv2GeRpS', 'entities': {'url': {'urls': [{'url': 'https://t.co/yEyv2GeRpS', 'expanded_url': 'http://www.hindustantimes.com', 'display_url': 'hindustantimes.com', 'indices': [0, 23]}]}, 'description': {'urls': []}}, 'protected': False, 'followers_count': 7799676, 'friends_count': 125, 'listed_count': 7059, 'created_at': 'Wed Apr 29 10:11:34 +0000 2009', 'favourites_count': 2949, 'utc_offset': None, 'time_zone': None, 'geo_enabled': True, 'verified': True, 'statuses_count': 795459, 'lang': None, 'contributors_enabled': False, 'is_translator': False, 'is_translation_enabled': False, 'profile_background_color': '1A1B1F', 'profile_background_image_url': 'http://abs.twimg.com/images/themes/theme9/bg.gif', 'profile_background_image_url_https': 'https://abs.twimg.com/images/themes/theme9/bg.gif', 'profile_background_tile': False, 'profile_image_url': 'http://pbs.twimg.com/profile_images/1300145337617661952/Z6rMaX5R_normal.jpg', 'profile_image_url_https': 'https://pbs.twimg.com/profile_images/1300145337617661952/Z6rMaX5R_normal.jpg', 'profile_banner_url': 'https://pbs.twimg.com/profile_banners/36327407/1603844108', 'profile_link_color': '1D8BA1', 'profile_sidebar_border_color': 'FFFFFF', 'profile_sidebar_fill_color': 'BACAD4', 'profile_text_color': '1D1B1B', 'profile_use_background_image': True, 'has_extended_profile': False, 'default_profile': False, 'default_profile_image': False, 'following': False, 'follow_request_sent': False, 'notifications': False, 'translator_type': 'none'}, id=36327407, id_str='36327407', name='Hindustan Times', screen_name='htTweets', location='India', description=\"One of India's largest media companies. Latest news from around the world. Retweets are not endorsements\", url='https://t.co/yEyv2GeRpS', entities={'url': {'urls': [{'url': 'https://t.co/yEyv2GeRpS', 'expanded_url': 'http://www.hindustantimes.com', 'display_url': 'hindustantimes.com', 'indices': [0, 23]}]}, 'description': {'urls': []}}, protected=False, followers_count=7799676, friends_count=125, listed_count=7059, created_at=datetime.datetime(2009, 4, 29, 10, 11, 34), favourites_count=2949, utc_offset=None, time_zone=None, geo_enabled=True, verified=True, statuses_count=795459, lang=None, contributors_enabled=False, is_translator=False, is_translation_enabled=False, profile_background_color='1A1B1F', profile_background_image_url='http://abs.twimg.com/images/themes/theme9/bg.gif', profile_background_image_url_https='https://abs.twimg.com/images/themes/theme9/bg.gif', profile_background_tile=False, profile_image_url='http://pbs.twimg.com/profile_images/1300145337617661952/Z6rMaX5R_normal.jpg', profile_image_url_https='https://pbs.twimg.com/profile_images/1300145337617661952/Z6rMaX5R_normal.jpg', profile_banner_url='https://pbs.twimg.com/profile_banners/36327407/1603844108', profile_link_color='1D8BA1', profile_sidebar_border_color='FFFFFF', profile_sidebar_fill_color='BACAD4', profile_text_color='1D1B1B', profile_use_background_image=True, has_extended_profile=False, default_profile=False, default_profile_image=False, following=False, follow_request_sent=False, notifications=False, translator_type='none'), geo=None, coordinates=None, place=None, contributors=None, is_quote_status=False, retweet_count=0, favorite_count=6, favorited=False, retweeted=False, possibly_sensitive=False, lang='en') \n",
      "\n",
      "..............................\n",
      "\n",
      "Status(_api=<tweepy.api.API object at 0x0000025696F2F848>, _json={'created_at': 'Mon Oct 26 09:40:00 +0000 2020', 'id': 1320661446536159232, 'id_str': '1320661446536159232', 'full_text': '#BiharElection2020 | The Banka constituency will witness the battle RJD, BJP and the RSLP to win the seat\\n\\nVoting will take place on October 28, in the first phase of the #BiharAssemblyElections \\n\\n#ElectionsWithHT\\n\\nhttps://t.co/ugrnVDg2OB https://t.co/2bMSQTnkdj', 'truncated': False, 'display_text_range': [0, 238], 'entities': {'hashtags': [{'text': 'BiharElection2020', 'indices': [0, 18]}, {'text': 'BiharAssemblyElections', 'indices': [171, 194]}, {'text': 'ElectionsWithHT', 'indices': [197, 213]}], 'symbols': [], 'user_mentions': [], 'urls': [{'url': 'https://t.co/ugrnVDg2OB', 'expanded_url': 'https://www.hindustantimes.com/bihar-election/bihar-election-2020-banka-to-witness-triangular-fight/story-tixKQL5mEBZSNRB5z06TBJ.html', 'display_url': 'hindustantimes.com/bihar-election…', 'indices': [215, 238]}], 'media': [{'id': 1320642575112392705, 'id_str': '1320642575112392705', 'indices': [239, 262], 'media_url': 'http://pbs.twimg.com/media/ElPdbMzU0AEyqpl.jpg', 'media_url_https': 'https://pbs.twimg.com/media/ElPdbMzU0AEyqpl.jpg', 'url': 'https://t.co/2bMSQTnkdj', 'display_url': 'pic.twitter.com/2bMSQTnkdj', 'expanded_url': 'https://twitter.com/htTweets/status/1320661446536159232/photo/1', 'type': 'photo', 'sizes': {'thumb': {'w': 150, 'h': 150, 'resize': 'crop'}, 'medium': {'w': 1200, 'h': 675, 'resize': 'fit'}, 'large': {'w': 1200, 'h': 675, 'resize': 'fit'}, 'small': {'w': 680, 'h': 383, 'resize': 'fit'}}}]}, 'extended_entities': {'media': [{'id': 1320642575112392705, 'id_str': '1320642575112392705', 'indices': [239, 262], 'media_url': 'http://pbs.twimg.com/media/ElPdbMzU0AEyqpl.jpg', 'media_url_https': 'https://pbs.twimg.com/media/ElPdbMzU0AEyqpl.jpg', 'url': 'https://t.co/2bMSQTnkdj', 'display_url': 'pic.twitter.com/2bMSQTnkdj', 'expanded_url': 'https://twitter.com/htTweets/status/1320661446536159232/photo/1', 'type': 'photo', 'sizes': {'thumb': {'w': 150, 'h': 150, 'resize': 'crop'}, 'medium': {'w': 1200, 'h': 675, 'resize': 'fit'}, 'large': {'w': 1200, 'h': 675, 'resize': 'fit'}, 'small': {'w': 680, 'h': 383, 'resize': 'fit'}}}]}, 'metadata': {'iso_language_code': 'en', 'result_type': 'recent'}, 'source': '<a href=\"https://about.twitter.com/products/tweetdeck\" rel=\"nofollow\">TweetDeck</a>', 'in_reply_to_status_id': None, 'in_reply_to_status_id_str': None, 'in_reply_to_user_id': None, 'in_reply_to_user_id_str': None, 'in_reply_to_screen_name': None, 'user': {'id': 36327407, 'id_str': '36327407', 'name': 'Hindustan Times', 'screen_name': 'htTweets', 'location': 'India', 'description': \"One of India's largest media companies. Latest news from around the world. Retweets are not endorsements\", 'url': 'https://t.co/yEyv2GeRpS', 'entities': {'url': {'urls': [{'url': 'https://t.co/yEyv2GeRpS', 'expanded_url': 'http://www.hindustantimes.com', 'display_url': 'hindustantimes.com', 'indices': [0, 23]}]}, 'description': {'urls': []}}, 'protected': False, 'followers_count': 7799676, 'friends_count': 125, 'listed_count': 7059, 'created_at': 'Wed Apr 29 10:11:34 +0000 2009', 'favourites_count': 2949, 'utc_offset': None, 'time_zone': None, 'geo_enabled': True, 'verified': True, 'statuses_count': 795459, 'lang': None, 'contributors_enabled': False, 'is_translator': False, 'is_translation_enabled': False, 'profile_background_color': '1A1B1F', 'profile_background_image_url': 'http://abs.twimg.com/images/themes/theme9/bg.gif', 'profile_background_image_url_https': 'https://abs.twimg.com/images/themes/theme9/bg.gif', 'profile_background_tile': False, 'profile_image_url': 'http://pbs.twimg.com/profile_images/1300145337617661952/Z6rMaX5R_normal.jpg', 'profile_image_url_https': 'https://pbs.twimg.com/profile_images/1300145337617661952/Z6rMaX5R_normal.jpg', 'profile_banner_url': 'https://pbs.twimg.com/profile_banners/36327407/1603844108', 'profile_link_color': '1D8BA1', 'profile_sidebar_border_color': 'FFFFFF', 'profile_sidebar_fill_color': 'BACAD4', 'profile_text_color': '1D1B1B', 'profile_use_background_image': True, 'has_extended_profile': False, 'default_profile': False, 'default_profile_image': False, 'following': False, 'follow_request_sent': False, 'notifications': False, 'translator_type': 'none'}, 'geo': None, 'coordinates': None, 'place': None, 'contributors': None, 'is_quote_status': False, 'retweet_count': 0, 'favorite_count': 13, 'favorited': False, 'retweeted': False, 'possibly_sensitive': False, 'lang': 'en'}, created_at=datetime.datetime(2020, 10, 26, 9, 40), id=1320661446536159232, id_str='1320661446536159232', full_text='#BiharElection2020 | The Banka constituency will witness the battle RJD, BJP and the RSLP to win the seat\\n\\nVoting will take place on October 28, in the first phase of the #BiharAssemblyElections \\n\\n#ElectionsWithHT\\n\\nhttps://t.co/ugrnVDg2OB https://t.co/2bMSQTnkdj', truncated=False, display_text_range=[0, 238], entities={'hashtags': [{'text': 'BiharElection2020', 'indices': [0, 18]}, {'text': 'BiharAssemblyElections', 'indices': [171, 194]}, {'text': 'ElectionsWithHT', 'indices': [197, 213]}], 'symbols': [], 'user_mentions': [], 'urls': [{'url': 'https://t.co/ugrnVDg2OB', 'expanded_url': 'https://www.hindustantimes.com/bihar-election/bihar-election-2020-banka-to-witness-triangular-fight/story-tixKQL5mEBZSNRB5z06TBJ.html', 'display_url': 'hindustantimes.com/bihar-election…', 'indices': [215, 238]}], 'media': [{'id': 1320642575112392705, 'id_str': '1320642575112392705', 'indices': [239, 262], 'media_url': 'http://pbs.twimg.com/media/ElPdbMzU0AEyqpl.jpg', 'media_url_https': 'https://pbs.twimg.com/media/ElPdbMzU0AEyqpl.jpg', 'url': 'https://t.co/2bMSQTnkdj', 'display_url': 'pic.twitter.com/2bMSQTnkdj', 'expanded_url': 'https://twitter.com/htTweets/status/1320661446536159232/photo/1', 'type': 'photo', 'sizes': {'thumb': {'w': 150, 'h': 150, 'resize': 'crop'}, 'medium': {'w': 1200, 'h': 675, 'resize': 'fit'}, 'large': {'w': 1200, 'h': 675, 'resize': 'fit'}, 'small': {'w': 680, 'h': 383, 'resize': 'fit'}}}]}, extended_entities={'media': [{'id': 1320642575112392705, 'id_str': '1320642575112392705', 'indices': [239, 262], 'media_url': 'http://pbs.twimg.com/media/ElPdbMzU0AEyqpl.jpg', 'media_url_https': 'https://pbs.twimg.com/media/ElPdbMzU0AEyqpl.jpg', 'url': 'https://t.co/2bMSQTnkdj', 'display_url': 'pic.twitter.com/2bMSQTnkdj', 'expanded_url': 'https://twitter.com/htTweets/status/1320661446536159232/photo/1', 'type': 'photo', 'sizes': {'thumb': {'w': 150, 'h': 150, 'resize': 'crop'}, 'medium': {'w': 1200, 'h': 675, 'resize': 'fit'}, 'large': {'w': 1200, 'h': 675, 'resize': 'fit'}, 'small': {'w': 680, 'h': 383, 'resize': 'fit'}}}]}, metadata={'iso_language_code': 'en', 'result_type': 'recent'}, source='TweetDeck', source_url='https://about.twitter.com/products/tweetdeck', in_reply_to_status_id=None, in_reply_to_status_id_str=None, in_reply_to_user_id=None, in_reply_to_user_id_str=None, in_reply_to_screen_name=None, author=User(_api=<tweepy.api.API object at 0x0000025696F2F848>, _json={'id': 36327407, 'id_str': '36327407', 'name': 'Hindustan Times', 'screen_name': 'htTweets', 'location': 'India', 'description': \"One of India's largest media companies. Latest news from around the world. Retweets are not endorsements\", 'url': 'https://t.co/yEyv2GeRpS', 'entities': {'url': {'urls': [{'url': 'https://t.co/yEyv2GeRpS', 'expanded_url': 'http://www.hindustantimes.com', 'display_url': 'hindustantimes.com', 'indices': [0, 23]}]}, 'description': {'urls': []}}, 'protected': False, 'followers_count': 7799676, 'friends_count': 125, 'listed_count': 7059, 'created_at': 'Wed Apr 29 10:11:34 +0000 2009', 'favourites_count': 2949, 'utc_offset': None, 'time_zone': None, 'geo_enabled': True, 'verified': True, 'statuses_count': 795459, 'lang': None, 'contributors_enabled': False, 'is_translator': False, 'is_translation_enabled': False, 'profile_background_color': '1A1B1F', 'profile_background_image_url': 'http://abs.twimg.com/images/themes/theme9/bg.gif', 'profile_background_image_url_https': 'https://abs.twimg.com/images/themes/theme9/bg.gif', 'profile_background_tile': False, 'profile_image_url': 'http://pbs.twimg.com/profile_images/1300145337617661952/Z6rMaX5R_normal.jpg', 'profile_image_url_https': 'https://pbs.twimg.com/profile_images/1300145337617661952/Z6rMaX5R_normal.jpg', 'profile_banner_url': 'https://pbs.twimg.com/profile_banners/36327407/1603844108', 'profile_link_color': '1D8BA1', 'profile_sidebar_border_color': 'FFFFFF', 'profile_sidebar_fill_color': 'BACAD4', 'profile_text_color': '1D1B1B', 'profile_use_background_image': True, 'has_extended_profile': False, 'default_profile': False, 'default_profile_image': False, 'following': False, 'follow_request_sent': False, 'notifications': False, 'translator_type': 'none'}, id=36327407, id_str='36327407', name='Hindustan Times', screen_name='htTweets', location='India', description=\"One of India's largest media companies. Latest news from around the world. Retweets are not endorsements\", url='https://t.co/yEyv2GeRpS', entities={'url': {'urls': [{'url': 'https://t.co/yEyv2GeRpS', 'expanded_url': 'http://www.hindustantimes.com', 'display_url': 'hindustantimes.com', 'indices': [0, 23]}]}, 'description': {'urls': []}}, protected=False, followers_count=7799676, friends_count=125, listed_count=7059, created_at=datetime.datetime(2009, 4, 29, 10, 11, 34), favourites_count=2949, utc_offset=None, time_zone=None, geo_enabled=True, verified=True, statuses_count=795459, lang=None, contributors_enabled=False, is_translator=False, is_translation_enabled=False, profile_background_color='1A1B1F', profile_background_image_url='http://abs.twimg.com/images/themes/theme9/bg.gif', profile_background_image_url_https='https://abs.twimg.com/images/themes/theme9/bg.gif', profile_background_tile=False, profile_image_url='http://pbs.twimg.com/profile_images/1300145337617661952/Z6rMaX5R_normal.jpg', profile_image_url_https='https://pbs.twimg.com/profile_images/1300145337617661952/Z6rMaX5R_normal.jpg', profile_banner_url='https://pbs.twimg.com/profile_banners/36327407/1603844108', profile_link_color='1D8BA1', profile_sidebar_border_color='FFFFFF', profile_sidebar_fill_color='BACAD4', profile_text_color='1D1B1B', profile_use_background_image=True, has_extended_profile=False, default_profile=False, default_profile_image=False, following=False, follow_request_sent=False, notifications=False, translator_type='none'), user=User(_api=<tweepy.api.API object at 0x0000025696F2F848>, _json={'id': 36327407, 'id_str': '36327407', 'name': 'Hindustan Times', 'screen_name': 'htTweets', 'location': 'India', 'description': \"One of India's largest media companies. Latest news from around the world. Retweets are not endorsements\", 'url': 'https://t.co/yEyv2GeRpS', 'entities': {'url': {'urls': [{'url': 'https://t.co/yEyv2GeRpS', 'expanded_url': 'http://www.hindustantimes.com', 'display_url': 'hindustantimes.com', 'indices': [0, 23]}]}, 'description': {'urls': []}}, 'protected': False, 'followers_count': 7799676, 'friends_count': 125, 'listed_count': 7059, 'created_at': 'Wed Apr 29 10:11:34 +0000 2009', 'favourites_count': 2949, 'utc_offset': None, 'time_zone': None, 'geo_enabled': True, 'verified': True, 'statuses_count': 795459, 'lang': None, 'contributors_enabled': False, 'is_translator': False, 'is_translation_enabled': False, 'profile_background_color': '1A1B1F', 'profile_background_image_url': 'http://abs.twimg.com/images/themes/theme9/bg.gif', 'profile_background_image_url_https': 'https://abs.twimg.com/images/themes/theme9/bg.gif', 'profile_background_tile': False, 'profile_image_url': 'http://pbs.twimg.com/profile_images/1300145337617661952/Z6rMaX5R_normal.jpg', 'profile_image_url_https': 'https://pbs.twimg.com/profile_images/1300145337617661952/Z6rMaX5R_normal.jpg', 'profile_banner_url': 'https://pbs.twimg.com/profile_banners/36327407/1603844108', 'profile_link_color': '1D8BA1', 'profile_sidebar_border_color': 'FFFFFF', 'profile_sidebar_fill_color': 'BACAD4', 'profile_text_color': '1D1B1B', 'profile_use_background_image': True, 'has_extended_profile': False, 'default_profile': False, 'default_profile_image': False, 'following': False, 'follow_request_sent': False, 'notifications': False, 'translator_type': 'none'}, id=36327407, id_str='36327407', name='Hindustan Times', screen_name='htTweets', location='India', description=\"One of India's largest media companies. Latest news from around the world. Retweets are not endorsements\", url='https://t.co/yEyv2GeRpS', entities={'url': {'urls': [{'url': 'https://t.co/yEyv2GeRpS', 'expanded_url': 'http://www.hindustantimes.com', 'display_url': 'hindustantimes.com', 'indices': [0, 23]}]}, 'description': {'urls': []}}, protected=False, followers_count=7799676, friends_count=125, listed_count=7059, created_at=datetime.datetime(2009, 4, 29, 10, 11, 34), favourites_count=2949, utc_offset=None, time_zone=None, geo_enabled=True, verified=True, statuses_count=795459, lang=None, contributors_enabled=False, is_translator=False, is_translation_enabled=False, profile_background_color='1A1B1F', profile_background_image_url='http://abs.twimg.com/images/themes/theme9/bg.gif', profile_background_image_url_https='https://abs.twimg.com/images/themes/theme9/bg.gif', profile_background_tile=False, profile_image_url='http://pbs.twimg.com/profile_images/1300145337617661952/Z6rMaX5R_normal.jpg', profile_image_url_https='https://pbs.twimg.com/profile_images/1300145337617661952/Z6rMaX5R_normal.jpg', profile_banner_url='https://pbs.twimg.com/profile_banners/36327407/1603844108', profile_link_color='1D8BA1', profile_sidebar_border_color='FFFFFF', profile_sidebar_fill_color='BACAD4', profile_text_color='1D1B1B', profile_use_background_image=True, has_extended_profile=False, default_profile=False, default_profile_image=False, following=False, follow_request_sent=False, notifications=False, translator_type='none'), geo=None, coordinates=None, place=None, contributors=None, is_quote_status=False, retweet_count=0, favorite_count=13, favorited=False, retweeted=False, possibly_sensitive=False, lang='en') \n",
      "\n",
      "..............................\n",
      "\n",
      "Status(_api=<tweepy.api.API object at 0x0000025696F2F848>, _json={'created_at': 'Sun Oct 25 05:46:21 +0000 2020', 'id': 1320240261448880134, 'id_str': '1320240261448880134', 'full_text': \"Janata Dal &amp; BJP can't win election on their own credit that's why they are trying to spread Jangal Raj in Bihar. Independent candidate Narayan Singh shot dead in Bihar. #Shame on BJP &amp; Janata Dal.\\nhttps://t.co/3urlnjsI6C\\n\\n@IYC @IYCWestBengal @IYCBihar @INCBihar\", 'truncated': False, 'display_text_range': [0, 270], 'entities': {'hashtags': [{'text': 'Shame', 'indices': [174, 180]}], 'symbols': [], 'user_mentions': [{'screen_name': 'IYC', 'name': 'Youth Congress', 'id': 16293020, 'id_str': '16293020', 'indices': [231, 235]}, {'screen_name': 'IYCWestBengal', 'name': 'WB Youth Congress', 'id': 3244378314, 'id_str': '3244378314', 'indices': [236, 250]}, {'screen_name': 'IYCBihar', 'name': 'Bihar Youth Congress', 'id': 3192953702, 'id_str': '3192953702', 'indices': [251, 260]}, {'screen_name': 'INCBihar', 'name': 'INCBihar', 'id': 922120340032991232, 'id_str': '922120340032991232', 'indices': [261, 270]}], 'urls': [{'url': 'https://t.co/3urlnjsI6C', 'expanded_url': 'https://www.indiatoday.in/elections/story/bihar-independent-candidate-narayan-singh-shot-dead-supporters-beat-assailant-to-death-1734801-2020-10-24', 'display_url': 'indiatoday.in/elections/stor…', 'indices': [206, 229]}]}, 'metadata': {'iso_language_code': 'en', 'result_type': 'recent'}, 'source': '<a href=\"http://twitter.com/download/android\" rel=\"nofollow\">Twitter for Android</a>', 'in_reply_to_status_id': None, 'in_reply_to_status_id_str': None, 'in_reply_to_user_id': None, 'in_reply_to_user_id_str': None, 'in_reply_to_screen_name': None, 'user': {'id': 746354708927832065, 'id_str': '746354708927832065', 'name': 'WB Hooghly DYC', 'screen_name': 'YHooghly', 'location': '', 'description': 'Official Account of Hooghly District Youth Congress', 'url': None, 'entities': {'description': {'urls': []}}, 'protected': False, 'followers_count': 311, 'friends_count': 181, 'listed_count': 3, 'created_at': 'Fri Jun 24 14:50:04 +0000 2016', 'favourites_count': 2602, 'utc_offset': None, 'time_zone': None, 'geo_enabled': False, 'verified': False, 'statuses_count': 6173, 'lang': None, 'contributors_enabled': False, 'is_translator': False, 'is_translation_enabled': False, 'profile_background_color': 'F5F8FA', 'profile_background_image_url': None, 'profile_background_image_url_https': None, 'profile_background_tile': False, 'profile_image_url': 'http://pbs.twimg.com/profile_images/1303405314721505280/km10pvEl_normal.jpg', 'profile_image_url_https': 'https://pbs.twimg.com/profile_images/1303405314721505280/km10pvEl_normal.jpg', 'profile_banner_url': 'https://pbs.twimg.com/profile_banners/746354708927832065/1597252151', 'profile_link_color': '1DA1F2', 'profile_sidebar_border_color': 'C0DEED', 'profile_sidebar_fill_color': 'DDEEF6', 'profile_text_color': '333333', 'profile_use_background_image': True, 'has_extended_profile': False, 'default_profile': True, 'default_profile_image': False, 'following': False, 'follow_request_sent': False, 'notifications': False, 'translator_type': 'none'}, 'geo': None, 'coordinates': None, 'place': None, 'contributors': None, 'is_quote_status': False, 'retweet_count': 0, 'favorite_count': 0, 'favorited': False, 'retweeted': False, 'possibly_sensitive': False, 'lang': 'en'}, created_at=datetime.datetime(2020, 10, 25, 5, 46, 21), id=1320240261448880134, id_str='1320240261448880134', full_text=\"Janata Dal &amp; BJP can't win election on their own credit that's why they are trying to spread Jangal Raj in Bihar. Independent candidate Narayan Singh shot dead in Bihar. #Shame on BJP &amp; Janata Dal.\\nhttps://t.co/3urlnjsI6C\\n\\n@IYC @IYCWestBengal @IYCBihar @INCBihar\", truncated=False, display_text_range=[0, 270], entities={'hashtags': [{'text': 'Shame', 'indices': [174, 180]}], 'symbols': [], 'user_mentions': [{'screen_name': 'IYC', 'name': 'Youth Congress', 'id': 16293020, 'id_str': '16293020', 'indices': [231, 235]}, {'screen_name': 'IYCWestBengal', 'name': 'WB Youth Congress', 'id': 3244378314, 'id_str': '3244378314', 'indices': [236, 250]}, {'screen_name': 'IYCBihar', 'name': 'Bihar Youth Congress', 'id': 3192953702, 'id_str': '3192953702', 'indices': [251, 260]}, {'screen_name': 'INCBihar', 'name': 'INCBihar', 'id': 922120340032991232, 'id_str': '922120340032991232', 'indices': [261, 270]}], 'urls': [{'url': 'https://t.co/3urlnjsI6C', 'expanded_url': 'https://www.indiatoday.in/elections/story/bihar-independent-candidate-narayan-singh-shot-dead-supporters-beat-assailant-to-death-1734801-2020-10-24', 'display_url': 'indiatoday.in/elections/stor…', 'indices': [206, 229]}]}, metadata={'iso_language_code': 'en', 'result_type': 'recent'}, source='Twitter for Android', source_url='http://twitter.com/download/android', in_reply_to_status_id=None, in_reply_to_status_id_str=None, in_reply_to_user_id=None, in_reply_to_user_id_str=None, in_reply_to_screen_name=None, author=User(_api=<tweepy.api.API object at 0x0000025696F2F848>, _json={'id': 746354708927832065, 'id_str': '746354708927832065', 'name': 'WB Hooghly DYC', 'screen_name': 'YHooghly', 'location': '', 'description': 'Official Account of Hooghly District Youth Congress', 'url': None, 'entities': {'description': {'urls': []}}, 'protected': False, 'followers_count': 311, 'friends_count': 181, 'listed_count': 3, 'created_at': 'Fri Jun 24 14:50:04 +0000 2016', 'favourites_count': 2602, 'utc_offset': None, 'time_zone': None, 'geo_enabled': False, 'verified': False, 'statuses_count': 6173, 'lang': None, 'contributors_enabled': False, 'is_translator': False, 'is_translation_enabled': False, 'profile_background_color': 'F5F8FA', 'profile_background_image_url': None, 'profile_background_image_url_https': None, 'profile_background_tile': False, 'profile_image_url': 'http://pbs.twimg.com/profile_images/1303405314721505280/km10pvEl_normal.jpg', 'profile_image_url_https': 'https://pbs.twimg.com/profile_images/1303405314721505280/km10pvEl_normal.jpg', 'profile_banner_url': 'https://pbs.twimg.com/profile_banners/746354708927832065/1597252151', 'profile_link_color': '1DA1F2', 'profile_sidebar_border_color': 'C0DEED', 'profile_sidebar_fill_color': 'DDEEF6', 'profile_text_color': '333333', 'profile_use_background_image': True, 'has_extended_profile': False, 'default_profile': True, 'default_profile_image': False, 'following': False, 'follow_request_sent': False, 'notifications': False, 'translator_type': 'none'}, id=746354708927832065, id_str='746354708927832065', name='WB Hooghly DYC', screen_name='YHooghly', location='', description='Official Account of Hooghly District Youth Congress', url=None, entities={'description': {'urls': []}}, protected=False, followers_count=311, friends_count=181, listed_count=3, created_at=datetime.datetime(2016, 6, 24, 14, 50, 4), favourites_count=2602, utc_offset=None, time_zone=None, geo_enabled=False, verified=False, statuses_count=6173, lang=None, contributors_enabled=False, is_translator=False, is_translation_enabled=False, profile_background_color='F5F8FA', profile_background_image_url=None, profile_background_image_url_https=None, profile_background_tile=False, profile_image_url='http://pbs.twimg.com/profile_images/1303405314721505280/km10pvEl_normal.jpg', profile_image_url_https='https://pbs.twimg.com/profile_images/1303405314721505280/km10pvEl_normal.jpg', profile_banner_url='https://pbs.twimg.com/profile_banners/746354708927832065/1597252151', profile_link_color='1DA1F2', profile_sidebar_border_color='C0DEED', profile_sidebar_fill_color='DDEEF6', profile_text_color='333333', profile_use_background_image=True, has_extended_profile=False, default_profile=True, default_profile_image=False, following=False, follow_request_sent=False, notifications=False, translator_type='none'), user=User(_api=<tweepy.api.API object at 0x0000025696F2F848>, _json={'id': 746354708927832065, 'id_str': '746354708927832065', 'name': 'WB Hooghly DYC', 'screen_name': 'YHooghly', 'location': '', 'description': 'Official Account of Hooghly District Youth Congress', 'url': None, 'entities': {'description': {'urls': []}}, 'protected': False, 'followers_count': 311, 'friends_count': 181, 'listed_count': 3, 'created_at': 'Fri Jun 24 14:50:04 +0000 2016', 'favourites_count': 2602, 'utc_offset': None, 'time_zone': None, 'geo_enabled': False, 'verified': False, 'statuses_count': 6173, 'lang': None, 'contributors_enabled': False, 'is_translator': False, 'is_translation_enabled': False, 'profile_background_color': 'F5F8FA', 'profile_background_image_url': None, 'profile_background_image_url_https': None, 'profile_background_tile': False, 'profile_image_url': 'http://pbs.twimg.com/profile_images/1303405314721505280/km10pvEl_normal.jpg', 'profile_image_url_https': 'https://pbs.twimg.com/profile_images/1303405314721505280/km10pvEl_normal.jpg', 'profile_banner_url': 'https://pbs.twimg.com/profile_banners/746354708927832065/1597252151', 'profile_link_color': '1DA1F2', 'profile_sidebar_border_color': 'C0DEED', 'profile_sidebar_fill_color': 'DDEEF6', 'profile_text_color': '333333', 'profile_use_background_image': True, 'has_extended_profile': False, 'default_profile': True, 'default_profile_image': False, 'following': False, 'follow_request_sent': False, 'notifications': False, 'translator_type': 'none'}, id=746354708927832065, id_str='746354708927832065', name='WB Hooghly DYC', screen_name='YHooghly', location='', description='Official Account of Hooghly District Youth Congress', url=None, entities={'description': {'urls': []}}, protected=False, followers_count=311, friends_count=181, listed_count=3, created_at=datetime.datetime(2016, 6, 24, 14, 50, 4), favourites_count=2602, utc_offset=None, time_zone=None, geo_enabled=False, verified=False, statuses_count=6173, lang=None, contributors_enabled=False, is_translator=False, is_translation_enabled=False, profile_background_color='F5F8FA', profile_background_image_url=None, profile_background_image_url_https=None, profile_background_tile=False, profile_image_url='http://pbs.twimg.com/profile_images/1303405314721505280/km10pvEl_normal.jpg', profile_image_url_https='https://pbs.twimg.com/profile_images/1303405314721505280/km10pvEl_normal.jpg', profile_banner_url='https://pbs.twimg.com/profile_banners/746354708927832065/1597252151', profile_link_color='1DA1F2', profile_sidebar_border_color='C0DEED', profile_sidebar_fill_color='DDEEF6', profile_text_color='333333', profile_use_background_image=True, has_extended_profile=False, default_profile=True, default_profile_image=False, following=False, follow_request_sent=False, notifications=False, translator_type='none'), geo=None, coordinates=None, place=None, contributors=None, is_quote_status=False, retweet_count=0, favorite_count=0, favorited=False, retweeted=False, possibly_sensitive=False, lang='en') \n",
      "\n",
      "..............................\n",
      "\n",
      "Status(_api=<tweepy.api.API object at 0x0000025696F2F848>, _json={'created_at': 'Sun Oct 25 00:11:17 +0000 2020', 'id': 1320155936908963841, 'id_str': '1320155936908963841', 'full_text': '@Nher_who While we have a fair impression on the direction of wind in Bihar, our attention is now needed on a more important election - the MP bypolls. Let not BJP or its bootlicking chamchas manage to win a single seat that they did not win earlier\\n\\n#MPByPoll2020\\n\\nhttps://t.co/bEgLHddq1b', 'truncated': False, 'display_text_range': [10, 289], 'entities': {'hashtags': [{'text': 'MPByPoll2020', 'indices': [251, 264]}], 'symbols': [], 'user_mentions': [{'screen_name': 'Nher_who', 'name': 'Nehr_who?', 'id': 788998565381021696, 'id_str': '788998565381021696', 'indices': [0, 9]}], 'urls': [{'url': 'https://t.co/bEgLHddq1b', 'expanded_url': 'https://news.google.com/articles/CAIiEDFsK5KR8Azn065UubpcMBAqFggEKg4IACoGCAoww7k_MMevCDDpywE?hl=en-IN&gl=IN&ceid=IN%3Aen', 'display_url': 'news.google.com/articles/CAIiE…', 'indices': [266, 289]}]}, 'metadata': {'iso_language_code': 'en', 'result_type': 'recent'}, 'source': '<a href=\"https://mobile.twitter.com\" rel=\"nofollow\">Twitter Web App</a>', 'in_reply_to_status_id': 1320025383647916035, 'in_reply_to_status_id_str': '1320025383647916035', 'in_reply_to_user_id': 788998565381021696, 'in_reply_to_user_id_str': '788998565381021696', 'in_reply_to_screen_name': 'Nher_who', 'user': {'id': 332822437, 'id_str': '332822437', 'name': 'Tathagato Roychoudhury', 'screen_name': 'tathagatorc', 'location': 'New Delhi', 'description': 'Maverick, Rebel with a cause, Free thinker, Activist...', 'url': 'https://t.co/jkyjbU2A7Z', 'entities': {'url': {'urls': [{'url': 'https://t.co/jkyjbU2A7Z', 'expanded_url': 'https://www.facebook.com/tathagatorc', 'display_url': 'facebook.com/tathagatorc', 'indices': [0, 23]}]}, 'description': {'urls': []}}, 'protected': False, 'followers_count': 84, 'friends_count': 93, 'listed_count': 0, 'created_at': 'Sun Jul 10 13:49:09 +0000 2011', 'favourites_count': 1128, 'utc_offset': None, 'time_zone': None, 'geo_enabled': True, 'verified': False, 'statuses_count': 2560, 'lang': None, 'contributors_enabled': False, 'is_translator': False, 'is_translation_enabled': False, 'profile_background_color': 'C0DEED', 'profile_background_image_url': 'http://abs.twimg.com/images/themes/theme1/bg.png', 'profile_background_image_url_https': 'https://abs.twimg.com/images/themes/theme1/bg.png', 'profile_background_tile': False, 'profile_image_url': 'http://pbs.twimg.com/profile_images/1224869396109197312/TIB4wbxi_normal.jpg', 'profile_image_url_https': 'https://pbs.twimg.com/profile_images/1224869396109197312/TIB4wbxi_normal.jpg', 'profile_banner_url': 'https://pbs.twimg.com/profile_banners/332822437/1583725520', 'profile_link_color': '1DA1F2', 'profile_sidebar_border_color': 'C0DEED', 'profile_sidebar_fill_color': 'DDEEF6', 'profile_text_color': '333333', 'profile_use_background_image': True, 'has_extended_profile': False, 'default_profile': True, 'default_profile_image': False, 'following': False, 'follow_request_sent': False, 'notifications': False, 'translator_type': 'none'}, 'geo': None, 'coordinates': None, 'place': None, 'contributors': None, 'is_quote_status': False, 'retweet_count': 0, 'favorite_count': 1, 'favorited': False, 'retweeted': False, 'possibly_sensitive': False, 'lang': 'en'}, created_at=datetime.datetime(2020, 10, 25, 0, 11, 17), id=1320155936908963841, id_str='1320155936908963841', full_text='@Nher_who While we have a fair impression on the direction of wind in Bihar, our attention is now needed on a more important election - the MP bypolls. Let not BJP or its bootlicking chamchas manage to win a single seat that they did not win earlier\\n\\n#MPByPoll2020\\n\\nhttps://t.co/bEgLHddq1b', truncated=False, display_text_range=[10, 289], entities={'hashtags': [{'text': 'MPByPoll2020', 'indices': [251, 264]}], 'symbols': [], 'user_mentions': [{'screen_name': 'Nher_who', 'name': 'Nehr_who?', 'id': 788998565381021696, 'id_str': '788998565381021696', 'indices': [0, 9]}], 'urls': [{'url': 'https://t.co/bEgLHddq1b', 'expanded_url': 'https://news.google.com/articles/CAIiEDFsK5KR8Azn065UubpcMBAqFggEKg4IACoGCAoww7k_MMevCDDpywE?hl=en-IN&gl=IN&ceid=IN%3Aen', 'display_url': 'news.google.com/articles/CAIiE…', 'indices': [266, 289]}]}, metadata={'iso_language_code': 'en', 'result_type': 'recent'}, source='Twitter Web App', source_url='https://mobile.twitter.com', in_reply_to_status_id=1320025383647916035, in_reply_to_status_id_str='1320025383647916035', in_reply_to_user_id=788998565381021696, in_reply_to_user_id_str='788998565381021696', in_reply_to_screen_name='Nher_who', author=User(_api=<tweepy.api.API object at 0x0000025696F2F848>, _json={'id': 332822437, 'id_str': '332822437', 'name': 'Tathagato Roychoudhury', 'screen_name': 'tathagatorc', 'location': 'New Delhi', 'description': 'Maverick, Rebel with a cause, Free thinker, Activist...', 'url': 'https://t.co/jkyjbU2A7Z', 'entities': {'url': {'urls': [{'url': 'https://t.co/jkyjbU2A7Z', 'expanded_url': 'https://www.facebook.com/tathagatorc', 'display_url': 'facebook.com/tathagatorc', 'indices': [0, 23]}]}, 'description': {'urls': []}}, 'protected': False, 'followers_count': 84, 'friends_count': 93, 'listed_count': 0, 'created_at': 'Sun Jul 10 13:49:09 +0000 2011', 'favourites_count': 1128, 'utc_offset': None, 'time_zone': None, 'geo_enabled': True, 'verified': False, 'statuses_count': 2560, 'lang': None, 'contributors_enabled': False, 'is_translator': False, 'is_translation_enabled': False, 'profile_background_color': 'C0DEED', 'profile_background_image_url': 'http://abs.twimg.com/images/themes/theme1/bg.png', 'profile_background_image_url_https': 'https://abs.twimg.com/images/themes/theme1/bg.png', 'profile_background_tile': False, 'profile_image_url': 'http://pbs.twimg.com/profile_images/1224869396109197312/TIB4wbxi_normal.jpg', 'profile_image_url_https': 'https://pbs.twimg.com/profile_images/1224869396109197312/TIB4wbxi_normal.jpg', 'profile_banner_url': 'https://pbs.twimg.com/profile_banners/332822437/1583725520', 'profile_link_color': '1DA1F2', 'profile_sidebar_border_color': 'C0DEED', 'profile_sidebar_fill_color': 'DDEEF6', 'profile_text_color': '333333', 'profile_use_background_image': True, 'has_extended_profile': False, 'default_profile': True, 'default_profile_image': False, 'following': False, 'follow_request_sent': False, 'notifications': False, 'translator_type': 'none'}, id=332822437, id_str='332822437', name='Tathagato Roychoudhury', screen_name='tathagatorc', location='New Delhi', description='Maverick, Rebel with a cause, Free thinker, Activist...', url='https://t.co/jkyjbU2A7Z', entities={'url': {'urls': [{'url': 'https://t.co/jkyjbU2A7Z', 'expanded_url': 'https://www.facebook.com/tathagatorc', 'display_url': 'facebook.com/tathagatorc', 'indices': [0, 23]}]}, 'description': {'urls': []}}, protected=False, followers_count=84, friends_count=93, listed_count=0, created_at=datetime.datetime(2011, 7, 10, 13, 49, 9), favourites_count=1128, utc_offset=None, time_zone=None, geo_enabled=True, verified=False, statuses_count=2560, lang=None, contributors_enabled=False, is_translator=False, is_translation_enabled=False, profile_background_color='C0DEED', profile_background_image_url='http://abs.twimg.com/images/themes/theme1/bg.png', profile_background_image_url_https='https://abs.twimg.com/images/themes/theme1/bg.png', profile_background_tile=False, profile_image_url='http://pbs.twimg.com/profile_images/1224869396109197312/TIB4wbxi_normal.jpg', profile_image_url_https='https://pbs.twimg.com/profile_images/1224869396109197312/TIB4wbxi_normal.jpg', profile_banner_url='https://pbs.twimg.com/profile_banners/332822437/1583725520', profile_link_color='1DA1F2', profile_sidebar_border_color='C0DEED', profile_sidebar_fill_color='DDEEF6', profile_text_color='333333', profile_use_background_image=True, has_extended_profile=False, default_profile=True, default_profile_image=False, following=False, follow_request_sent=False, notifications=False, translator_type='none'), user=User(_api=<tweepy.api.API object at 0x0000025696F2F848>, _json={'id': 332822437, 'id_str': '332822437', 'name': 'Tathagato Roychoudhury', 'screen_name': 'tathagatorc', 'location': 'New Delhi', 'description': 'Maverick, Rebel with a cause, Free thinker, Activist...', 'url': 'https://t.co/jkyjbU2A7Z', 'entities': {'url': {'urls': [{'url': 'https://t.co/jkyjbU2A7Z', 'expanded_url': 'https://www.facebook.com/tathagatorc', 'display_url': 'facebook.com/tathagatorc', 'indices': [0, 23]}]}, 'description': {'urls': []}}, 'protected': False, 'followers_count': 84, 'friends_count': 93, 'listed_count': 0, 'created_at': 'Sun Jul 10 13:49:09 +0000 2011', 'favourites_count': 1128, 'utc_offset': None, 'time_zone': None, 'geo_enabled': True, 'verified': False, 'statuses_count': 2560, 'lang': None, 'contributors_enabled': False, 'is_translator': False, 'is_translation_enabled': False, 'profile_background_color': 'C0DEED', 'profile_background_image_url': 'http://abs.twimg.com/images/themes/theme1/bg.png', 'profile_background_image_url_https': 'https://abs.twimg.com/images/themes/theme1/bg.png', 'profile_background_tile': False, 'profile_image_url': 'http://pbs.twimg.com/profile_images/1224869396109197312/TIB4wbxi_normal.jpg', 'profile_image_url_https': 'https://pbs.twimg.com/profile_images/1224869396109197312/TIB4wbxi_normal.jpg', 'profile_banner_url': 'https://pbs.twimg.com/profile_banners/332822437/1583725520', 'profile_link_color': '1DA1F2', 'profile_sidebar_border_color': 'C0DEED', 'profile_sidebar_fill_color': 'DDEEF6', 'profile_text_color': '333333', 'profile_use_background_image': True, 'has_extended_profile': False, 'default_profile': True, 'default_profile_image': False, 'following': False, 'follow_request_sent': False, 'notifications': False, 'translator_type': 'none'}, id=332822437, id_str='332822437', name='Tathagato Roychoudhury', screen_name='tathagatorc', location='New Delhi', description='Maverick, Rebel with a cause, Free thinker, Activist...', url='https://t.co/jkyjbU2A7Z', entities={'url': {'urls': [{'url': 'https://t.co/jkyjbU2A7Z', 'expanded_url': 'https://www.facebook.com/tathagatorc', 'display_url': 'facebook.com/tathagatorc', 'indices': [0, 23]}]}, 'description': {'urls': []}}, protected=False, followers_count=84, friends_count=93, listed_count=0, created_at=datetime.datetime(2011, 7, 10, 13, 49, 9), favourites_count=1128, utc_offset=None, time_zone=None, geo_enabled=True, verified=False, statuses_count=2560, lang=None, contributors_enabled=False, is_translator=False, is_translation_enabled=False, profile_background_color='C0DEED', profile_background_image_url='http://abs.twimg.com/images/themes/theme1/bg.png', profile_background_image_url_https='https://abs.twimg.com/images/themes/theme1/bg.png', profile_background_tile=False, profile_image_url='http://pbs.twimg.com/profile_images/1224869396109197312/TIB4wbxi_normal.jpg', profile_image_url_https='https://pbs.twimg.com/profile_images/1224869396109197312/TIB4wbxi_normal.jpg', profile_banner_url='https://pbs.twimg.com/profile_banners/332822437/1583725520', profile_link_color='1DA1F2', profile_sidebar_border_color='C0DEED', profile_sidebar_fill_color='DDEEF6', profile_text_color='333333', profile_use_background_image=True, has_extended_profile=False, default_profile=True, default_profile_image=False, following=False, follow_request_sent=False, notifications=False, translator_type='none'), geo=None, coordinates=None, place=None, contributors=None, is_quote_status=False, retweet_count=0, favorite_count=1, favorited=False, retweeted=False, possibly_sensitive=False, lang='en') \n",
      "\n",
      "..............................\n",
      "\n",
      "Status(_api=<tweepy.api.API object at 0x0000025696F2F848>, _json={'created_at': 'Sun Oct 25 00:10:11 +0000 2020', 'id': 1320155659011125248, 'id_str': '1320155659011125248', 'full_text': '@MaheshPSahoo While we have a fair impression on the direction of wind in Bihar, our attention is now needed on a more important election - the MP bypolls. Let not BJP or its bootlicking chamchas manage to win a single seat that they did not win earlier\\n\\n#MPByPoll2020\\n\\nhttps://t.co/bEgLHddq1b', 'truncated': False, 'display_text_range': [14, 293], 'entities': {'hashtags': [{'text': 'MPByPoll2020', 'indices': [255, 268]}], 'symbols': [], 'user_mentions': [{'screen_name': 'MaheshPSahoo', 'name': 'Mahesh Prakash Sahoo', 'id': 2975976374, 'id_str': '2975976374', 'indices': [0, 13]}], 'urls': [{'url': 'https://t.co/bEgLHddq1b', 'expanded_url': 'https://news.google.com/articles/CAIiEDFsK5KR8Azn065UubpcMBAqFggEKg4IACoGCAoww7k_MMevCDDpywE?hl=en-IN&gl=IN&ceid=IN%3Aen', 'display_url': 'news.google.com/articles/CAIiE…', 'indices': [270, 293]}]}, 'metadata': {'iso_language_code': 'en', 'result_type': 'recent'}, 'source': '<a href=\"https://mobile.twitter.com\" rel=\"nofollow\">Twitter Web App</a>', 'in_reply_to_status_id': 1319974850052583425, 'in_reply_to_status_id_str': '1319974850052583425', 'in_reply_to_user_id': 2975976374, 'in_reply_to_user_id_str': '2975976374', 'in_reply_to_screen_name': 'MaheshPSahoo', 'user': {'id': 332822437, 'id_str': '332822437', 'name': 'Tathagato Roychoudhury', 'screen_name': 'tathagatorc', 'location': 'New Delhi', 'description': 'Maverick, Rebel with a cause, Free thinker, Activist...', 'url': 'https://t.co/jkyjbU2A7Z', 'entities': {'url': {'urls': [{'url': 'https://t.co/jkyjbU2A7Z', 'expanded_url': 'https://www.facebook.com/tathagatorc', 'display_url': 'facebook.com/tathagatorc', 'indices': [0, 23]}]}, 'description': {'urls': []}}, 'protected': False, 'followers_count': 84, 'friends_count': 93, 'listed_count': 0, 'created_at': 'Sun Jul 10 13:49:09 +0000 2011', 'favourites_count': 1128, 'utc_offset': None, 'time_zone': None, 'geo_enabled': True, 'verified': False, 'statuses_count': 2560, 'lang': None, 'contributors_enabled': False, 'is_translator': False, 'is_translation_enabled': False, 'profile_background_color': 'C0DEED', 'profile_background_image_url': 'http://abs.twimg.com/images/themes/theme1/bg.png', 'profile_background_image_url_https': 'https://abs.twimg.com/images/themes/theme1/bg.png', 'profile_background_tile': False, 'profile_image_url': 'http://pbs.twimg.com/profile_images/1224869396109197312/TIB4wbxi_normal.jpg', 'profile_image_url_https': 'https://pbs.twimg.com/profile_images/1224869396109197312/TIB4wbxi_normal.jpg', 'profile_banner_url': 'https://pbs.twimg.com/profile_banners/332822437/1583725520', 'profile_link_color': '1DA1F2', 'profile_sidebar_border_color': 'C0DEED', 'profile_sidebar_fill_color': 'DDEEF6', 'profile_text_color': '333333', 'profile_use_background_image': True, 'has_extended_profile': False, 'default_profile': True, 'default_profile_image': False, 'following': False, 'follow_request_sent': False, 'notifications': False, 'translator_type': 'none'}, 'geo': None, 'coordinates': None, 'place': None, 'contributors': None, 'is_quote_status': False, 'retweet_count': 0, 'favorite_count': 1, 'favorited': False, 'retweeted': False, 'possibly_sensitive': False, 'lang': 'en'}, created_at=datetime.datetime(2020, 10, 25, 0, 10, 11), id=1320155659011125248, id_str='1320155659011125248', full_text='@MaheshPSahoo While we have a fair impression on the direction of wind in Bihar, our attention is now needed on a more important election - the MP bypolls. Let not BJP or its bootlicking chamchas manage to win a single seat that they did not win earlier\\n\\n#MPByPoll2020\\n\\nhttps://t.co/bEgLHddq1b', truncated=False, display_text_range=[14, 293], entities={'hashtags': [{'text': 'MPByPoll2020', 'indices': [255, 268]}], 'symbols': [], 'user_mentions': [{'screen_name': 'MaheshPSahoo', 'name': 'Mahesh Prakash Sahoo', 'id': 2975976374, 'id_str': '2975976374', 'indices': [0, 13]}], 'urls': [{'url': 'https://t.co/bEgLHddq1b', 'expanded_url': 'https://news.google.com/articles/CAIiEDFsK5KR8Azn065UubpcMBAqFggEKg4IACoGCAoww7k_MMevCDDpywE?hl=en-IN&gl=IN&ceid=IN%3Aen', 'display_url': 'news.google.com/articles/CAIiE…', 'indices': [270, 293]}]}, metadata={'iso_language_code': 'en', 'result_type': 'recent'}, source='Twitter Web App', source_url='https://mobile.twitter.com', in_reply_to_status_id=1319974850052583425, in_reply_to_status_id_str='1319974850052583425', in_reply_to_user_id=2975976374, in_reply_to_user_id_str='2975976374', in_reply_to_screen_name='MaheshPSahoo', author=User(_api=<tweepy.api.API object at 0x0000025696F2F848>, _json={'id': 332822437, 'id_str': '332822437', 'name': 'Tathagato Roychoudhury', 'screen_name': 'tathagatorc', 'location': 'New Delhi', 'description': 'Maverick, Rebel with a cause, Free thinker, Activist...', 'url': 'https://t.co/jkyjbU2A7Z', 'entities': {'url': {'urls': [{'url': 'https://t.co/jkyjbU2A7Z', 'expanded_url': 'https://www.facebook.com/tathagatorc', 'display_url': 'facebook.com/tathagatorc', 'indices': [0, 23]}]}, 'description': {'urls': []}}, 'protected': False, 'followers_count': 84, 'friends_count': 93, 'listed_count': 0, 'created_at': 'Sun Jul 10 13:49:09 +0000 2011', 'favourites_count': 1128, 'utc_offset': None, 'time_zone': None, 'geo_enabled': True, 'verified': False, 'statuses_count': 2560, 'lang': None, 'contributors_enabled': False, 'is_translator': False, 'is_translation_enabled': False, 'profile_background_color': 'C0DEED', 'profile_background_image_url': 'http://abs.twimg.com/images/themes/theme1/bg.png', 'profile_background_image_url_https': 'https://abs.twimg.com/images/themes/theme1/bg.png', 'profile_background_tile': False, 'profile_image_url': 'http://pbs.twimg.com/profile_images/1224869396109197312/TIB4wbxi_normal.jpg', 'profile_image_url_https': 'https://pbs.twimg.com/profile_images/1224869396109197312/TIB4wbxi_normal.jpg', 'profile_banner_url': 'https://pbs.twimg.com/profile_banners/332822437/1583725520', 'profile_link_color': '1DA1F2', 'profile_sidebar_border_color': 'C0DEED', 'profile_sidebar_fill_color': 'DDEEF6', 'profile_text_color': '333333', 'profile_use_background_image': True, 'has_extended_profile': False, 'default_profile': True, 'default_profile_image': False, 'following': False, 'follow_request_sent': False, 'notifications': False, 'translator_type': 'none'}, id=332822437, id_str='332822437', name='Tathagato Roychoudhury', screen_name='tathagatorc', location='New Delhi', description='Maverick, Rebel with a cause, Free thinker, Activist...', url='https://t.co/jkyjbU2A7Z', entities={'url': {'urls': [{'url': 'https://t.co/jkyjbU2A7Z', 'expanded_url': 'https://www.facebook.com/tathagatorc', 'display_url': 'facebook.com/tathagatorc', 'indices': [0, 23]}]}, 'description': {'urls': []}}, protected=False, followers_count=84, friends_count=93, listed_count=0, created_at=datetime.datetime(2011, 7, 10, 13, 49, 9), favourites_count=1128, utc_offset=None, time_zone=None, geo_enabled=True, verified=False, statuses_count=2560, lang=None, contributors_enabled=False, is_translator=False, is_translation_enabled=False, profile_background_color='C0DEED', profile_background_image_url='http://abs.twimg.com/images/themes/theme1/bg.png', profile_background_image_url_https='https://abs.twimg.com/images/themes/theme1/bg.png', profile_background_tile=False, profile_image_url='http://pbs.twimg.com/profile_images/1224869396109197312/TIB4wbxi_normal.jpg', profile_image_url_https='https://pbs.twimg.com/profile_images/1224869396109197312/TIB4wbxi_normal.jpg', profile_banner_url='https://pbs.twimg.com/profile_banners/332822437/1583725520', profile_link_color='1DA1F2', profile_sidebar_border_color='C0DEED', profile_sidebar_fill_color='DDEEF6', profile_text_color='333333', profile_use_background_image=True, has_extended_profile=False, default_profile=True, default_profile_image=False, following=False, follow_request_sent=False, notifications=False, translator_type='none'), user=User(_api=<tweepy.api.API object at 0x0000025696F2F848>, _json={'id': 332822437, 'id_str': '332822437', 'name': 'Tathagato Roychoudhury', 'screen_name': 'tathagatorc', 'location': 'New Delhi', 'description': 'Maverick, Rebel with a cause, Free thinker, Activist...', 'url': 'https://t.co/jkyjbU2A7Z', 'entities': {'url': {'urls': [{'url': 'https://t.co/jkyjbU2A7Z', 'expanded_url': 'https://www.facebook.com/tathagatorc', 'display_url': 'facebook.com/tathagatorc', 'indices': [0, 23]}]}, 'description': {'urls': []}}, 'protected': False, 'followers_count': 84, 'friends_count': 93, 'listed_count': 0, 'created_at': 'Sun Jul 10 13:49:09 +0000 2011', 'favourites_count': 1128, 'utc_offset': None, 'time_zone': None, 'geo_enabled': True, 'verified': False, 'statuses_count': 2560, 'lang': None, 'contributors_enabled': False, 'is_translator': False, 'is_translation_enabled': False, 'profile_background_color': 'C0DEED', 'profile_background_image_url': 'http://abs.twimg.com/images/themes/theme1/bg.png', 'profile_background_image_url_https': 'https://abs.twimg.com/images/themes/theme1/bg.png', 'profile_background_tile': False, 'profile_image_url': 'http://pbs.twimg.com/profile_images/1224869396109197312/TIB4wbxi_normal.jpg', 'profile_image_url_https': 'https://pbs.twimg.com/profile_images/1224869396109197312/TIB4wbxi_normal.jpg', 'profile_banner_url': 'https://pbs.twimg.com/profile_banners/332822437/1583725520', 'profile_link_color': '1DA1F2', 'profile_sidebar_border_color': 'C0DEED', 'profile_sidebar_fill_color': 'DDEEF6', 'profile_text_color': '333333', 'profile_use_background_image': True, 'has_extended_profile': False, 'default_profile': True, 'default_profile_image': False, 'following': False, 'follow_request_sent': False, 'notifications': False, 'translator_type': 'none'}, id=332822437, id_str='332822437', name='Tathagato Roychoudhury', screen_name='tathagatorc', location='New Delhi', description='Maverick, Rebel with a cause, Free thinker, Activist...', url='https://t.co/jkyjbU2A7Z', entities={'url': {'urls': [{'url': 'https://t.co/jkyjbU2A7Z', 'expanded_url': 'https://www.facebook.com/tathagatorc', 'display_url': 'facebook.com/tathagatorc', 'indices': [0, 23]}]}, 'description': {'urls': []}}, protected=False, followers_count=84, friends_count=93, listed_count=0, created_at=datetime.datetime(2011, 7, 10, 13, 49, 9), favourites_count=1128, utc_offset=None, time_zone=None, geo_enabled=True, verified=False, statuses_count=2560, lang=None, contributors_enabled=False, is_translator=False, is_translation_enabled=False, profile_background_color='C0DEED', profile_background_image_url='http://abs.twimg.com/images/themes/theme1/bg.png', profile_background_image_url_https='https://abs.twimg.com/images/themes/theme1/bg.png', profile_background_tile=False, profile_image_url='http://pbs.twimg.com/profile_images/1224869396109197312/TIB4wbxi_normal.jpg', profile_image_url_https='https://pbs.twimg.com/profile_images/1224869396109197312/TIB4wbxi_normal.jpg', profile_banner_url='https://pbs.twimg.com/profile_banners/332822437/1583725520', profile_link_color='1DA1F2', profile_sidebar_border_color='C0DEED', profile_sidebar_fill_color='DDEEF6', profile_text_color='333333', profile_use_background_image=True, has_extended_profile=False, default_profile=True, default_profile_image=False, following=False, follow_request_sent=False, notifications=False, translator_type='none'), geo=None, coordinates=None, place=None, contributors=None, is_quote_status=False, retweet_count=0, favorite_count=1, favorited=False, retweeted=False, possibly_sensitive=False, lang='en') \n",
      "\n",
      "..............................\n",
      "\n",
      "Status(_api=<tweepy.api.API object at 0x0000025696F2F848>, _json={'created_at': 'Sun Oct 25 00:07:10 +0000 2020', 'id': 1320154900467122177, 'id_str': '1320154900467122177', 'full_text': 'While we have a fair impression on the direction of wind in Bihar, our attention is now needed on a more important election - the MP bypolls. Let not BJP or its bootlicking chamchas manage to win a single seat that they did not win earlier\\n\\n#MPByPoll2020\\n\\nhttps://t.co/bEgLHddq1b', 'truncated': False, 'display_text_range': [0, 279], 'entities': {'hashtags': [{'text': 'MPByPoll2020', 'indices': [241, 254]}], 'symbols': [], 'user_mentions': [], 'urls': [{'url': 'https://t.co/bEgLHddq1b', 'expanded_url': 'https://news.google.com/articles/CAIiEDFsK5KR8Azn065UubpcMBAqFggEKg4IACoGCAoww7k_MMevCDDpywE?hl=en-IN&gl=IN&ceid=IN%3Aen', 'display_url': 'news.google.com/articles/CAIiE…', 'indices': [256, 279]}]}, 'metadata': {'iso_language_code': 'en', 'result_type': 'recent'}, 'source': '<a href=\"https://mobile.twitter.com\" rel=\"nofollow\">Twitter Web App</a>', 'in_reply_to_status_id': None, 'in_reply_to_status_id_str': None, 'in_reply_to_user_id': None, 'in_reply_to_user_id_str': None, 'in_reply_to_screen_name': None, 'user': {'id': 332822437, 'id_str': '332822437', 'name': 'Tathagato Roychoudhury', 'screen_name': 'tathagatorc', 'location': 'New Delhi', 'description': 'Maverick, Rebel with a cause, Free thinker, Activist...', 'url': 'https://t.co/jkyjbU2A7Z', 'entities': {'url': {'urls': [{'url': 'https://t.co/jkyjbU2A7Z', 'expanded_url': 'https://www.facebook.com/tathagatorc', 'display_url': 'facebook.com/tathagatorc', 'indices': [0, 23]}]}, 'description': {'urls': []}}, 'protected': False, 'followers_count': 84, 'friends_count': 93, 'listed_count': 0, 'created_at': 'Sun Jul 10 13:49:09 +0000 2011', 'favourites_count': 1128, 'utc_offset': None, 'time_zone': None, 'geo_enabled': True, 'verified': False, 'statuses_count': 2560, 'lang': None, 'contributors_enabled': False, 'is_translator': False, 'is_translation_enabled': False, 'profile_background_color': 'C0DEED', 'profile_background_image_url': 'http://abs.twimg.com/images/themes/theme1/bg.png', 'profile_background_image_url_https': 'https://abs.twimg.com/images/themes/theme1/bg.png', 'profile_background_tile': False, 'profile_image_url': 'http://pbs.twimg.com/profile_images/1224869396109197312/TIB4wbxi_normal.jpg', 'profile_image_url_https': 'https://pbs.twimg.com/profile_images/1224869396109197312/TIB4wbxi_normal.jpg', 'profile_banner_url': 'https://pbs.twimg.com/profile_banners/332822437/1583725520', 'profile_link_color': '1DA1F2', 'profile_sidebar_border_color': 'C0DEED', 'profile_sidebar_fill_color': 'DDEEF6', 'profile_text_color': '333333', 'profile_use_background_image': True, 'has_extended_profile': False, 'default_profile': True, 'default_profile_image': False, 'following': False, 'follow_request_sent': False, 'notifications': False, 'translator_type': 'none'}, 'geo': None, 'coordinates': None, 'place': None, 'contributors': None, 'is_quote_status': False, 'retweet_count': 0, 'favorite_count': 0, 'favorited': False, 'retweeted': False, 'possibly_sensitive': False, 'lang': 'en'}, created_at=datetime.datetime(2020, 10, 25, 0, 7, 10), id=1320154900467122177, id_str='1320154900467122177', full_text='While we have a fair impression on the direction of wind in Bihar, our attention is now needed on a more important election - the MP bypolls. Let not BJP or its bootlicking chamchas manage to win a single seat that they did not win earlier\\n\\n#MPByPoll2020\\n\\nhttps://t.co/bEgLHddq1b', truncated=False, display_text_range=[0, 279], entities={'hashtags': [{'text': 'MPByPoll2020', 'indices': [241, 254]}], 'symbols': [], 'user_mentions': [], 'urls': [{'url': 'https://t.co/bEgLHddq1b', 'expanded_url': 'https://news.google.com/articles/CAIiEDFsK5KR8Azn065UubpcMBAqFggEKg4IACoGCAoww7k_MMevCDDpywE?hl=en-IN&gl=IN&ceid=IN%3Aen', 'display_url': 'news.google.com/articles/CAIiE…', 'indices': [256, 279]}]}, metadata={'iso_language_code': 'en', 'result_type': 'recent'}, source='Twitter Web App', source_url='https://mobile.twitter.com', in_reply_to_status_id=None, in_reply_to_status_id_str=None, in_reply_to_user_id=None, in_reply_to_user_id_str=None, in_reply_to_screen_name=None, author=User(_api=<tweepy.api.API object at 0x0000025696F2F848>, _json={'id': 332822437, 'id_str': '332822437', 'name': 'Tathagato Roychoudhury', 'screen_name': 'tathagatorc', 'location': 'New Delhi', 'description': 'Maverick, Rebel with a cause, Free thinker, Activist...', 'url': 'https://t.co/jkyjbU2A7Z', 'entities': {'url': {'urls': [{'url': 'https://t.co/jkyjbU2A7Z', 'expanded_url': 'https://www.facebook.com/tathagatorc', 'display_url': 'facebook.com/tathagatorc', 'indices': [0, 23]}]}, 'description': {'urls': []}}, 'protected': False, 'followers_count': 84, 'friends_count': 93, 'listed_count': 0, 'created_at': 'Sun Jul 10 13:49:09 +0000 2011', 'favourites_count': 1128, 'utc_offset': None, 'time_zone': None, 'geo_enabled': True, 'verified': False, 'statuses_count': 2560, 'lang': None, 'contributors_enabled': False, 'is_translator': False, 'is_translation_enabled': False, 'profile_background_color': 'C0DEED', 'profile_background_image_url': 'http://abs.twimg.com/images/themes/theme1/bg.png', 'profile_background_image_url_https': 'https://abs.twimg.com/images/themes/theme1/bg.png', 'profile_background_tile': False, 'profile_image_url': 'http://pbs.twimg.com/profile_images/1224869396109197312/TIB4wbxi_normal.jpg', 'profile_image_url_https': 'https://pbs.twimg.com/profile_images/1224869396109197312/TIB4wbxi_normal.jpg', 'profile_banner_url': 'https://pbs.twimg.com/profile_banners/332822437/1583725520', 'profile_link_color': '1DA1F2', 'profile_sidebar_border_color': 'C0DEED', 'profile_sidebar_fill_color': 'DDEEF6', 'profile_text_color': '333333', 'profile_use_background_image': True, 'has_extended_profile': False, 'default_profile': True, 'default_profile_image': False, 'following': False, 'follow_request_sent': False, 'notifications': False, 'translator_type': 'none'}, id=332822437, id_str='332822437', name='Tathagato Roychoudhury', screen_name='tathagatorc', location='New Delhi', description='Maverick, Rebel with a cause, Free thinker, Activist...', url='https://t.co/jkyjbU2A7Z', entities={'url': {'urls': [{'url': 'https://t.co/jkyjbU2A7Z', 'expanded_url': 'https://www.facebook.com/tathagatorc', 'display_url': 'facebook.com/tathagatorc', 'indices': [0, 23]}]}, 'description': {'urls': []}}, protected=False, followers_count=84, friends_count=93, listed_count=0, created_at=datetime.datetime(2011, 7, 10, 13, 49, 9), favourites_count=1128, utc_offset=None, time_zone=None, geo_enabled=True, verified=False, statuses_count=2560, lang=None, contributors_enabled=False, is_translator=False, is_translation_enabled=False, profile_background_color='C0DEED', profile_background_image_url='http://abs.twimg.com/images/themes/theme1/bg.png', profile_background_image_url_https='https://abs.twimg.com/images/themes/theme1/bg.png', profile_background_tile=False, profile_image_url='http://pbs.twimg.com/profile_images/1224869396109197312/TIB4wbxi_normal.jpg', profile_image_url_https='https://pbs.twimg.com/profile_images/1224869396109197312/TIB4wbxi_normal.jpg', profile_banner_url='https://pbs.twimg.com/profile_banners/332822437/1583725520', profile_link_color='1DA1F2', profile_sidebar_border_color='C0DEED', profile_sidebar_fill_color='DDEEF6', profile_text_color='333333', profile_use_background_image=True, has_extended_profile=False, default_profile=True, default_profile_image=False, following=False, follow_request_sent=False, notifications=False, translator_type='none'), user=User(_api=<tweepy.api.API object at 0x0000025696F2F848>, _json={'id': 332822437, 'id_str': '332822437', 'name': 'Tathagato Roychoudhury', 'screen_name': 'tathagatorc', 'location': 'New Delhi', 'description': 'Maverick, Rebel with a cause, Free thinker, Activist...', 'url': 'https://t.co/jkyjbU2A7Z', 'entities': {'url': {'urls': [{'url': 'https://t.co/jkyjbU2A7Z', 'expanded_url': 'https://www.facebook.com/tathagatorc', 'display_url': 'facebook.com/tathagatorc', 'indices': [0, 23]}]}, 'description': {'urls': []}}, 'protected': False, 'followers_count': 84, 'friends_count': 93, 'listed_count': 0, 'created_at': 'Sun Jul 10 13:49:09 +0000 2011', 'favourites_count': 1128, 'utc_offset': None, 'time_zone': None, 'geo_enabled': True, 'verified': False, 'statuses_count': 2560, 'lang': None, 'contributors_enabled': False, 'is_translator': False, 'is_translation_enabled': False, 'profile_background_color': 'C0DEED', 'profile_background_image_url': 'http://abs.twimg.com/images/themes/theme1/bg.png', 'profile_background_image_url_https': 'https://abs.twimg.com/images/themes/theme1/bg.png', 'profile_background_tile': False, 'profile_image_url': 'http://pbs.twimg.com/profile_images/1224869396109197312/TIB4wbxi_normal.jpg', 'profile_image_url_https': 'https://pbs.twimg.com/profile_images/1224869396109197312/TIB4wbxi_normal.jpg', 'profile_banner_url': 'https://pbs.twimg.com/profile_banners/332822437/1583725520', 'profile_link_color': '1DA1F2', 'profile_sidebar_border_color': 'C0DEED', 'profile_sidebar_fill_color': 'DDEEF6', 'profile_text_color': '333333', 'profile_use_background_image': True, 'has_extended_profile': False, 'default_profile': True, 'default_profile_image': False, 'following': False, 'follow_request_sent': False, 'notifications': False, 'translator_type': 'none'}, id=332822437, id_str='332822437', name='Tathagato Roychoudhury', screen_name='tathagatorc', location='New Delhi', description='Maverick, Rebel with a cause, Free thinker, Activist...', url='https://t.co/jkyjbU2A7Z', entities={'url': {'urls': [{'url': 'https://t.co/jkyjbU2A7Z', 'expanded_url': 'https://www.facebook.com/tathagatorc', 'display_url': 'facebook.com/tathagatorc', 'indices': [0, 23]}]}, 'description': {'urls': []}}, protected=False, followers_count=84, friends_count=93, listed_count=0, created_at=datetime.datetime(2011, 7, 10, 13, 49, 9), favourites_count=1128, utc_offset=None, time_zone=None, geo_enabled=True, verified=False, statuses_count=2560, lang=None, contributors_enabled=False, is_translator=False, is_translation_enabled=False, profile_background_color='C0DEED', profile_background_image_url='http://abs.twimg.com/images/themes/theme1/bg.png', profile_background_image_url_https='https://abs.twimg.com/images/themes/theme1/bg.png', profile_background_tile=False, profile_image_url='http://pbs.twimg.com/profile_images/1224869396109197312/TIB4wbxi_normal.jpg', profile_image_url_https='https://pbs.twimg.com/profile_images/1224869396109197312/TIB4wbxi_normal.jpg', profile_banner_url='https://pbs.twimg.com/profile_banners/332822437/1583725520', profile_link_color='1DA1F2', profile_sidebar_border_color='C0DEED', profile_sidebar_fill_color='DDEEF6', profile_text_color='333333', profile_use_background_image=True, has_extended_profile=False, default_profile=True, default_profile_image=False, following=False, follow_request_sent=False, notifications=False, translator_type='none'), geo=None, coordinates=None, place=None, contributors=None, is_quote_status=False, retweet_count=0, favorite_count=0, favorited=False, retweeted=False, possibly_sensitive=False, lang='en') \n",
      "\n",
      "..............................\n",
      "\n"
     ]
    }
   ],
   "source": [
    "Tweets = api.search( query , count = 10 , lang = 'en' , exclude = 'retweets' , tweet_mode='extended')\n",
    "\n",
    "for tweets in Tweets:\n",
    "    print(tweets,\"\\n\")\n",
    "    print(\"..............................\\n\")"
   ]
  },
  {
   "cell_type": "raw",
   "metadata": {},
   "source": [
    "Get The tweets and some attributes"
   ]
  },
  {
   "cell_type": "code",
   "execution_count": 9,
   "metadata": {},
   "outputs": [
    {
     "name": "stdout",
     "output_type": "stream",
     "text": [
      "Empty DataFrame\n",
      "Columns: [Tweets, User, User_statuses_count, user_followers, User_location, User_varified, fav_count, rt_count, tweet_date]\n",
      "Index: []\n",
      "(0, 9)\n"
     ]
    }
   ],
   "source": [
    "df = pd.DataFrame(columns = ['Tweets' , 'User' , 'User_statuses_count', 'user_followers' , 'User_location' , 'User_varified' , \n",
    "                            'fav_count' , 'rt_count' , 'tweet_date'] )\n",
    "print(df)\n",
    "print(df.shape)"
   ]
  },
  {
   "cell_type": "code",
   "execution_count": 35,
   "metadata": {},
   "outputs": [],
   "source": [
    "def stream(data , file_name):\n",
    "    i=0\n",
    "    for tweet in tweepy.Cursor(api.search, q=data, count=100, lang='en').items():\n",
    "        print(i, end='\\r')\n",
    "        df.loc[i, 'Tweets'] = tweet.text\n",
    "        df.loc[i, 'User'] = tweet.user.name\n",
    "        df.loc[i, 'User_statuses_count'] = tweet.user.statuses_count\n",
    "        df.loc[i, 'user_followers'] = tweet.user.followers_count\n",
    "        df.loc[i, 'User_statuses_count'] = tweet.user.statuses_count\n",
    "        df.loc[i, 'User_location'] = tweet.user.location\n",
    "        df.loc[i, 'User_verified'] = tweet.user.verified\n",
    "        df.loc[i, 'fav_count'] = tweet.favorite_count\n",
    "        df.loc[i, 'rt_count'] = tweet.retweet_count\n",
    "        df.loc[i, 'tweet_date'] = tweet.created_at\n",
    "        df.to_excel('{}.xlsx' .format(file_name))\n",
    "        i = i+1\n",
    "        if i == 1000:\n",
    "            break\n",
    "        else:\n",
    "            pass"
   ]
  },
  {
   "cell_type": "code",
   "execution_count": 52,
   "metadata": {},
   "outputs": [
    {
     "name": "stdout",
     "output_type": "stream",
     "text": [
      "999\r"
     ]
    }
   ],
   "source": [
    "stream(data=[\"sushant singh rajput case\"] , file_name = 'my_tweets')"
   ]
  },
  {
   "cell_type": "raw",
   "metadata": {},
   "source": [
    "Textblob will do this (to analyze sentiments of tweets):- \n",
    "Sentiment(polarity , subjectivity )\n",
    "\n",
    "Polarity score : [-1 , +1]\n",
    "-1 :- Negative\n",
    "0 :- Neutral\n",
    "+1 :- Positive\n",
    "\n",
    "subjectivity : [0.0 , 1.0]\n",
    "where 0.0 is very objective and 1.0 is very subjective."
   ]
  },
  {
   "cell_type": "code",
   "execution_count": 53,
   "metadata": {
    "scrolled": true
   },
   "outputs": [
    {
     "data": {
      "text/html": [
       "<div>\n",
       "<style scoped>\n",
       "    .dataframe tbody tr th:only-of-type {\n",
       "        vertical-align: middle;\n",
       "    }\n",
       "\n",
       "    .dataframe tbody tr th {\n",
       "        vertical-align: top;\n",
       "    }\n",
       "\n",
       "    .dataframe thead th {\n",
       "        text-align: right;\n",
       "    }\n",
       "</style>\n",
       "<table border=\"1\" class=\"dataframe\">\n",
       "  <thead>\n",
       "    <tr style=\"text-align: right;\">\n",
       "      <th></th>\n",
       "      <th>Tweets</th>\n",
       "      <th>User</th>\n",
       "      <th>User_statuses_count</th>\n",
       "      <th>user_followers</th>\n",
       "      <th>User_location</th>\n",
       "      <th>User_varified</th>\n",
       "      <th>fav_count</th>\n",
       "      <th>rt_count</th>\n",
       "      <th>tweet_date</th>\n",
       "      <th>User_verified</th>\n",
       "      <th>clean_tweet</th>\n",
       "      <th>Sentiment</th>\n",
       "    </tr>\n",
       "  </thead>\n",
       "  <tbody>\n",
       "    <tr>\n",
       "      <th>0</th>\n",
       "      <td>RT @arnabofficial9: The whole world is waiting...</td>\n",
       "      <td>Snehapriya03</td>\n",
       "      <td>1205</td>\n",
       "      <td>6</td>\n",
       "      <td></td>\n",
       "      <td>NaN</td>\n",
       "      <td>0</td>\n",
       "      <td>171</td>\n",
       "      <td>2020-10-31 15:13:28</td>\n",
       "      <td>False</td>\n",
       "      <td>Pune district reports 752 fresh Covid cases 14...</td>\n",
       "      <td>Positive</td>\n",
       "    </tr>\n",
       "    <tr>\n",
       "      <th>1</th>\n",
       "      <td>RT @RitimaanC: @arnabofficial9 @Republic_Bhara...</td>\n",
       "      <td>Chandani</td>\n",
       "      <td>40261</td>\n",
       "      <td>133</td>\n",
       "      <td></td>\n",
       "      <td>NaN</td>\n",
       "      <td>0</td>\n",
       "      <td>1</td>\n",
       "      <td>2020-10-31 15:11:32</td>\n",
       "      <td>False</td>\n",
       "      <td>373 new patients were detected while 16 people...</td>\n",
       "      <td>Positive</td>\n",
       "    </tr>\n",
       "    <tr>\n",
       "      <th>2</th>\n",
       "      <td>RT @MadhuRa07303979: Is this why, we have had ...</td>\n",
       "      <td>Minakshi Jha</td>\n",
       "      <td>14179</td>\n",
       "      <td>241</td>\n",
       "      <td>नई दिल्ली, भारत</td>\n",
       "      <td>NaN</td>\n",
       "      <td>0</td>\n",
       "      <td>149</td>\n",
       "      <td>2020-10-31 15:10:38</td>\n",
       "      <td>False</td>\n",
       "      <td>RT The district on Saturday reported 787 fresh...</td>\n",
       "      <td>Positive</td>\n",
       "    </tr>\n",
       "    <tr>\n",
       "      <th>3</th>\n",
       "      <td>RT @itsdebbie04: Is this why, we have had aske...</td>\n",
       "      <td>Rajinder Kapoor</td>\n",
       "      <td>43204</td>\n",
       "      <td>88</td>\n",
       "      <td></td>\n",
       "      <td>NaN</td>\n",
       "      <td>0</td>\n",
       "      <td>2</td>\n",
       "      <td>2020-10-31 15:10:14</td>\n",
       "      <td>False</td>\n",
       "      <td>The district on Saturday reported 787 fresh Co...</td>\n",
       "      <td>Positive</td>\n",
       "    </tr>\n",
       "    <tr>\n",
       "      <th>4</th>\n",
       "      <td>RT @TotonsJunction: Is this why, we have had a...</td>\n",
       "      <td>Rajinder Kapoor</td>\n",
       "      <td>43204</td>\n",
       "      <td>88</td>\n",
       "      <td></td>\n",
       "      <td>NaN</td>\n",
       "      <td>0</td>\n",
       "      <td>4</td>\n",
       "      <td>2020-10-31 15:09:59</td>\n",
       "      <td>False</td>\n",
       "      <td>The district on Saturday reported 787 fresh Co...</td>\n",
       "      <td>Positive</td>\n",
       "    </tr>\n",
       "  </tbody>\n",
       "</table>\n",
       "</div>"
      ],
      "text/plain": [
       "                                              Tweets             User  \\\n",
       "0  RT @arnabofficial9: The whole world is waiting...     Snehapriya03   \n",
       "1  RT @RitimaanC: @arnabofficial9 @Republic_Bhara...         Chandani   \n",
       "2  RT @MadhuRa07303979: Is this why, we have had ...     Minakshi Jha   \n",
       "3  RT @itsdebbie04: Is this why, we have had aske...  Rajinder Kapoor   \n",
       "4  RT @TotonsJunction: Is this why, we have had a...  Rajinder Kapoor   \n",
       "\n",
       "  User_statuses_count user_followers    User_location User_varified fav_count  \\\n",
       "0                1205              6                            NaN         0   \n",
       "1               40261            133                            NaN         0   \n",
       "2               14179            241  नई दिल्ली, भारत           NaN         0   \n",
       "3               43204             88                            NaN         0   \n",
       "4               43204             88                            NaN         0   \n",
       "\n",
       "  rt_count           tweet_date User_verified  \\\n",
       "0      171  2020-10-31 15:13:28         False   \n",
       "1        1  2020-10-31 15:11:32         False   \n",
       "2      149  2020-10-31 15:10:38         False   \n",
       "3        2  2020-10-31 15:10:14         False   \n",
       "4        4  2020-10-31 15:09:59         False   \n",
       "\n",
       "                                         clean_tweet Sentiment  \n",
       "0  Pune district reports 752 fresh Covid cases 14...  Positive  \n",
       "1  373 new patients were detected while 16 people...  Positive  \n",
       "2  RT The district on Saturday reported 787 fresh...  Positive  \n",
       "3  The district on Saturday reported 787 fresh Co...  Positive  \n",
       "4  The district on Saturday reported 787 fresh Co...  Positive  "
      ]
     },
     "execution_count": 53,
     "metadata": {},
     "output_type": "execute_result"
    }
   ],
   "source": [
    "df.head()"
   ]
  },
  {
   "cell_type": "code",
   "execution_count": 54,
   "metadata": {
    "scrolled": true
   },
   "outputs": [
    {
     "name": "stdout",
     "output_type": "stream",
     "text": [
      "Requirement already satisfied: Textblob in c:\\users\\hp\\anaconda3\\lib\\site-packages (0.15.3)\n",
      "Requirement already satisfied: nltk>=3.1 in c:\\users\\hp\\anaconda3\\lib\\site-packages (from Textblob) (3.5)\n",
      "Requirement already satisfied: tqdm in c:\\users\\hp\\anaconda3\\lib\\site-packages (from nltk>=3.1->Textblob) (4.47.0)\n",
      "Requirement already satisfied: click in c:\\users\\hp\\anaconda3\\lib\\site-packages (from nltk>=3.1->Textblob) (7.1.2)\n",
      "Note: you may need to restart the kernel to use updated packages.Requirement already satisfied: joblib in c:\\users\\hp\\anaconda3\\lib\\site-packages (from nltk>=3.1->Textblob) (0.16.0)\n",
      "Requirement already satisfied: regex in c:\\users\\hp\\anaconda3\\lib\\site-packages (from nltk>=3.1->Textblob) (2020.6.8)\n",
      "\n"
     ]
    }
   ],
   "source": [
    "pip install Textblob"
   ]
  },
  {
   "cell_type": "code",
   "execution_count": 55,
   "metadata": {},
   "outputs": [],
   "source": [
    "from textblob import TextBlob"
   ]
  },
  {
   "cell_type": "code",
   "execution_count": 56,
   "metadata": {},
   "outputs": [],
   "source": [
    "import re\n",
    "def clean_tweet(tweet):\n",
    "    return ' '.join(re.sub('(@[A-Za-z0-9]+)|([^0-9A-Za-z \\t])|(\\w+:\\/\\/\\S+)', ' ', tweet).split())"
   ]
  },
  {
   "cell_type": "code",
   "execution_count": 57,
   "metadata": {},
   "outputs": [],
   "source": [
    "def analyze_sentiment(tweet):\n",
    "    analysis = TextBlob(tweet)\n",
    "    if analysis.sentiment.polarity > 0:\n",
    "        return 'Positive'\n",
    "    elif analysis.sentiment.polarity == 0:\n",
    "        return 'Neutral'\n",
    "    else:\n",
    "        return 'Negative'"
   ]
  },
  {
   "cell_type": "code",
   "execution_count": 58,
   "metadata": {},
   "outputs": [],
   "source": [
    "df['clean_tweet'] = df['Tweets'].apply(lambda x : clean_tweet(x))"
   ]
  },
  {
   "cell_type": "code",
   "execution_count": 59,
   "metadata": {},
   "outputs": [
    {
     "data": {
      "text/html": [
       "<div>\n",
       "<style scoped>\n",
       "    .dataframe tbody tr th:only-of-type {\n",
       "        vertical-align: middle;\n",
       "    }\n",
       "\n",
       "    .dataframe tbody tr th {\n",
       "        vertical-align: top;\n",
       "    }\n",
       "\n",
       "    .dataframe thead th {\n",
       "        text-align: right;\n",
       "    }\n",
       "</style>\n",
       "<table border=\"1\" class=\"dataframe\">\n",
       "  <thead>\n",
       "    <tr style=\"text-align: right;\">\n",
       "      <th></th>\n",
       "      <th>Tweets</th>\n",
       "      <th>User</th>\n",
       "      <th>User_statuses_count</th>\n",
       "      <th>user_followers</th>\n",
       "      <th>User_location</th>\n",
       "      <th>User_varified</th>\n",
       "      <th>fav_count</th>\n",
       "      <th>rt_count</th>\n",
       "      <th>tweet_date</th>\n",
       "      <th>User_verified</th>\n",
       "      <th>clean_tweet</th>\n",
       "      <th>Sentiment</th>\n",
       "    </tr>\n",
       "  </thead>\n",
       "  <tbody>\n",
       "    <tr>\n",
       "      <th>0</th>\n",
       "      <td>RT @arnabofficial9: The whole world is waiting...</td>\n",
       "      <td>Snehapriya03</td>\n",
       "      <td>1205</td>\n",
       "      <td>6</td>\n",
       "      <td></td>\n",
       "      <td>NaN</td>\n",
       "      <td>0</td>\n",
       "      <td>171</td>\n",
       "      <td>2020-10-31 15:13:28</td>\n",
       "      <td>False</td>\n",
       "      <td>RT The whole world is waiting for when the inv...</td>\n",
       "      <td>Positive</td>\n",
       "    </tr>\n",
       "    <tr>\n",
       "      <th>1</th>\n",
       "      <td>RT @RitimaanC: @arnabofficial9 @Republic_Bhara...</td>\n",
       "      <td>Chandani</td>\n",
       "      <td>40261</td>\n",
       "      <td>133</td>\n",
       "      <td></td>\n",
       "      <td>NaN</td>\n",
       "      <td>0</td>\n",
       "      <td>1</td>\n",
       "      <td>2020-10-31 15:11:32</td>\n",
       "      <td>False</td>\n",
       "      <td>RT Bharat why Arnab sir not talking over Susha...</td>\n",
       "      <td>Positive</td>\n",
       "    </tr>\n",
       "    <tr>\n",
       "      <th>2</th>\n",
       "      <td>RT @MadhuRa07303979: Is this why, we have had ...</td>\n",
       "      <td>Minakshi Jha</td>\n",
       "      <td>14179</td>\n",
       "      <td>241</td>\n",
       "      <td>नई दिल्ली, भारत</td>\n",
       "      <td>NaN</td>\n",
       "      <td>0</td>\n",
       "      <td>149</td>\n",
       "      <td>2020-10-31 15:10:38</td>\n",
       "      <td>False</td>\n",
       "      <td>RT Is this why we have had asked for a CBI in ...</td>\n",
       "      <td>Positive</td>\n",
       "    </tr>\n",
       "    <tr>\n",
       "      <th>3</th>\n",
       "      <td>RT @itsdebbie04: Is this why, we have had aske...</td>\n",
       "      <td>Rajinder Kapoor</td>\n",
       "      <td>43204</td>\n",
       "      <td>88</td>\n",
       "      <td></td>\n",
       "      <td>NaN</td>\n",
       "      <td>0</td>\n",
       "      <td>2</td>\n",
       "      <td>2020-10-31 15:10:14</td>\n",
       "      <td>False</td>\n",
       "      <td>RT Is this why we have had asked for a CBI in ...</td>\n",
       "      <td>Positive</td>\n",
       "    </tr>\n",
       "    <tr>\n",
       "      <th>4</th>\n",
       "      <td>RT @TotonsJunction: Is this why, we have had a...</td>\n",
       "      <td>Rajinder Kapoor</td>\n",
       "      <td>43204</td>\n",
       "      <td>88</td>\n",
       "      <td></td>\n",
       "      <td>NaN</td>\n",
       "      <td>0</td>\n",
       "      <td>4</td>\n",
       "      <td>2020-10-31 15:09:59</td>\n",
       "      <td>False</td>\n",
       "      <td>RT Is this why we have had asked for a CBI in ...</td>\n",
       "      <td>Positive</td>\n",
       "    </tr>\n",
       "  </tbody>\n",
       "</table>\n",
       "</div>"
      ],
      "text/plain": [
       "                                              Tweets             User  \\\n",
       "0  RT @arnabofficial9: The whole world is waiting...     Snehapriya03   \n",
       "1  RT @RitimaanC: @arnabofficial9 @Republic_Bhara...         Chandani   \n",
       "2  RT @MadhuRa07303979: Is this why, we have had ...     Minakshi Jha   \n",
       "3  RT @itsdebbie04: Is this why, we have had aske...  Rajinder Kapoor   \n",
       "4  RT @TotonsJunction: Is this why, we have had a...  Rajinder Kapoor   \n",
       "\n",
       "  User_statuses_count user_followers    User_location User_varified fav_count  \\\n",
       "0                1205              6                            NaN         0   \n",
       "1               40261            133                            NaN         0   \n",
       "2               14179            241  नई दिल्ली, भारत           NaN         0   \n",
       "3               43204             88                            NaN         0   \n",
       "4               43204             88                            NaN         0   \n",
       "\n",
       "  rt_count           tweet_date User_verified  \\\n",
       "0      171  2020-10-31 15:13:28         False   \n",
       "1        1  2020-10-31 15:11:32         False   \n",
       "2      149  2020-10-31 15:10:38         False   \n",
       "3        2  2020-10-31 15:10:14         False   \n",
       "4        4  2020-10-31 15:09:59         False   \n",
       "\n",
       "                                         clean_tweet Sentiment  \n",
       "0  RT The whole world is waiting for when the inv...  Positive  \n",
       "1  RT Bharat why Arnab sir not talking over Susha...  Positive  \n",
       "2  RT Is this why we have had asked for a CBI in ...  Positive  \n",
       "3  RT Is this why we have had asked for a CBI in ...  Positive  \n",
       "4  RT Is this why we have had asked for a CBI in ...  Positive  "
      ]
     },
     "execution_count": 59,
     "metadata": {},
     "output_type": "execute_result"
    }
   ],
   "source": [
    "df.head()"
   ]
  },
  {
   "cell_type": "code",
   "execution_count": 60,
   "metadata": {},
   "outputs": [
    {
     "data": {
      "text/html": [
       "<div>\n",
       "<style scoped>\n",
       "    .dataframe tbody tr th:only-of-type {\n",
       "        vertical-align: middle;\n",
       "    }\n",
       "\n",
       "    .dataframe tbody tr th {\n",
       "        vertical-align: top;\n",
       "    }\n",
       "\n",
       "    .dataframe thead th {\n",
       "        text-align: right;\n",
       "    }\n",
       "</style>\n",
       "<table border=\"1\" class=\"dataframe\">\n",
       "  <thead>\n",
       "    <tr style=\"text-align: right;\">\n",
       "      <th></th>\n",
       "      <th>Tweets</th>\n",
       "      <th>User</th>\n",
       "      <th>User_statuses_count</th>\n",
       "      <th>user_followers</th>\n",
       "      <th>User_location</th>\n",
       "      <th>User_varified</th>\n",
       "      <th>fav_count</th>\n",
       "      <th>rt_count</th>\n",
       "      <th>tweet_date</th>\n",
       "      <th>User_verified</th>\n",
       "      <th>clean_tweet</th>\n",
       "      <th>Sentiment</th>\n",
       "    </tr>\n",
       "  </thead>\n",
       "  <tbody>\n",
       "    <tr>\n",
       "      <th>0</th>\n",
       "      <td>RT @arnabofficial9: The whole world is waiting...</td>\n",
       "      <td>Snehapriya03</td>\n",
       "      <td>1205</td>\n",
       "      <td>6</td>\n",
       "      <td></td>\n",
       "      <td>NaN</td>\n",
       "      <td>0</td>\n",
       "      <td>171</td>\n",
       "      <td>2020-10-31 15:13:28</td>\n",
       "      <td>False</td>\n",
       "      <td>RT The whole world is waiting for when the inv...</td>\n",
       "      <td>Positive</td>\n",
       "    </tr>\n",
       "    <tr>\n",
       "      <th>1</th>\n",
       "      <td>RT @RitimaanC: @arnabofficial9 @Republic_Bhara...</td>\n",
       "      <td>Chandani</td>\n",
       "      <td>40261</td>\n",
       "      <td>133</td>\n",
       "      <td></td>\n",
       "      <td>NaN</td>\n",
       "      <td>0</td>\n",
       "      <td>1</td>\n",
       "      <td>2020-10-31 15:11:32</td>\n",
       "      <td>False</td>\n",
       "      <td>RT Bharat why Arnab sir not talking over Susha...</td>\n",
       "      <td>Neutral</td>\n",
       "    </tr>\n",
       "    <tr>\n",
       "      <th>2</th>\n",
       "      <td>RT @MadhuRa07303979: Is this why, we have had ...</td>\n",
       "      <td>Minakshi Jha</td>\n",
       "      <td>14179</td>\n",
       "      <td>241</td>\n",
       "      <td>नई दिल्ली, भारत</td>\n",
       "      <td>NaN</td>\n",
       "      <td>0</td>\n",
       "      <td>149</td>\n",
       "      <td>2020-10-31 15:10:38</td>\n",
       "      <td>False</td>\n",
       "      <td>RT Is this why we have had asked for a CBI in ...</td>\n",
       "      <td>Neutral</td>\n",
       "    </tr>\n",
       "    <tr>\n",
       "      <th>3</th>\n",
       "      <td>RT @itsdebbie04: Is this why, we have had aske...</td>\n",
       "      <td>Rajinder Kapoor</td>\n",
       "      <td>43204</td>\n",
       "      <td>88</td>\n",
       "      <td></td>\n",
       "      <td>NaN</td>\n",
       "      <td>0</td>\n",
       "      <td>2</td>\n",
       "      <td>2020-10-31 15:10:14</td>\n",
       "      <td>False</td>\n",
       "      <td>RT Is this why we have had asked for a CBI in ...</td>\n",
       "      <td>Neutral</td>\n",
       "    </tr>\n",
       "    <tr>\n",
       "      <th>4</th>\n",
       "      <td>RT @TotonsJunction: Is this why, we have had a...</td>\n",
       "      <td>Rajinder Kapoor</td>\n",
       "      <td>43204</td>\n",
       "      <td>88</td>\n",
       "      <td></td>\n",
       "      <td>NaN</td>\n",
       "      <td>0</td>\n",
       "      <td>4</td>\n",
       "      <td>2020-10-31 15:09:59</td>\n",
       "      <td>False</td>\n",
       "      <td>RT Is this why we have had asked for a CBI in ...</td>\n",
       "      <td>Neutral</td>\n",
       "    </tr>\n",
       "  </tbody>\n",
       "</table>\n",
       "</div>"
      ],
      "text/plain": [
       "                                              Tweets             User  \\\n",
       "0  RT @arnabofficial9: The whole world is waiting...     Snehapriya03   \n",
       "1  RT @RitimaanC: @arnabofficial9 @Republic_Bhara...         Chandani   \n",
       "2  RT @MadhuRa07303979: Is this why, we have had ...     Minakshi Jha   \n",
       "3  RT @itsdebbie04: Is this why, we have had aske...  Rajinder Kapoor   \n",
       "4  RT @TotonsJunction: Is this why, we have had a...  Rajinder Kapoor   \n",
       "\n",
       "  User_statuses_count user_followers    User_location User_varified fav_count  \\\n",
       "0                1205              6                            NaN         0   \n",
       "1               40261            133                            NaN         0   \n",
       "2               14179            241  नई दिल्ली, भारत           NaN         0   \n",
       "3               43204             88                            NaN         0   \n",
       "4               43204             88                            NaN         0   \n",
       "\n",
       "  rt_count           tweet_date User_verified  \\\n",
       "0      171  2020-10-31 15:13:28         False   \n",
       "1        1  2020-10-31 15:11:32         False   \n",
       "2      149  2020-10-31 15:10:38         False   \n",
       "3        2  2020-10-31 15:10:14         False   \n",
       "4        4  2020-10-31 15:09:59         False   \n",
       "\n",
       "                                         clean_tweet Sentiment  \n",
       "0  RT The whole world is waiting for when the inv...  Positive  \n",
       "1  RT Bharat why Arnab sir not talking over Susha...   Neutral  \n",
       "2  RT Is this why we have had asked for a CBI in ...   Neutral  \n",
       "3  RT Is this why we have had asked for a CBI in ...   Neutral  \n",
       "4  RT Is this why we have had asked for a CBI in ...   Neutral  "
      ]
     },
     "execution_count": 60,
     "metadata": {},
     "output_type": "execute_result"
    }
   ],
   "source": [
    "df['Sentiment'] = df['clean_tweet'].apply(lambda x : analyze_sentiment(x))\n",
    "df.head()"
   ]
  },
  {
   "cell_type": "code",
   "execution_count": 61,
   "metadata": {},
   "outputs": [
    {
     "name": "stdout",
     "output_type": "stream",
     "text": [
      "Original tweet:\n",
      " RT @RitimaanC: @arnabofficial9 @Republic_Bharat @republic why Arnab sir not talking over Sushant Singh Rajput murder case? We are still wai…\n",
      "\n",
      "Clean tweet:\n",
      " RT Bharat why Arnab sir not talking over Sushant Singh Rajput murder case We are still wai\n",
      "\n",
      "Sentiment of the tweet:\n",
      " Neutral\n"
     ]
    }
   ],
   "source": [
    "n = 1\n",
    "print(\"Original tweet:\\n\",df['Tweets'][n])\n",
    "print()\n",
    "print(\"Clean tweet:\\n\",df['clean_tweet'][n])\n",
    "print()\n",
    "print(\"Sentiment of the tweet:\\n\",df['Sentiment'][n])"
   ]
  },
  {
   "cell_type": "code",
   "execution_count": 62,
   "metadata": {},
   "outputs": [
    {
     "name": "stdout",
     "output_type": "stream",
     "text": [
      "Original tweet:\n",
      " Why Sushant Singh Rajput case is still inactive?\n",
      "\n",
      "Clean tweet:\n",
      " Why Sushant Singh Rajput case is still inactive\n",
      "\n",
      "Sentiment of the tweet:\n",
      " Neutral\n"
     ]
    }
   ],
   "source": [
    "n = 100\n",
    "print(\"Original tweet:\\n\",df['Tweets'][n])\n",
    "print()\n",
    "print(\"Clean tweet:\\n\",df['clean_tweet'][n])\n",
    "print()\n",
    "print(\"Sentiment of the tweet:\\n\",df['Sentiment'][n])"
   ]
  },
  {
   "cell_type": "code",
   "execution_count": 63,
   "metadata": {
    "scrolled": true
   },
   "outputs": [
    {
     "name": "stdout",
     "output_type": "stream",
     "text": [
      "Original tweet:\n",
      " RT @Rajeshw61113026: The world demands Justice for Sushant Singh Rajput! \n",
      "\n",
      "Only keen  to hear about Sushant Singh Rajput’s Case update! And…\n",
      "\n",
      "Clean tweet:\n",
      " RT The world demands Justice for Sushant Singh Rajput Only keen to hear about Sushant Singh Rajput s Case update And\n",
      "\n",
      "Sentiment of the tweet:\n",
      " Neutral\n"
     ]
    }
   ],
   "source": [
    "n = 50\n",
    "print(\"Original tweet:\\n\",df['Tweets'][n])\n",
    "print()\n",
    "print(\"Clean tweet:\\n\",df['clean_tweet'][n])\n",
    "print()\n",
    "print(\"Sentiment of the tweet:\\n\",df['Sentiment'][n])"
   ]
  },
  {
   "cell_type": "code",
   "execution_count": 68,
   "metadata": {},
   "outputs": [
    {
     "name": "stdout",
     "output_type": "stream",
     "text": [
      "Original tweet:\n",
      " RT @ConfidenceDutta: Why not a single arrest in Sushant Singh Rajput’s murder case?\n",
      "\n",
      "Why not a single update about Disha Salian murder case…\n",
      "\n",
      "Clean tweet:\n",
      " RT Why not a single arrest in Sushant Singh Rajput s murder case Why not a single update about Disha Salian murder case\n",
      "\n",
      "Sentiment of the tweet:\n",
      " Positive\n"
     ]
    }
   ],
   "source": [
    "n = 999\n",
    "print(\"Original tweet:\\n\",df['Tweets'][n])\n",
    "print()\n",
    "print(\"Clean tweet:\\n\",df['clean_tweet'][n])\n",
    "print()\n",
    "print(\"Sentiment of the tweet:\\n\",df['Sentiment'][n])"
   ]
  },
  {
   "cell_type": "code",
   "execution_count": 64,
   "metadata": {},
   "outputs": [
    {
     "data": {
      "text/plain": [
       "574"
      ]
     },
     "execution_count": 64,
     "metadata": {},
     "output_type": "execute_result"
    }
   ],
   "source": [
    "df[df.Sentiment == 'Positive'].shape[0]"
   ]
  },
  {
   "cell_type": "code",
   "execution_count": 65,
   "metadata": {},
   "outputs": [
    {
     "data": {
      "text/plain": [
       "414"
      ]
     },
     "execution_count": 65,
     "metadata": {},
     "output_type": "execute_result"
    }
   ],
   "source": [
    "df[df.Sentiment == 'Neutral'].shape[0]"
   ]
  },
  {
   "cell_type": "code",
   "execution_count": 66,
   "metadata": {},
   "outputs": [
    {
     "data": {
      "text/plain": [
       "12"
      ]
     },
     "execution_count": 66,
     "metadata": {},
     "output_type": "execute_result"
    }
   ],
   "source": [
    "df[df.Sentiment == 'Negative'].shape[0]"
   ]
  }
 ],
 "metadata": {
  "kernelspec": {
   "display_name": "Python 3",
   "language": "python",
   "name": "python3"
  },
  "language_info": {
   "codemirror_mode": {
    "name": "ipython",
    "version": 3
   },
   "file_extension": ".py",
   "mimetype": "text/x-python",
   "name": "python",
   "nbconvert_exporter": "python",
   "pygments_lexer": "ipython3",
   "version": "3.7.6"
  }
 },
 "nbformat": 4,
 "nbformat_minor": 4
}
