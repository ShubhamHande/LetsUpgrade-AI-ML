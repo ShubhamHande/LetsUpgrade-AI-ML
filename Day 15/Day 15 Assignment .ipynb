{
 "cells": [
  {
   "cell_type": "markdown",
   "metadata": {},
   "source": [
    "# 1. Create a 3x3x3 array with random values "
   ]
  },
  {
   "cell_type": "code",
   "execution_count": 14,
   "metadata": {},
   "outputs": [
    {
     "data": {
      "text/plain": [
       "array([[[0.70378206, 0.82820012, 0.22367263],\n",
       "        [0.73281913, 0.86174939, 0.63843036],\n",
       "        [0.4640284 , 0.21304301, 0.0333478 ]],\n",
       "\n",
       "       [[0.48099364, 0.2325272 , 0.78338729],\n",
       "        [0.66980517, 0.81452793, 0.0972001 ],\n",
       "        [0.87363279, 0.81318918, 0.91328589]],\n",
       "\n",
       "       [[0.19283436, 0.91804776, 0.95708838],\n",
       "        [0.87601561, 0.51519706, 0.25824446],\n",
       "        [0.79284717, 0.64269123, 0.76610731]]])"
      ]
     },
     "execution_count": 14,
     "metadata": {},
     "output_type": "execute_result"
    }
   ],
   "source": [
    "import numpy as np\n",
    "np.random.random((3,3,3))"
   ]
  },
  {
   "cell_type": "markdown",
   "metadata": {},
   "source": [
    "# 2.Create a 5x5 matrix with values 1,2,3,4 just below the diagonal"
   ]
  },
  {
   "cell_type": "code",
   "execution_count": 12,
   "metadata": {},
   "outputs": [
    {
     "data": {
      "text/plain": [
       "array([[1, 0, 0, 0],\n",
       "       [0, 2, 0, 0],\n",
       "       [0, 0, 3, 0],\n",
       "       [0, 0, 0, 4]])"
      ]
     },
     "execution_count": 12,
     "metadata": {},
     "output_type": "execute_result"
    }
   ],
   "source": [
    "np.diag([1,2,3,4])"
   ]
  },
  {
   "cell_type": "markdown",
   "metadata": {},
   "source": [
    "# 3.Create a 8x8 matrix and fill it with a checkerboard pattern"
   ]
  },
  {
   "cell_type": "code",
   "execution_count": 15,
   "metadata": {},
   "outputs": [
    {
     "name": "stdout",
     "output_type": "stream",
     "text": [
      "[[0 1 0 1 0 1 0 1]\n",
      " [1 0 1 0 1 0 1 0]\n",
      " [0 1 0 1 0 1 0 1]\n",
      " [1 0 1 0 1 0 1 0]\n",
      " [0 1 0 1 0 1 0 1]\n",
      " [1 0 1 0 1 0 1 0]\n",
      " [0 1 0 1 0 1 0 1]\n",
      " [1 0 1 0 1 0 1 0]]\n"
     ]
    }
   ],
   "source": [
    "import numpy as np\n",
    "x = np.ones((3,3))\n",
    "\n",
    "x = np.zeros((8,8),dtype=int)\n",
    "x[1::2,::2] = 1\n",
    "x[::2,1::2] = 1\n",
    "print(x)"
   ]
  },
  {
   "cell_type": "markdown",
   "metadata": {},
   "source": [
    "# 4. Normalize a 5x5 random matrix"
   ]
  },
  {
   "cell_type": "code",
   "execution_count": 20,
   "metadata": {},
   "outputs": [
    {
     "name": "stdout",
     "output_type": "stream",
     "text": [
      "The Random Array is : \n",
      "[[0.7411477  0.96322099 0.46313965 0.76266426 0.12083481]\n",
      " [0.93353141 0.17036807 0.9607172  0.11660022 0.77442352]\n",
      " [0.70129261 0.4526907  0.58403348 0.83803139 0.228193  ]\n",
      " [0.51116121 0.36025511 0.52886216 0.49976028 0.99806608]\n",
      " [0.49422026 0.9480937  0.68819814 0.85117079 0.38752827]]\n",
      "Normalized array is : \n",
      "[[0.7085328  0.96046915 0.39313994 0.73294278 0.00480403]\n",
      " [0.92678709 0.06099823 0.95762866 0.         0.74628335]\n",
      " [0.66331824 0.38128587 0.53029082 0.81844482 0.1265991 ]\n",
      " [0.44761914 0.27642011 0.46770041 0.43468508 1.        ]\n",
      " [0.42840008 0.94330763 0.64846291 0.83335113 0.30736079]]\n"
     ]
    }
   ],
   "source": [
    "x = np.random.random((5,5))\n",
    "print(\"The Random Array is : \")\n",
    "print(x)\n",
    "xmax , xmin = x.max(), x.min()\n",
    "x = (x-xmin)/(xmax-xmin)\n",
    "print(\"Normalized array is : \")\n",
    "print(x)"
   ]
  },
  {
   "cell_type": "markdown",
   "metadata": {},
   "source": [
    "# 5.  How to find common values between two arrays?"
   ]
  },
  {
   "cell_type": "code",
   "execution_count": 23,
   "metadata": {},
   "outputs": [
    {
     "name": "stdout",
     "output_type": "stream",
     "text": [
      "First Array :  [ 1  2  3  4  5 10]\n",
      "Second Array :  [ 5  6  7  8  9 10]\n",
      "The Common Values between two arrays are : [ 5 10]\n"
     ]
    }
   ],
   "source": [
    "a = np.array([1,2,3,4,5,10])\n",
    "print(\"First Array : \" , a)\n",
    "b = np.array([5,6,7,8,9,10])\n",
    "print(\"Second Array : \" , b)\n",
    "print(\"The Common Values between two arrays are :\" ,np.intersect1d(a , b))"
   ]
  },
  {
   "cell_type": "markdown",
   "metadata": {},
   "source": [
    "# 6.How to get the dates of yesterday, today and tomorrow?"
   ]
  },
  {
   "cell_type": "code",
   "execution_count": 26,
   "metadata": {},
   "outputs": [
    {
     "name": "stdout",
     "output_type": "stream",
     "text": [
      "Yesterday :  2020-07-25\n",
      "Today :  2020-07-26\n",
      "Tomarrow :  2020-07-27\n"
     ]
    }
   ],
   "source": [
    "Yesterday = np.datetime64('Today' , 'D') - np.timedelta64(1 ,'D')\n",
    "print(\"Yesterday : \" , Yesterday)\n",
    "Today = np.datetime64('Today', 'D')\n",
    "print(\"Today : \", Today)\n",
    "Tomarrow = np.datetime64('Today','D') + np.timedelta64(1,'D')\n",
    "print(\"Tomarrow : \", Tomarrow)"
   ]
  },
  {
   "cell_type": "markdown",
   "metadata": {},
   "source": [
    "# 7. Consider two random array A and B, check if they are equal"
   ]
  },
  {
   "cell_type": "code",
   "execution_count": 4,
   "metadata": {},
   "outputs": [
    {
     "name": "stdout",
     "output_type": "stream",
     "text": [
      "They are not equal\n"
     ]
    }
   ],
   "source": [
    "A = np.array([1,2,3])\n",
    "B = np.array([4,5,6])\n",
    "if A.all == B.all:\n",
    "    print(\"Both array's are equal\")\n",
    "else:\n",
    "    print(\"They are not equal\")"
   ]
  },
  {
   "cell_type": "code",
   "execution_count": 28,
   "metadata": {},
   "outputs": [
    {
     "name": "stdout",
     "output_type": "stream",
     "text": [
      "Two random arrays are equal or not!\n",
      "False\n"
     ]
    }
   ],
   "source": [
    "print(\"Two random arrays are equal or not!\")\n",
    "array_equal = np.allclose(A,B)\n",
    "print(array_equal)"
   ]
  },
  {
   "cell_type": "markdown",
   "metadata": {},
   "source": [
    "# 8.Create random vector of size 10 and replace the maximum value by 0 "
   ]
  },
  {
   "cell_type": "code",
   "execution_count": 30,
   "metadata": {},
   "outputs": [
    {
     "name": "stdout",
     "output_type": "stream",
     "text": [
      "Original array:\n",
      "[0.30911104 0.35962404 0.3913311  0.14943245 0.29554426 0.43522856\n",
      " 0.43079969 0.04251557 0.47023759 0.04893768]\n",
      "Maximum value replaced by 0:\n",
      "[0.30911104 0.35962404 0.3913311  0.14943245 0.29554426 0.43522856\n",
      " 0.43079969 0.04251557 0.         0.04893768]\n"
     ]
    }
   ],
   "source": [
    "z = np.random.random(10)\n",
    "print(\"Original array:\")\n",
    "print(z)\n",
    "z[z.argmax()] = 0\n",
    "print(\"Maximum value replaced by 0:\")\n",
    "print(z)"
   ]
  },
  {
   "cell_type": "markdown",
   "metadata": {},
   "source": [
    "# 9. How to print all the values of an array?"
   ]
  },
  {
   "cell_type": "code",
   "execution_count": 32,
   "metadata": {},
   "outputs": [
    {
     "name": "stdout",
     "output_type": "stream",
     "text": [
      "1\n",
      "2\n",
      "3\n",
      "4\n",
      "5\n",
      "10\n"
     ]
    }
   ],
   "source": [
    "a = np.array([1,2,3,4,5,10])\n",
    "for i in range(len(a)):\n",
    "    print(a[i])"
   ]
  },
  {
   "cell_type": "markdown",
   "metadata": {},
   "source": [
    "# 10.Subtract the mean of each row of a matrix"
   ]
  },
  {
   "cell_type": "code",
   "execution_count": 35,
   "metadata": {},
   "outputs": [
    {
     "name": "stdout",
     "output_type": "stream",
     "text": [
      "Original matrix:\n",
      "[[10 20 30]\n",
      " [34 56 76]]\n",
      "\n",
      "Subtract the mean of each row of the said matrix:\n",
      "[[-10.           0.          10.        ]\n",
      " [-21.33333333   0.66666667  20.66666667]]\n"
     ]
    }
   ],
   "source": [
    "print(\"Original matrix:\")\n",
    "M = np.array([[10,20,30],[34,56,76]])\n",
    "print(M)\n",
    "print(\"\\nSubtract the mean of each row of the said matrix:\")\n",
    "N = M - M.mean(axis=1, keepdims=True)\n",
    "print(N)"
   ]
  },
  {
   "cell_type": "markdown",
   "metadata": {},
   "source": [
    "# 11.Consider a given vector, how to add 1 to each element indexed by a second vector (be careful with repeated indices)? "
   ]
  },
  {
   "cell_type": "code",
   "execution_count": 36,
   "metadata": {},
   "outputs": [
    {
     "name": "stdout",
     "output_type": "stream",
     "text": [
      "[4. 3. 4. 3. 4. 2. 3. 3. 1. 3.]\n"
     ]
    }
   ],
   "source": [
    "z=np.ones(10)\n",
    "a=np.random.randint(0,len(z),20)\n",
    "z+=np.bincount(a,minlength=len(z))\n",
    "print(z)"
   ]
  },
  {
   "cell_type": "markdown",
   "metadata": {},
   "source": [
    "# 12.How to get the diagonal of a dot product?"
   ]
  },
  {
   "cell_type": "code",
   "execution_count": 38,
   "metadata": {},
   "outputs": [
    {
     "name": "stdout",
     "output_type": "stream",
     "text": [
      "[    14   1400 140000]\n"
     ]
    }
   ],
   "source": [
    "x = np.array([[1,2,3],[10,20,30],[100,200,300]])\n",
    "y = np.diag(x.dot(x.T))\n",
    "print(y)"
   ]
  },
  {
   "cell_type": "markdown",
   "metadata": {},
   "source": [
    "# 13.How to find the most frequent value in an array?"
   ]
  },
  {
   "cell_type": "code",
   "execution_count": 44,
   "metadata": {},
   "outputs": [
    {
     "name": "stdout",
     "output_type": "stream",
     "text": [
      "The Original Array is :\n",
      " [ 1 23  4  5  6 97  2 19 21  5  2  4  3  4  5  2  4  2  5  3  3  3  3]\n",
      "The most frequent value is :\n",
      " 3\n"
     ]
    }
   ],
   "source": [
    "x = np.array([1,23,4,5,6,97,2,19,21,5,2,4,3,4,5,2,4,2,5,3,3,3,3])\n",
    "print(\"The Original Array is :\\n\" , x)\n",
    "print(\"The most frequent value is :\\n\", np.bincount(x).argmax())"
   ]
  },
  {
   "cell_type": "markdown",
   "metadata": {},
   "source": [
    "# 14.How to get the n largest values of an array"
   ]
  },
  {
   "cell_type": "code",
   "execution_count": 45,
   "metadata": {},
   "outputs": [
    {
     "name": "stdout",
     "output_type": "stream",
     "text": [
      "[ 0  1  2  3  4  5  6  7  8  9 10 11 12 13 14 15 16 17 18 19 20 21 22 23\n",
      " 24 25 26 27 28 29 30 31 32 33 34 35 36 37 38 39 40 41 42 43 44]\n",
      "[44]\n"
     ]
    }
   ],
   "source": [
    "x=np.arange(45)\n",
    "print(x)\n",
    "np.random.shuffle(x)\n",
    "n=1\n",
    "print(x[np.argsort(x)[-n:]])"
   ]
  },
  {
   "cell_type": "code",
   "execution_count": 46,
   "metadata": {},
   "outputs": [
    {
     "data": {
      "text/plain": [
       "44"
      ]
     },
     "execution_count": 46,
     "metadata": {},
     "output_type": "execute_result"
    }
   ],
   "source": [
    "np.max(x)"
   ]
  },
  {
   "cell_type": "markdown",
   "metadata": {},
   "source": [
    "# 15.How to create a record array from a regular array?"
   ]
  },
  {
   "cell_type": "code",
   "execution_count": 50,
   "metadata": {},
   "outputs": [
    {
     "name": "stdout",
     "output_type": "stream",
     "text": [
      "(9, 'Blue', 15.78)\n",
      "(8, 'Green', 21.)\n",
      "(7, 'yellow', 29.)\n",
      "(5, 'red', 45.)\n"
     ]
    }
   ],
   "source": [
    "a1=np.array([9,8,7,5])\n",
    "a2=np.array(['Blue','Green','yellow','red'])\n",
    "a3=np.array([15.78,21,29,45])\n",
    "result= np.core.records.fromarrays([a1, a2, a3],names='a,b,c')\n",
    "print(result[0])\n",
    "print(result[1])\n",
    "print(result[2])\n",
    "print(result[3])"
   ]
  },
  {
   "cell_type": "code",
   "execution_count": null,
   "metadata": {},
   "outputs": [],
   "source": []
  }
 ],
 "metadata": {
  "kernelspec": {
   "display_name": "Python 3",
   "language": "python",
   "name": "python3"
  },
  "language_info": {
   "codemirror_mode": {
    "name": "ipython",
    "version": 3
   },
   "file_extension": ".py",
   "mimetype": "text/x-python",
   "name": "python",
   "nbconvert_exporter": "python",
   "pygments_lexer": "ipython3",
   "version": "3.7.6"
  }
 },
 "nbformat": 4,
 "nbformat_minor": 2
}
