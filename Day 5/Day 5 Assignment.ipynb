{
 "cells": [
  {
   "cell_type": "code",
   "execution_count": 24,
   "metadata": {},
   "outputs": [
    {
     "name": "stdout",
     "output_type": "stream",
     "text": [
      "How Many prime numbers would you like to print? 20\n",
      "\n",
      "Here are the First 20 non-even prime numbers: \n",
      "\n",
      "3 5 7 11 13 17 19 23 29 31 37 41 43 47 53 59 61 67 71 73 "
     ]
    }
   ],
   "source": [
    "#Question 1 Python Programme to find First 20 no-even prime numbers\n",
    "n = int(input(\"How Many prime numbers would you like to print? \"))\n",
    "nos = range(1, n*10)\n",
    "prime_nos = []\n",
    "\n",
    "for num in nos :\n",
    "    if num > 2 and len(prime_nos) <= n-1:\n",
    "        for i in range(2, num):\n",
    "            if (num % i) == 0:\n",
    "                break\n",
    "        else :\n",
    "            prime_nos.append(num)\n",
    "                \n",
    "print(\"\\nHere are the First\", n , \"non-even prime numbers: \\n\")\n",
    "for x in prime_nos:\n",
    "    print (x, end=\" \")"
   ]
  },
  {
   "cell_type": "code",
   "execution_count": 18,
   "metadata": {},
   "outputs": [
    {
     "name": "stdout",
     "output_type": "stream",
     "text": [
      "<class 'str'>\n",
      "Shubham\n",
      "shubham\n",
      "SHUBHAM\n",
      "SHUBHAM\n",
      "shubham\n",
      "shivam\n",
      "7\n",
      "1\n",
      "h\n",
      "a\n",
      "hubh\n",
      "mahbuhs\n",
      "hubh\n",
      "shubhamshubham\n",
      "shubhamshubham\n",
      "True\n"
     ]
    }
   ],
   "source": [
    "#Question 2 Python program to implement 15 functions of string\n",
    "s = \"shubham\"\n",
    "print(type(s))\n",
    "print(s.capitalize())\n",
    "print(s.casefold())\n",
    "print(s.swapcase())\n",
    "print(s.upper())\n",
    "print(s.lower())\n",
    "print(s.replace(\"ubh\" , \"iv\"))\n",
    "print(len(s))\n",
    "print(s.find(\"h\"))\n",
    "print(s[1])\n",
    "print(s[-2])\n",
    "print(s[1:5])\n",
    "print(s[::-1])\n",
    "print(s[-6:-2])\n",
    "print(s*2)\n",
    "print(s+s)\n",
    "print(s[4]==s[-3])"
   ]
  },
  {
   "cell_type": "code",
   "execution_count": 17,
   "metadata": {},
   "outputs": [
    {
     "name": "stdout",
     "output_type": "stream",
     "text": [
      "Enter 1st string here - madam\n",
      "Yes. The Given String is Palindrome\n",
      "Enter 2nd String Here - adamm\n",
      "Yes. The Strings are anagram\n"
     ]
    }
   ],
   "source": [
    "#Question 3 Python program to check if the given string is a Palindrome or Anagram or None of them.\n",
    "def isPalindrome(s): \n",
    "    return s == s[::-1] \n",
    "  \n",
    "s = str(input(\"Enter 1st string here - \"))\n",
    "ans = isPalindrome(s) \n",
    "  \n",
    "if ans: \n",
    "    print(\"Yes. The Given String is Palindrome\") \n",
    "else: \n",
    "    print(\"No. The Given String is not Palindrome\") \n",
    "    \n",
    "def check(s,s1):\n",
    "    if (sorted(s)==sorted(s1)):\n",
    "        print(\"Yes. The Strings are anagram\")\n",
    "    else :\n",
    "        print(\"No. The Strings are not anagram\")\n",
    "        \n",
    "s1 = str(input(\"Enter 2nd String Here - \"))\n",
    "check(s,s1)"
   ]
  },
  {
   "cell_type": "code",
   "execution_count": 19,
   "metadata": {},
   "outputs": [
    {
     "name": "stdout",
     "output_type": "stream",
     "text": [
      "Enter String Here Dr. Darshan Ingle @AI-ML Trainer\n",
      "Original String : Dr. Darshan Ingle @AI-ML Trainer\n",
      "Resultant List Is = drdarshaningleaimltrainer\n"
     ]
    }
   ],
   "source": [
    "#Question 4 Python's user defined function that removes all the additional characters from the string \n",
    "#and converts it finally to lower case using built-in lower().\n",
    "def n():\n",
    "    bad_chars = ['.' , '@' , '-']\n",
    "    \n",
    "String = str(input(\"Enter String Here \"))\n",
    "print(\"Original String :\" , String)\n",
    "\n",
    "for i in bad_chars:\n",
    "    String = String.replace(i, '')\n",
    "print(\"Resultant List Is =\", str(String.lower()))"
   ]
  }
 ],
 "metadata": {
  "kernelspec": {
   "display_name": "Python 3",
   "language": "python",
   "name": "python3"
  },
  "language_info": {
   "codemirror_mode": {
    "name": "ipython",
    "version": 3
   },
   "file_extension": ".py",
   "mimetype": "text/x-python",
   "name": "python",
   "nbconvert_exporter": "python",
   "pygments_lexer": "ipython3",
   "version": "3.7.6"
  }
 },
 "nbformat": 4,
 "nbformat_minor": 4
}
