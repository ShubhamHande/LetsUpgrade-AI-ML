{
 "cells": [
  {
   "cell_type": "code",
   "execution_count": 3,
   "metadata": {},
   "outputs": [],
   "source": [
    "import pandas as pd"
   ]
  },
  {
   "cell_type": "code",
   "execution_count": 4,
   "metadata": {},
   "outputs": [
    {
     "data": {
      "text/plain": [
       "Index(['Age', 'Attrition', 'BusinessTravel', 'Department', 'DistanceFromHome',\n",
       "       'Education', 'EducationField', 'EmployeeCount', 'EmployeeID', 'Gender',\n",
       "       'JobLevel', 'JobRole', 'MaritalStatus', 'MonthlyIncome',\n",
       "       'NumCompaniesWorked', 'Over18', 'PercentSalaryHike', 'StandardHours',\n",
       "       'StockOptionLevel', 'TotalWorkingYears', 'TrainingTimesLastYear',\n",
       "       'YearsAtCompany', 'YearsSinceLastPromotion', 'YearsWithCurrManager'],\n",
       "      dtype='object')"
      ]
     },
     "execution_count": 4,
     "metadata": {},
     "output_type": "execute_result"
    }
   ],
   "source": [
    "dataset=pd.read_csv(\"general_data.csv\")\n",
    "dataset.columns"
   ]
  },
  {
   "cell_type": "code",
   "execution_count": 8,
   "metadata": {},
   "outputs": [],
   "source": [
    "from sklearn import preprocessing\n",
    "Label_encoder=preprocessing.LabelBinarizer()\n",
    "dataset[\"Attrition\"]=Label_encoder.fit_transform(dataset[\"Attrition\"])"
   ]
  },
  {
   "cell_type": "code",
   "execution_count": 11,
   "metadata": {},
   "outputs": [
    {
     "name": "stdout",
     "output_type": "stream",
     "text": [
      "-0.009730141010179674 0.5182860428050771\n"
     ]
    }
   ],
   "source": [
    "from scipy.stats import pearsonr\n",
    "stats,p=pearsonr(dataset.Attrition,dataset.DistanceFromHome)\n",
    "print(stats,p)"
   ]
  },
  {
   "cell_type": "markdown",
   "metadata": {},
   "source": [
    "__Hypothesis 1__\n",
    "\n",
    "H0(Null Hypothesis) = There is no correlation in between Attrition & Distance From Home\n",
    "\n",
    "Ha(Alternative Hypothesis) = There is correlation in between Attrition & Distance From Home\n",
    "\n",
    "p value = 0.51820.5182860428050771 which is greater than 0.05\n",
    "\n",
    "__Accept H0__\n",
    "\n",
    "Conclusion = There is no correlation in between Attrition & Distance From Home"
   ]
  },
  {
   "cell_type": "code",
   "execution_count": 13,
   "metadata": {
    "scrolled": true
   },
   "outputs": [
    {
     "name": "stdout",
     "output_type": "stream",
     "text": [
      "-0.15920500686577965 1.996801615886744e-26\n"
     ]
    }
   ],
   "source": [
    "stats,p=pearsonr(dataset.Attrition,dataset.Age)\n",
    "print(stats,p)"
   ]
  },
  {
   "cell_type": "markdown",
   "metadata": {},
   "source": [
    "__Hypothesis 2__\n",
    "\n",
    "H0(Null Hypothesis) = There is no correlation in between Attrition & Age\n",
    "\n",
    "Ha(Alternative Hypothesis) = There is correlation in between Attrition & Age\n",
    "\n",
    "p value = 1.996801615886744e-26 which is less than 0.05\n",
    "\n",
    "__Reject H0__\n",
    "\n",
    "Conclusion = There is correlation in between Attrition & Distance From Home"
   ]
  },
  {
   "cell_type": "code",
   "execution_count": 14,
   "metadata": {
    "scrolled": true
   },
   "outputs": [
    {
     "name": "stdout",
     "output_type": "stream",
     "text": [
      "-0.015111167710968713 0.3157293177118575\n"
     ]
    }
   ],
   "source": [
    "stats,p=pearsonr(dataset.Attrition,dataset.Education)\n",
    "print(stats,p)"
   ]
  },
  {
   "cell_type": "markdown",
   "metadata": {},
   "source": [
    "__Hypothesis 3__\n",
    "\n",
    "H0(Null Hypothesis) = There is no correlation in between Attrition & Education\n",
    "\n",
    "Ha(Alternative Hypothesis) = There is correlation in between Attrition & Education\n",
    "\n",
    "p value = 0.3157293177118575 which is greater than 0.05\n",
    "\n",
    "__Accept H0__\n",
    "\n",
    "Conclusion = There is no correlation in between Attrition & Education"
   ]
  },
  {
   "cell_type": "code",
   "execution_count": 19,
   "metadata": {},
   "outputs": [
    {
     "name": "stdout",
     "output_type": "stream",
     "text": [
      "0.03253259489105349 0.030743386433355353\n"
     ]
    }
   ],
   "source": [
    "stats,p=pearsonr(dataset.Attrition,dataset.PercentSalaryHike)\n",
    "print(stats,p)"
   ]
  },
  {
   "cell_type": "markdown",
   "metadata": {},
   "source": [
    "__Hypothesis 4__\n",
    "\n",
    "H0(Null Hypothesis) = There is no correlation in between Attrition & PercentSalaryHike\n",
    "\n",
    "Ha(Alternative Hypothesis) = There is correlation in between Attrition & PercentSalaryHike\n",
    "\n",
    "p value = 0.030743386433355353 which is less than 0.05\n",
    "\n",
    "__Reject H0__\n",
    "\n",
    "Conclusion = There is correlation in between Attrition & PercentSalaryHike"
   ]
  },
  {
   "cell_type": "code",
   "execution_count": 20,
   "metadata": {},
   "outputs": [
    {
     "name": "stdout",
     "output_type": "stream",
     "text": [
      "-0.1343922139899772 3.1638831224877484e-19\n"
     ]
    }
   ],
   "source": [
    "stats,p=pearsonr(dataset.Attrition,dataset.YearsAtCompany)\n",
    "print(stats,p)"
   ]
  },
  {
   "cell_type": "markdown",
   "metadata": {},
   "source": [
    "__Hypothesis 5__\n",
    "\n",
    "H0(Null Hypothesis) = There is no correlation in between Attrition & YearsAtCompany\n",
    "\n",
    "Ha(Alternative Hypothesis) = There is correlation in between Attrition & YearsAtCompany\n",
    "\n",
    "p value = 3.1638831224877484e-19 which is less than 0.05\n",
    "\n",
    "__Reject H0__\n",
    "\n",
    "Conclusion = There is correlation in between Attrition & YearsAtCompany"
   ]
  },
  {
   "cell_type": "code",
   "execution_count": 22,
   "metadata": {},
   "outputs": [
    {
     "name": "stdout",
     "output_type": "stream",
     "text": [
      "-0.03301877514258434 0.028330336189396753\n"
     ]
    }
   ],
   "source": [
    "stats,p=pearsonr(dataset.Attrition,dataset.YearsSinceLastPromotion)\n",
    "print(stats,p)"
   ]
  },
  {
   "cell_type": "markdown",
   "metadata": {},
   "source": [
    "__Hypothesis 6__\n",
    "\n",
    "H0(Null Hypothesis) = There is no correlation in between Attrition & YearsSinceLastPromotion\n",
    "\n",
    "Ha(Alternative Hypothesis) = There is correlation in between Attrition & YearsSinceLastPromotion\n",
    "\n",
    "p value = 0.028330336189396753 which is less than 0.05\n",
    "\n",
    "__Reject H0__\n",
    "\n",
    "Conclusion = There is correlation in between Attrition & YearsSinceLastPromotion"
   ]
  },
  {
   "cell_type": "code",
   "execution_count": 24,
   "metadata": {},
   "outputs": [
    {
     "name": "stdout",
     "output_type": "stream",
     "text": [
      "-0.15619931590162847 1.7339322652896276e-25\n"
     ]
    }
   ],
   "source": [
    "stats,p=pearsonr(dataset.Attrition,dataset.YearsWithCurrManager)\n",
    "print(stats,p)"
   ]
  },
  {
   "cell_type": "markdown",
   "metadata": {},
   "source": [
    "__Hypothesis 7__\n",
    "\n",
    "H0(Null Hypothesis) = There is no correlation in between Attrition & YearsWithCurrManager\n",
    "\n",
    "Ha(Alternative Hypothesis) = There is correlation in between Attrition & YearsWithCurrManager\n",
    "\n",
    "p value = 1.7339322652896276e-25 which is less than 0.05\n",
    "\n",
    "__Reject H0__\n",
    "\n",
    "Conclusion = There is correlation in between Attrition & YearsWithCurrManager"
   ]
  },
  {
   "cell_type": "code",
   "execution_count": 25,
   "metadata": {},
   "outputs": [
    {
     "name": "stdout",
     "output_type": "stream",
     "text": [
      "-0.031176281698115007 0.03842748490600132\n"
     ]
    }
   ],
   "source": [
    "stats,p=pearsonr(dataset.Attrition,dataset.MonthlyIncome)\n",
    "print(stats,p)"
   ]
  },
  {
   "cell_type": "markdown",
   "metadata": {},
   "source": [
    "__Hypothesis 8__\n",
    "\n",
    "H0(Null Hypothesis) = There is no correlation in between Attrition & MonthlyIncome\n",
    "\n",
    "Ha(Alternative Hypothesis) = There is correlation in between Attrition & MonthlyIncome\n",
    "\n",
    "p value = 0.03842748490600132 which is less than 0.05\n",
    "\n",
    "__Reject H0__\n",
    "\n",
    "Conclusion = There is correlation in between Attrition & MonthlyIncome"
   ]
  }
 ],
 "metadata": {
  "kernelspec": {
   "display_name": "Python 3",
   "language": "python",
   "name": "python3"
  },
  "language_info": {
   "codemirror_mode": {
    "name": "ipython",
    "version": 3
   },
   "file_extension": ".py",
   "mimetype": "text/x-python",
   "name": "python",
   "nbconvert_exporter": "python",
   "pygments_lexer": "ipython3",
   "version": "3.7.6"
  }
 },
 "nbformat": 4,
 "nbformat_minor": 4
}
