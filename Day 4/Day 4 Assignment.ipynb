{
 "cells": [
  {
   "cell_type": "code",
   "execution_count": 31,
   "metadata": {},
   "outputs": [
    {
     "name": "stdout",
     "output_type": "stream",
     "text": [
      "87j\n",
      "7j\n",
      "(-1880+0j)\n",
      "(1.175+0j)\n",
      "47.0\n",
      "40.0\n"
     ]
    }
   ],
   "source": [
    "#Question 1\n",
    "a = 47j\n",
    "b = 40j\n",
    "c = a+b\n",
    "d = a-b\n",
    "e = a*b\n",
    "f = a/b\n",
    "#floor division of Complex no. cannot be done\n",
    "g = abs(a)\n",
    "h = abs(b)\n",
    "\n",
    "print(c)\n",
    "print(d)\n",
    "print(e)\n",
    "print(f)\n",
    "print(g)\n",
    "print(h)"
   ]
  },
  {
   "cell_type": "markdown",
   "metadata": {},
   "source": [
    "# Question 2\n",
    "Range Function is the function which is used to give specified range in syntax.\n",
    "\n",
    "Start Index(SI)\n",
    "\n",
    "End Index(EI) : EI-1 will be done\n",
    "\n",
    "Range function is defined in following ways :-\n",
    "\n",
    "1.range(n) ==> 0 to n-1\n",
    "\n",
    "2.range(Start Index, End Index) ==> SI to (EI-1)\n",
    "\n",
    "3.range(SI,EI,Stepside) ==> SI to (EI-1) with specified stepside"
   ]
  },
  {
   "cell_type": "code",
   "execution_count": 45,
   "metadata": {},
   "outputs": [
    {
     "name": "stdout",
     "output_type": "stream",
     "text": [
      "0 1 2 3 4 "
     ]
    }
   ],
   "source": [
    "range(5)\n",
    "for i in range(5):\n",
    "    print(i,end=\" \")\n",
    "\n"
   ]
  },
  {
   "cell_type": "code",
   "execution_count": 46,
   "metadata": {},
   "outputs": [
    {
     "name": "stdout",
     "output_type": "stream",
     "text": [
      "2\n",
      "3\n",
      "4\n",
      "5\n",
      "6\n",
      "7\n",
      "8\n",
      "9\n"
     ]
    }
   ],
   "source": [
    "for i in range(2,10):\n",
    "    print(i)"
   ]
  },
  {
   "cell_type": "code",
   "execution_count": 47,
   "metadata": {},
   "outputs": [
    {
     "name": "stdout",
     "output_type": "stream",
     "text": [
      "2\n",
      "5\n",
      "8\n"
     ]
    }
   ],
   "source": [
    "for i in range(2,10,3):\n",
    "    print(i)"
   ]
  },
  {
   "cell_type": "code",
   "execution_count": 9,
   "metadata": {},
   "outputs": [
    {
     "name": "stdout",
     "output_type": "stream",
     "text": [
      "1000\n"
     ]
    }
   ],
   "source": [
    "#Question 3\n",
    "a = 20\n",
    "b = 50\n",
    "c = b - a\n",
    "if c>=25:\n",
    "    print(b*a)\n",
    "else :\n",
    "    print(b/a)"
   ]
  },
  {
   "cell_type": "code",
   "execution_count": 15,
   "metadata": {},
   "outputs": [
    {
     "name": "stdout",
     "output_type": "stream",
     "text": [
      "98\n",
      "The no. is not divisible by 2\n",
      "142\n",
      "The no. is not divisible by 2\n",
      "194\n",
      "The no. is not divisible by 2\n",
      "254\n",
      "The no. is not divisible by 2\n",
      "322\n",
      "The no. is not divisible by 2\n"
     ]
    }
   ],
   "source": [
    "#Question 4\n",
    "n = [10,11,12,13,14,15,16,17,18,19]\n",
    "for i in n:\n",
    "    if i%2==0:\n",
    "        print((i*i)-2)\n",
    "    else :\n",
    "        print(\"The no. is not divisible by 2\")\n",
    "        \n",
    "    "
   ]
  },
  {
   "cell_type": "code",
   "execution_count": 20,
   "metadata": {},
   "outputs": [
    {
     "name": "stdout",
     "output_type": "stream",
     "text": [
      "The no. is less than 7 after divided by 2\n",
      "The no. is less than 7 after divided by 2\n",
      "The no. is less than 7 after divided by 2\n",
      "The no. is less than 7 after divided by 2\n",
      "The no. is less than 7 after divided by 2\n",
      "7.5\n",
      "8.0\n",
      "8.5\n",
      "9.0\n",
      "9.5\n"
     ]
    }
   ],
   "source": [
    "#Question 5\n",
    "n = [10,11,12,13,14,15,16,17,18,19]\n",
    "for i in n:\n",
    "    a = i/2\n",
    "    if a>7:\n",
    "        print(a)\n",
    "    else :\n",
    "        print(\"The no. is less than 7 after divided by 2\")"
   ]
  }
 ],
 "metadata": {
  "kernelspec": {
   "display_name": "Python 3",
   "language": "python",
   "name": "python3"
  },
  "language_info": {
   "codemirror_mode": {
    "name": "ipython",
    "version": 3
   },
   "file_extension": ".py",
   "mimetype": "text/x-python",
   "name": "python",
   "nbconvert_exporter": "python",
   "pygments_lexer": "ipython3",
   "version": "3.7.6"
  }
 },
 "nbformat": 4,
 "nbformat_minor": 4
}
