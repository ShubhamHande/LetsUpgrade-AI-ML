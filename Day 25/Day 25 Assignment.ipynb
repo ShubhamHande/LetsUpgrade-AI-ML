{
 "cells": [
  {
   "cell_type": "markdown",
   "metadata": {},
   "source": [
    "# Naive Bayes Algorithm Assignment"
   ]
  },
  {
   "cell_type": "code",
   "execution_count": 1,
   "metadata": {},
   "outputs": [],
   "source": [
    "import pandas as pd\n",
    "from sklearn import preprocessing"
   ]
  },
  {
   "cell_type": "code",
   "execution_count": 2,
   "metadata": {},
   "outputs": [
    {
     "data": {
      "text/plain": [
       "Index(['PassengerId', 'Survived', 'Pclass', 'Name', 'Sex', 'Age', 'SibSp',\n",
       "       'Parch', 'Ticket', 'Fare', 'Cabin', 'Embarked'],\n",
       "      dtype='object')"
      ]
     },
     "execution_count": 2,
     "metadata": {},
     "output_type": "execute_result"
    }
   ],
   "source": [
    "dataset = pd.read_csv(\"H:/Shubham Coding/Classwork/Day 21 to/Day 24/train.csv\")\n",
    "dataset.columns"
   ]
  },
  {
   "cell_type": "code",
   "execution_count": 3,
   "metadata": {},
   "outputs": [],
   "source": [
    "from sklearn.model_selection import train_test_split"
   ]
  },
  {
   "cell_type": "code",
   "execution_count": 5,
   "metadata": {},
   "outputs": [],
   "source": [
    "le = preprocessing.LabelEncoder()\n",
    "dataset[\"Sex\"] = le.fit_transform(dataset[\"Sex\"])\n",
    "dataset[\"Embarked\"] = le.fit_transform(dataset[\"Embarked\"])"
   ]
  },
  {
   "cell_type": "code",
   "execution_count": 7,
   "metadata": {},
   "outputs": [
    {
     "name": "stdout",
     "output_type": "stream",
     "text": [
      "The accuracy value when DV is Pclass is 0.5917602996254682\n",
      "The confusion matrix when DV is Pclass is [[ 30   8  32]\n",
      " [  9  10  30]\n",
      " [ 24   6 118]]\n",
      "The accuracy value when DV is Sex is 0.7453183520599251\n",
      "The confusion matrix when DV is Sex is [[ 49  49]\n",
      " [ 19 150]]\n",
      "The accuracy value when DV is SibSp is 0.6891385767790262\n",
      "The confusion matrix when DV is SibSp is [[162  20   0   0   0   0   0]\n",
      " [ 43  22   0   0   0   0   0]\n",
      " [  6   2   0   0   0   0   0]\n",
      " [  5   2   0   0   0   0   0]\n",
      " [  2   0   0   0   0   0   0]\n",
      " [  1   0   0   0   0   0   0]\n",
      " [  2   0   0   0   0   0   0]]\n",
      "The accuracy value when DV is Parch is 0.7153558052434457\n",
      "The confusion matrix when DV is Parch is [[182  16   0   0   0]\n",
      " [ 31   9   0   0   0]\n",
      " [ 24   3   0   0   0]\n",
      " [  1   0   0   0   0]\n",
      " [  1   0   0   0   0]]\n",
      "The accuracy value when DV is Embarked is 0.7340823970037453\n",
      "The confusion matrix when DV is Embarked is [[  0   0  49]\n",
      " [  0   0  22]\n",
      " [  0   0 196]]\n"
     ]
    }
   ],
   "source": [
    "i =[\"Pclass\",\"Sex\",\"SibSp\",\"Parch\",\"Embarked\"]\n",
    "for features in i:\n",
    "    y=dataset[features]\n",
    "    X=dataset.drop([\"PassengerId\",features,\"Name\",\"Ticket\",\"Cabin\"],axis=1)\n",
    "    X_train,X_test,y_train,y_test=train_test_split(X,y,test_size=0.3,random_state=0)\n",
    "    from sklearn.naive_bayes import *\n",
    "    from sklearn.metrics import accuracy_score,confusion_matrix\n",
    "    clf = BernoulliNB()\n",
    "    y_pred = clf.fit(X_train,y_train).predict(X_test)\n",
    "    Acc_value = accuracy_score(y_test,y_pred,normalize=True)\n",
    "    conf_mat = confusion_matrix(y_test,y_pred)\n",
    "    print(\"The accuracy value when DV is\",features,\"is\",Acc_value)\n",
    "    print(\"The confusion matrix when DV is\",features, \"is\",conf_mat)"
   ]
  }
 ],
 "metadata": {
  "kernelspec": {
   "display_name": "Python 3",
   "language": "python",
   "name": "python3"
  },
  "language_info": {
   "codemirror_mode": {
    "name": "ipython",
    "version": 3
   },
   "file_extension": ".py",
   "mimetype": "text/x-python",
   "name": "python",
   "nbconvert_exporter": "python",
   "pygments_lexer": "ipython3",
   "version": "3.7.6"
  }
 },
 "nbformat": 4,
 "nbformat_minor": 4
}
