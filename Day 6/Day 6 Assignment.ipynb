{
 "cells": [
  {
   "cell_type": "code",
   "execution_count": 1,
   "metadata": {},
   "outputs": [
    {
     "name": "stdout",
     "output_type": "stream",
     "text": [
      "handeshubham@gmail.com\n",
      "gmail\n"
     ]
    }
   ],
   "source": [
    "#Question 1\n",
    "print(input().split(\"@\")[1].split(\".\")[0])\n"
   ]
  },
  {
   "cell_type": "code",
   "execution_count": null,
   "metadata": {},
   "outputs": [],
   "source": [
    "#Question 2\n",
    "#Write a program that accepts a comma-separated sequence of words as input and prints the words in a comma\n",
    "# separated sequence after sorting them alphabetically.\n",
    "l = input(\"enter words here\")\n",
    "print(sorted(l))"
   ]
  },
  {
   "cell_type": "code",
   "execution_count": 3,
   "metadata": {},
   "outputs": [
    {
     "name": "stdout",
     "output_type": "stream",
     "text": [
      "{'fire', 'ball', 'apple'}\n"
     ]
    }
   ],
   "source": [
    "#Question 3\n",
    "# Create your own Jupyter Notebook for Sets.\n",
    "# Reference link: https://www.w3schools.com/python/python_sets.asp\n",
    "set = {\"ball\", \"fire\", \"apple\"}\n",
    "print(set)"
   ]
  },
  {
   "cell_type": "code",
   "execution_count": 15,
   "metadata": {},
   "outputs": [
    {
     "name": "stdout",
     "output_type": "stream",
     "text": [
      "[3, 5, 8]\n"
     ]
    }
   ],
   "source": [
    "#Question 4\n",
    "# Given a list of n-1 numbers ranging from 1 to n, your task is to find the missing number. There are no duplicates\n",
    "def find_missing(lst): \n",
    "    return [i for x, y in zip(lst, lst[1:])  \n",
    "        for i in range(x + 1, y) if y - x > 1] \n",
    "  \n",
    "# Driver code \n",
    "lst = [1, 2, 4, 6, 7, 9, 10] \n",
    "print(find_missing(lst)) \n"
   ]
  },
  {
   "cell_type": "code",
   "execution_count": 5,
   "metadata": {},
   "outputs": [
    {
     "name": "stdout",
     "output_type": "stream",
     "text": [
      "5.0\n"
     ]
    }
   ],
   "source": [
    "#Question 4 - 2nd Step\n",
    "def getMissingNo(A):\n",
    "    n = len(A)\n",
    "    total =(n+1)*(n+2)/2\n",
    "    sum_of_A = sum(A)\n",
    "    return total - sum_of_A\n",
    "\n",
    "A = [1,2,3,4,6]\n",
    "miss = getMissingNo(A)\n",
    "print(miss)"
   ]
  },
  {
   "cell_type": "code",
   "execution_count": 38,
   "metadata": {},
   "outputs": [
    {
     "name": "stdout",
     "output_type": "stream",
     "text": [
      "1 2 3 4 5 6 7 8 9 4 5 6 7 8 9\n",
      "1 2 3 4 5 6 7 8 9\n"
     ]
    }
   ],
   "source": [
    "#Question 5 \n",
    "#With a given list L, write a program to print this list L after removing all duplicate values with original order reserved\n",
    "l = list(map(int, input().strip().split()))\n",
    "\n",
    "x = sorted(set(l))\n",
    "x = list(map(str, x))\n",
    "\n",
    "print(' '.join(x))"
   ]
  }
 ],
 "metadata": {
  "kernelspec": {
   "display_name": "Python 3",
   "language": "python",
   "name": "python3"
  },
  "language_info": {
   "codemirror_mode": {
    "name": "ipython",
    "version": 3
   },
   "file_extension": ".py",
   "mimetype": "text/x-python",
   "name": "python",
   "nbconvert_exporter": "python",
   "pygments_lexer": "ipython3",
   "version": "3.7.6"
  }
 },
 "nbformat": 4,
 "nbformat_minor": 4
}
